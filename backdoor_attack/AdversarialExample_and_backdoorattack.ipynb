{
  "nbformat": 4,
  "nbformat_minor": 0,
  "metadata": {
    "colab": {
      "name": "Adversarial_Attacks_on_Deep_Learning_Models.ipynb",
      "provenance": [],
      "collapsed_sections": [],
      "toc_visible": true
    },
    "kernelspec": {
      "name": "python3",
      "display_name": "Python 3"
    },
    "language_info": {
      "name": "python"
    },
    "accelerator": "GPU",
    "widgets": {
      "application/vnd.jupyter.widget-state+json": {
        "07a23ee9b32c43a98f41a9fbf6031c1a": {
          "model_module": "@jupyter-widgets/controls",
          "model_name": "HBoxModel",
          "state": {
            "_view_name": "HBoxView",
            "_dom_classes": [],
            "_model_name": "HBoxModel",
            "_view_module": "@jupyter-widgets/controls",
            "_model_module_version": "1.5.0",
            "_view_count": null,
            "_view_module_version": "1.5.0",
            "box_style": "",
            "layout": "IPY_MODEL_8d44e7ae888f4ab0924d0171444833b4",
            "_model_module": "@jupyter-widgets/controls",
            "children": [
              "IPY_MODEL_9edef54020c042f2a7d8ded58d5920f4",
              "IPY_MODEL_a397b1f122eb4acbbb4742c10a9a4d71"
            ]
          }
        },
        "8d44e7ae888f4ab0924d0171444833b4": {
          "model_module": "@jupyter-widgets/base",
          "model_name": "LayoutModel",
          "state": {
            "_view_name": "LayoutView",
            "grid_template_rows": null,
            "right": null,
            "justify_content": null,
            "_view_module": "@jupyter-widgets/base",
            "overflow": null,
            "_model_module_version": "1.2.0",
            "_view_count": null,
            "flex_flow": null,
            "width": null,
            "min_width": null,
            "border": null,
            "align_items": null,
            "bottom": null,
            "_model_module": "@jupyter-widgets/base",
            "top": null,
            "grid_column": null,
            "overflow_y": null,
            "overflow_x": null,
            "grid_auto_flow": null,
            "grid_area": null,
            "grid_template_columns": null,
            "flex": null,
            "_model_name": "LayoutModel",
            "justify_items": null,
            "grid_row": null,
            "max_height": null,
            "align_content": null,
            "visibility": null,
            "align_self": null,
            "height": null,
            "min_height": null,
            "padding": null,
            "grid_auto_rows": null,
            "grid_gap": null,
            "max_width": null,
            "order": null,
            "_view_module_version": "1.2.0",
            "grid_template_areas": null,
            "object_position": null,
            "object_fit": null,
            "grid_auto_columns": null,
            "margin": null,
            "display": null,
            "left": null
          }
        },
        "9edef54020c042f2a7d8ded58d5920f4": {
          "model_module": "@jupyter-widgets/controls",
          "model_name": "FloatProgressModel",
          "state": {
            "_view_name": "ProgressView",
            "style": "IPY_MODEL_ec3d622db67b4a04be935ee2c46985a1",
            "_dom_classes": [],
            "description": "",
            "_model_name": "FloatProgressModel",
            "bar_style": "success",
            "max": 26421880,
            "_view_module": "@jupyter-widgets/controls",
            "_model_module_version": "1.5.0",
            "value": 26421880,
            "_view_count": null,
            "_view_module_version": "1.5.0",
            "orientation": "horizontal",
            "min": 0,
            "description_tooltip": null,
            "_model_module": "@jupyter-widgets/controls",
            "layout": "IPY_MODEL_61aac0d17f95437fac628bdeb2b07f4e"
          }
        },
        "a397b1f122eb4acbbb4742c10a9a4d71": {
          "model_module": "@jupyter-widgets/controls",
          "model_name": "HTMLModel",
          "state": {
            "_view_name": "HTMLView",
            "style": "IPY_MODEL_4b8b7e6a11084b1eb13dbf0554bcec4f",
            "_dom_classes": [],
            "description": "",
            "_model_name": "HTMLModel",
            "placeholder": "​",
            "_view_module": "@jupyter-widgets/controls",
            "_model_module_version": "1.5.0",
            "value": " 26422272/? [02:16&lt;00:00, 193697.35it/s]",
            "_view_count": null,
            "_view_module_version": "1.5.0",
            "description_tooltip": null,
            "_model_module": "@jupyter-widgets/controls",
            "layout": "IPY_MODEL_4246d96ce8c843e0bb1170568851d5d9"
          }
        },
        "ec3d622db67b4a04be935ee2c46985a1": {
          "model_module": "@jupyter-widgets/controls",
          "model_name": "ProgressStyleModel",
          "state": {
            "_view_name": "StyleView",
            "_model_name": "ProgressStyleModel",
            "description_width": "initial",
            "_view_module": "@jupyter-widgets/base",
            "_model_module_version": "1.5.0",
            "_view_count": null,
            "_view_module_version": "1.2.0",
            "bar_color": null,
            "_model_module": "@jupyter-widgets/controls"
          }
        },
        "61aac0d17f95437fac628bdeb2b07f4e": {
          "model_module": "@jupyter-widgets/base",
          "model_name": "LayoutModel",
          "state": {
            "_view_name": "LayoutView",
            "grid_template_rows": null,
            "right": null,
            "justify_content": null,
            "_view_module": "@jupyter-widgets/base",
            "overflow": null,
            "_model_module_version": "1.2.0",
            "_view_count": null,
            "flex_flow": null,
            "width": null,
            "min_width": null,
            "border": null,
            "align_items": null,
            "bottom": null,
            "_model_module": "@jupyter-widgets/base",
            "top": null,
            "grid_column": null,
            "overflow_y": null,
            "overflow_x": null,
            "grid_auto_flow": null,
            "grid_area": null,
            "grid_template_columns": null,
            "flex": null,
            "_model_name": "LayoutModel",
            "justify_items": null,
            "grid_row": null,
            "max_height": null,
            "align_content": null,
            "visibility": null,
            "align_self": null,
            "height": null,
            "min_height": null,
            "padding": null,
            "grid_auto_rows": null,
            "grid_gap": null,
            "max_width": null,
            "order": null,
            "_view_module_version": "1.2.0",
            "grid_template_areas": null,
            "object_position": null,
            "object_fit": null,
            "grid_auto_columns": null,
            "margin": null,
            "display": null,
            "left": null
          }
        },
        "4b8b7e6a11084b1eb13dbf0554bcec4f": {
          "model_module": "@jupyter-widgets/controls",
          "model_name": "DescriptionStyleModel",
          "state": {
            "_view_name": "StyleView",
            "_model_name": "DescriptionStyleModel",
            "description_width": "",
            "_view_module": "@jupyter-widgets/base",
            "_model_module_version": "1.5.0",
            "_view_count": null,
            "_view_module_version": "1.2.0",
            "_model_module": "@jupyter-widgets/controls"
          }
        },
        "4246d96ce8c843e0bb1170568851d5d9": {
          "model_module": "@jupyter-widgets/base",
          "model_name": "LayoutModel",
          "state": {
            "_view_name": "LayoutView",
            "grid_template_rows": null,
            "right": null,
            "justify_content": null,
            "_view_module": "@jupyter-widgets/base",
            "overflow": null,
            "_model_module_version": "1.2.0",
            "_view_count": null,
            "flex_flow": null,
            "width": null,
            "min_width": null,
            "border": null,
            "align_items": null,
            "bottom": null,
            "_model_module": "@jupyter-widgets/base",
            "top": null,
            "grid_column": null,
            "overflow_y": null,
            "overflow_x": null,
            "grid_auto_flow": null,
            "grid_area": null,
            "grid_template_columns": null,
            "flex": null,
            "_model_name": "LayoutModel",
            "justify_items": null,
            "grid_row": null,
            "max_height": null,
            "align_content": null,
            "visibility": null,
            "align_self": null,
            "height": null,
            "min_height": null,
            "padding": null,
            "grid_auto_rows": null,
            "grid_gap": null,
            "max_width": null,
            "order": null,
            "_view_module_version": "1.2.0",
            "grid_template_areas": null,
            "object_position": null,
            "object_fit": null,
            "grid_auto_columns": null,
            "margin": null,
            "display": null,
            "left": null
          }
        },
        "b9e1622e3f054fefb97b91eeb7015aec": {
          "model_module": "@jupyter-widgets/controls",
          "model_name": "HBoxModel",
          "state": {
            "_view_name": "HBoxView",
            "_dom_classes": [],
            "_model_name": "HBoxModel",
            "_view_module": "@jupyter-widgets/controls",
            "_model_module_version": "1.5.0",
            "_view_count": null,
            "_view_module_version": "1.5.0",
            "box_style": "",
            "layout": "IPY_MODEL_fe9af07825374a5b8bda929f8c79333a",
            "_model_module": "@jupyter-widgets/controls",
            "children": [
              "IPY_MODEL_f134f885f1454b10b77d5a10934793dc",
              "IPY_MODEL_7dc506abafe947e7ae34a54257a7d525"
            ]
          }
        },
        "fe9af07825374a5b8bda929f8c79333a": {
          "model_module": "@jupyter-widgets/base",
          "model_name": "LayoutModel",
          "state": {
            "_view_name": "LayoutView",
            "grid_template_rows": null,
            "right": null,
            "justify_content": null,
            "_view_module": "@jupyter-widgets/base",
            "overflow": null,
            "_model_module_version": "1.2.0",
            "_view_count": null,
            "flex_flow": null,
            "width": null,
            "min_width": null,
            "border": null,
            "align_items": null,
            "bottom": null,
            "_model_module": "@jupyter-widgets/base",
            "top": null,
            "grid_column": null,
            "overflow_y": null,
            "overflow_x": null,
            "grid_auto_flow": null,
            "grid_area": null,
            "grid_template_columns": null,
            "flex": null,
            "_model_name": "LayoutModel",
            "justify_items": null,
            "grid_row": null,
            "max_height": null,
            "align_content": null,
            "visibility": null,
            "align_self": null,
            "height": null,
            "min_height": null,
            "padding": null,
            "grid_auto_rows": null,
            "grid_gap": null,
            "max_width": null,
            "order": null,
            "_view_module_version": "1.2.0",
            "grid_template_areas": null,
            "object_position": null,
            "object_fit": null,
            "grid_auto_columns": null,
            "margin": null,
            "display": null,
            "left": null
          }
        },
        "f134f885f1454b10b77d5a10934793dc": {
          "model_module": "@jupyter-widgets/controls",
          "model_name": "FloatProgressModel",
          "state": {
            "_view_name": "ProgressView",
            "style": "IPY_MODEL_6c90aa18700e4ac0ba64797be24344cb",
            "_dom_classes": [],
            "description": "",
            "_model_name": "FloatProgressModel",
            "bar_style": "success",
            "max": 29515,
            "_view_module": "@jupyter-widgets/controls",
            "_model_module_version": "1.5.0",
            "value": 29515,
            "_view_count": null,
            "_view_module_version": "1.5.0",
            "orientation": "horizontal",
            "min": 0,
            "description_tooltip": null,
            "_model_module": "@jupyter-widgets/controls",
            "layout": "IPY_MODEL_b419ad30403e4a299743d513493098d3"
          }
        },
        "7dc506abafe947e7ae34a54257a7d525": {
          "model_module": "@jupyter-widgets/controls",
          "model_name": "HTMLModel",
          "state": {
            "_view_name": "HTMLView",
            "style": "IPY_MODEL_efbf56053d3748b199cdc3b2b16438f4",
            "_dom_classes": [],
            "description": "",
            "_model_name": "HTMLModel",
            "placeholder": "​",
            "_view_module": "@jupyter-widgets/controls",
            "_model_module_version": "1.5.0",
            "value": " 29696/? [00:01&lt;00:00, 21178.16it/s]",
            "_view_count": null,
            "_view_module_version": "1.5.0",
            "description_tooltip": null,
            "_model_module": "@jupyter-widgets/controls",
            "layout": "IPY_MODEL_0f374dcef71a479fb7885bad58b529e9"
          }
        },
        "6c90aa18700e4ac0ba64797be24344cb": {
          "model_module": "@jupyter-widgets/controls",
          "model_name": "ProgressStyleModel",
          "state": {
            "_view_name": "StyleView",
            "_model_name": "ProgressStyleModel",
            "description_width": "initial",
            "_view_module": "@jupyter-widgets/base",
            "_model_module_version": "1.5.0",
            "_view_count": null,
            "_view_module_version": "1.2.0",
            "bar_color": null,
            "_model_module": "@jupyter-widgets/controls"
          }
        },
        "b419ad30403e4a299743d513493098d3": {
          "model_module": "@jupyter-widgets/base",
          "model_name": "LayoutModel",
          "state": {
            "_view_name": "LayoutView",
            "grid_template_rows": null,
            "right": null,
            "justify_content": null,
            "_view_module": "@jupyter-widgets/base",
            "overflow": null,
            "_model_module_version": "1.2.0",
            "_view_count": null,
            "flex_flow": null,
            "width": null,
            "min_width": null,
            "border": null,
            "align_items": null,
            "bottom": null,
            "_model_module": "@jupyter-widgets/base",
            "top": null,
            "grid_column": null,
            "overflow_y": null,
            "overflow_x": null,
            "grid_auto_flow": null,
            "grid_area": null,
            "grid_template_columns": null,
            "flex": null,
            "_model_name": "LayoutModel",
            "justify_items": null,
            "grid_row": null,
            "max_height": null,
            "align_content": null,
            "visibility": null,
            "align_self": null,
            "height": null,
            "min_height": null,
            "padding": null,
            "grid_auto_rows": null,
            "grid_gap": null,
            "max_width": null,
            "order": null,
            "_view_module_version": "1.2.0",
            "grid_template_areas": null,
            "object_position": null,
            "object_fit": null,
            "grid_auto_columns": null,
            "margin": null,
            "display": null,
            "left": null
          }
        },
        "efbf56053d3748b199cdc3b2b16438f4": {
          "model_module": "@jupyter-widgets/controls",
          "model_name": "DescriptionStyleModel",
          "state": {
            "_view_name": "StyleView",
            "_model_name": "DescriptionStyleModel",
            "description_width": "",
            "_view_module": "@jupyter-widgets/base",
            "_model_module_version": "1.5.0",
            "_view_count": null,
            "_view_module_version": "1.2.0",
            "_model_module": "@jupyter-widgets/controls"
          }
        },
        "0f374dcef71a479fb7885bad58b529e9": {
          "model_module": "@jupyter-widgets/base",
          "model_name": "LayoutModel",
          "state": {
            "_view_name": "LayoutView",
            "grid_template_rows": null,
            "right": null,
            "justify_content": null,
            "_view_module": "@jupyter-widgets/base",
            "overflow": null,
            "_model_module_version": "1.2.0",
            "_view_count": null,
            "flex_flow": null,
            "width": null,
            "min_width": null,
            "border": null,
            "align_items": null,
            "bottom": null,
            "_model_module": "@jupyter-widgets/base",
            "top": null,
            "grid_column": null,
            "overflow_y": null,
            "overflow_x": null,
            "grid_auto_flow": null,
            "grid_area": null,
            "grid_template_columns": null,
            "flex": null,
            "_model_name": "LayoutModel",
            "justify_items": null,
            "grid_row": null,
            "max_height": null,
            "align_content": null,
            "visibility": null,
            "align_self": null,
            "height": null,
            "min_height": null,
            "padding": null,
            "grid_auto_rows": null,
            "grid_gap": null,
            "max_width": null,
            "order": null,
            "_view_module_version": "1.2.0",
            "grid_template_areas": null,
            "object_position": null,
            "object_fit": null,
            "grid_auto_columns": null,
            "margin": null,
            "display": null,
            "left": null
          }
        },
        "81e8a11ccea94d6081b21f926586a0c4": {
          "model_module": "@jupyter-widgets/controls",
          "model_name": "HBoxModel",
          "state": {
            "_view_name": "HBoxView",
            "_dom_classes": [],
            "_model_name": "HBoxModel",
            "_view_module": "@jupyter-widgets/controls",
            "_model_module_version": "1.5.0",
            "_view_count": null,
            "_view_module_version": "1.5.0",
            "box_style": "",
            "layout": "IPY_MODEL_c231601d42be4e58a13467a99a4c1274",
            "_model_module": "@jupyter-widgets/controls",
            "children": [
              "IPY_MODEL_8d001f3897014c648fca66ab3fd36646",
              "IPY_MODEL_b7d37fa95e82467d8bad445913ec87d5"
            ]
          }
        },
        "c231601d42be4e58a13467a99a4c1274": {
          "model_module": "@jupyter-widgets/base",
          "model_name": "LayoutModel",
          "state": {
            "_view_name": "LayoutView",
            "grid_template_rows": null,
            "right": null,
            "justify_content": null,
            "_view_module": "@jupyter-widgets/base",
            "overflow": null,
            "_model_module_version": "1.2.0",
            "_view_count": null,
            "flex_flow": null,
            "width": null,
            "min_width": null,
            "border": null,
            "align_items": null,
            "bottom": null,
            "_model_module": "@jupyter-widgets/base",
            "top": null,
            "grid_column": null,
            "overflow_y": null,
            "overflow_x": null,
            "grid_auto_flow": null,
            "grid_area": null,
            "grid_template_columns": null,
            "flex": null,
            "_model_name": "LayoutModel",
            "justify_items": null,
            "grid_row": null,
            "max_height": null,
            "align_content": null,
            "visibility": null,
            "align_self": null,
            "height": null,
            "min_height": null,
            "padding": null,
            "grid_auto_rows": null,
            "grid_gap": null,
            "max_width": null,
            "order": null,
            "_view_module_version": "1.2.0",
            "grid_template_areas": null,
            "object_position": null,
            "object_fit": null,
            "grid_auto_columns": null,
            "margin": null,
            "display": null,
            "left": null
          }
        },
        "8d001f3897014c648fca66ab3fd36646": {
          "model_module": "@jupyter-widgets/controls",
          "model_name": "FloatProgressModel",
          "state": {
            "_view_name": "ProgressView",
            "style": "IPY_MODEL_6f55941e13bf45c891598b16c0b2f54f",
            "_dom_classes": [],
            "description": "",
            "_model_name": "FloatProgressModel",
            "bar_style": "success",
            "max": 4422102,
            "_view_module": "@jupyter-widgets/controls",
            "_model_module_version": "1.5.0",
            "value": 4422102,
            "_view_count": null,
            "_view_module_version": "1.5.0",
            "orientation": "horizontal",
            "min": 0,
            "description_tooltip": null,
            "_model_module": "@jupyter-widgets/controls",
            "layout": "IPY_MODEL_84a0a9589be841afa8cca5bdadf2ef02"
          }
        },
        "b7d37fa95e82467d8bad445913ec87d5": {
          "model_module": "@jupyter-widgets/controls",
          "model_name": "HTMLModel",
          "state": {
            "_view_name": "HTMLView",
            "style": "IPY_MODEL_66eb7868b9b841ca8a2331e2841c3ed9",
            "_dom_classes": [],
            "description": "",
            "_model_name": "HTMLModel",
            "placeholder": "​",
            "_view_module": "@jupyter-widgets/controls",
            "_model_module_version": "1.5.0",
            "value": " 4422656/? [02:08&lt;00:00, 34300.38it/s]",
            "_view_count": null,
            "_view_module_version": "1.5.0",
            "description_tooltip": null,
            "_model_module": "@jupyter-widgets/controls",
            "layout": "IPY_MODEL_40557b26b32340d99a4fe708b048311a"
          }
        },
        "6f55941e13bf45c891598b16c0b2f54f": {
          "model_module": "@jupyter-widgets/controls",
          "model_name": "ProgressStyleModel",
          "state": {
            "_view_name": "StyleView",
            "_model_name": "ProgressStyleModel",
            "description_width": "initial",
            "_view_module": "@jupyter-widgets/base",
            "_model_module_version": "1.5.0",
            "_view_count": null,
            "_view_module_version": "1.2.0",
            "bar_color": null,
            "_model_module": "@jupyter-widgets/controls"
          }
        },
        "84a0a9589be841afa8cca5bdadf2ef02": {
          "model_module": "@jupyter-widgets/base",
          "model_name": "LayoutModel",
          "state": {
            "_view_name": "LayoutView",
            "grid_template_rows": null,
            "right": null,
            "justify_content": null,
            "_view_module": "@jupyter-widgets/base",
            "overflow": null,
            "_model_module_version": "1.2.0",
            "_view_count": null,
            "flex_flow": null,
            "width": null,
            "min_width": null,
            "border": null,
            "align_items": null,
            "bottom": null,
            "_model_module": "@jupyter-widgets/base",
            "top": null,
            "grid_column": null,
            "overflow_y": null,
            "overflow_x": null,
            "grid_auto_flow": null,
            "grid_area": null,
            "grid_template_columns": null,
            "flex": null,
            "_model_name": "LayoutModel",
            "justify_items": null,
            "grid_row": null,
            "max_height": null,
            "align_content": null,
            "visibility": null,
            "align_self": null,
            "height": null,
            "min_height": null,
            "padding": null,
            "grid_auto_rows": null,
            "grid_gap": null,
            "max_width": null,
            "order": null,
            "_view_module_version": "1.2.0",
            "grid_template_areas": null,
            "object_position": null,
            "object_fit": null,
            "grid_auto_columns": null,
            "margin": null,
            "display": null,
            "left": null
          }
        },
        "66eb7868b9b841ca8a2331e2841c3ed9": {
          "model_module": "@jupyter-widgets/controls",
          "model_name": "DescriptionStyleModel",
          "state": {
            "_view_name": "StyleView",
            "_model_name": "DescriptionStyleModel",
            "description_width": "",
            "_view_module": "@jupyter-widgets/base",
            "_model_module_version": "1.5.0",
            "_view_count": null,
            "_view_module_version": "1.2.0",
            "_model_module": "@jupyter-widgets/controls"
          }
        },
        "40557b26b32340d99a4fe708b048311a": {
          "model_module": "@jupyter-widgets/base",
          "model_name": "LayoutModel",
          "state": {
            "_view_name": "LayoutView",
            "grid_template_rows": null,
            "right": null,
            "justify_content": null,
            "_view_module": "@jupyter-widgets/base",
            "overflow": null,
            "_model_module_version": "1.2.0",
            "_view_count": null,
            "flex_flow": null,
            "width": null,
            "min_width": null,
            "border": null,
            "align_items": null,
            "bottom": null,
            "_model_module": "@jupyter-widgets/base",
            "top": null,
            "grid_column": null,
            "overflow_y": null,
            "overflow_x": null,
            "grid_auto_flow": null,
            "grid_area": null,
            "grid_template_columns": null,
            "flex": null,
            "_model_name": "LayoutModel",
            "justify_items": null,
            "grid_row": null,
            "max_height": null,
            "align_content": null,
            "visibility": null,
            "align_self": null,
            "height": null,
            "min_height": null,
            "padding": null,
            "grid_auto_rows": null,
            "grid_gap": null,
            "max_width": null,
            "order": null,
            "_view_module_version": "1.2.0",
            "grid_template_areas": null,
            "object_position": null,
            "object_fit": null,
            "grid_auto_columns": null,
            "margin": null,
            "display": null,
            "left": null
          }
        },
        "88bf900d0c414beba121b3500c4ab0b4": {
          "model_module": "@jupyter-widgets/controls",
          "model_name": "HBoxModel",
          "state": {
            "_view_name": "HBoxView",
            "_dom_classes": [],
            "_model_name": "HBoxModel",
            "_view_module": "@jupyter-widgets/controls",
            "_model_module_version": "1.5.0",
            "_view_count": null,
            "_view_module_version": "1.5.0",
            "box_style": "",
            "layout": "IPY_MODEL_8f23fe5e282d431a89b595be7f608945",
            "_model_module": "@jupyter-widgets/controls",
            "children": [
              "IPY_MODEL_28c84fbbe2bb47ec862437183749428c",
              "IPY_MODEL_675b46937a8b4f588859f9620646e58f"
            ]
          }
        },
        "8f23fe5e282d431a89b595be7f608945": {
          "model_module": "@jupyter-widgets/base",
          "model_name": "LayoutModel",
          "state": {
            "_view_name": "LayoutView",
            "grid_template_rows": null,
            "right": null,
            "justify_content": null,
            "_view_module": "@jupyter-widgets/base",
            "overflow": null,
            "_model_module_version": "1.2.0",
            "_view_count": null,
            "flex_flow": null,
            "width": null,
            "min_width": null,
            "border": null,
            "align_items": null,
            "bottom": null,
            "_model_module": "@jupyter-widgets/base",
            "top": null,
            "grid_column": null,
            "overflow_y": null,
            "overflow_x": null,
            "grid_auto_flow": null,
            "grid_area": null,
            "grid_template_columns": null,
            "flex": null,
            "_model_name": "LayoutModel",
            "justify_items": null,
            "grid_row": null,
            "max_height": null,
            "align_content": null,
            "visibility": null,
            "align_self": null,
            "height": null,
            "min_height": null,
            "padding": null,
            "grid_auto_rows": null,
            "grid_gap": null,
            "max_width": null,
            "order": null,
            "_view_module_version": "1.2.0",
            "grid_template_areas": null,
            "object_position": null,
            "object_fit": null,
            "grid_auto_columns": null,
            "margin": null,
            "display": null,
            "left": null
          }
        },
        "28c84fbbe2bb47ec862437183749428c": {
          "model_module": "@jupyter-widgets/controls",
          "model_name": "FloatProgressModel",
          "state": {
            "_view_name": "ProgressView",
            "style": "IPY_MODEL_0a1ff24ed3e0448e8310a2183e33028c",
            "_dom_classes": [],
            "description": "",
            "_model_name": "FloatProgressModel",
            "bar_style": "success",
            "max": 5148,
            "_view_module": "@jupyter-widgets/controls",
            "_model_module_version": "1.5.0",
            "value": 5148,
            "_view_count": null,
            "_view_module_version": "1.5.0",
            "orientation": "horizontal",
            "min": 0,
            "description_tooltip": null,
            "_model_module": "@jupyter-widgets/controls",
            "layout": "IPY_MODEL_9723d645077143d2b0853b250dd11c8b"
          }
        },
        "675b46937a8b4f588859f9620646e58f": {
          "model_module": "@jupyter-widgets/controls",
          "model_name": "HTMLModel",
          "state": {
            "_view_name": "HTMLView",
            "style": "IPY_MODEL_7002d477827d4cd39f3a46b5571e8660",
            "_dom_classes": [],
            "description": "",
            "_model_name": "HTMLModel",
            "placeholder": "​",
            "_view_module": "@jupyter-widgets/controls",
            "_model_module_version": "1.5.0",
            "value": " 6144/? [00:23&lt;00:00, 259.01it/s]",
            "_view_count": null,
            "_view_module_version": "1.5.0",
            "description_tooltip": null,
            "_model_module": "@jupyter-widgets/controls",
            "layout": "IPY_MODEL_5349272ded0342b8916bca1e6e1a5e95"
          }
        },
        "0a1ff24ed3e0448e8310a2183e33028c": {
          "model_module": "@jupyter-widgets/controls",
          "model_name": "ProgressStyleModel",
          "state": {
            "_view_name": "StyleView",
            "_model_name": "ProgressStyleModel",
            "description_width": "initial",
            "_view_module": "@jupyter-widgets/base",
            "_model_module_version": "1.5.0",
            "_view_count": null,
            "_view_module_version": "1.2.0",
            "bar_color": null,
            "_model_module": "@jupyter-widgets/controls"
          }
        },
        "9723d645077143d2b0853b250dd11c8b": {
          "model_module": "@jupyter-widgets/base",
          "model_name": "LayoutModel",
          "state": {
            "_view_name": "LayoutView",
            "grid_template_rows": null,
            "right": null,
            "justify_content": null,
            "_view_module": "@jupyter-widgets/base",
            "overflow": null,
            "_model_module_version": "1.2.0",
            "_view_count": null,
            "flex_flow": null,
            "width": null,
            "min_width": null,
            "border": null,
            "align_items": null,
            "bottom": null,
            "_model_module": "@jupyter-widgets/base",
            "top": null,
            "grid_column": null,
            "overflow_y": null,
            "overflow_x": null,
            "grid_auto_flow": null,
            "grid_area": null,
            "grid_template_columns": null,
            "flex": null,
            "_model_name": "LayoutModel",
            "justify_items": null,
            "grid_row": null,
            "max_height": null,
            "align_content": null,
            "visibility": null,
            "align_self": null,
            "height": null,
            "min_height": null,
            "padding": null,
            "grid_auto_rows": null,
            "grid_gap": null,
            "max_width": null,
            "order": null,
            "_view_module_version": "1.2.0",
            "grid_template_areas": null,
            "object_position": null,
            "object_fit": null,
            "grid_auto_columns": null,
            "margin": null,
            "display": null,
            "left": null
          }
        },
        "7002d477827d4cd39f3a46b5571e8660": {
          "model_module": "@jupyter-widgets/controls",
          "model_name": "DescriptionStyleModel",
          "state": {
            "_view_name": "StyleView",
            "_model_name": "DescriptionStyleModel",
            "description_width": "",
            "_view_module": "@jupyter-widgets/base",
            "_model_module_version": "1.5.0",
            "_view_count": null,
            "_view_module_version": "1.2.0",
            "_model_module": "@jupyter-widgets/controls"
          }
        },
        "5349272ded0342b8916bca1e6e1a5e95": {
          "model_module": "@jupyter-widgets/base",
          "model_name": "LayoutModel",
          "state": {
            "_view_name": "LayoutView",
            "grid_template_rows": null,
            "right": null,
            "justify_content": null,
            "_view_module": "@jupyter-widgets/base",
            "overflow": null,
            "_model_module_version": "1.2.0",
            "_view_count": null,
            "flex_flow": null,
            "width": null,
            "min_width": null,
            "border": null,
            "align_items": null,
            "bottom": null,
            "_model_module": "@jupyter-widgets/base",
            "top": null,
            "grid_column": null,
            "overflow_y": null,
            "overflow_x": null,
            "grid_auto_flow": null,
            "grid_area": null,
            "grid_template_columns": null,
            "flex": null,
            "_model_name": "LayoutModel",
            "justify_items": null,
            "grid_row": null,
            "max_height": null,
            "align_content": null,
            "visibility": null,
            "align_self": null,
            "height": null,
            "min_height": null,
            "padding": null,
            "grid_auto_rows": null,
            "grid_gap": null,
            "max_width": null,
            "order": null,
            "_view_module_version": "1.2.0",
            "grid_template_areas": null,
            "object_position": null,
            "object_fit": null,
            "grid_auto_columns": null,
            "margin": null,
            "display": null,
            "left": null
          }
        },
        "f68c039b56b0477ea70d3144a23ea518": {
          "model_module": "@jupyter-widgets/controls",
          "model_name": "HBoxModel",
          "state": {
            "_view_name": "HBoxView",
            "_dom_classes": [],
            "_model_name": "HBoxModel",
            "_view_module": "@jupyter-widgets/controls",
            "_model_module_version": "1.5.0",
            "_view_count": null,
            "_view_module_version": "1.5.0",
            "box_style": "",
            "layout": "IPY_MODEL_b491a83ee25340f2a2c3b9bb6c4ceb5e",
            "_model_module": "@jupyter-widgets/controls",
            "children": [
              "IPY_MODEL_e34d6b2664fc44bbbf8f5f8cf1296ad6",
              "IPY_MODEL_e4af00e44cb34aeb9092dd2d7e777713"
            ]
          }
        },
        "b491a83ee25340f2a2c3b9bb6c4ceb5e": {
          "model_module": "@jupyter-widgets/base",
          "model_name": "LayoutModel",
          "state": {
            "_view_name": "LayoutView",
            "grid_template_rows": null,
            "right": null,
            "justify_content": null,
            "_view_module": "@jupyter-widgets/base",
            "overflow": null,
            "_model_module_version": "1.2.0",
            "_view_count": null,
            "flex_flow": null,
            "width": null,
            "min_width": null,
            "border": null,
            "align_items": null,
            "bottom": null,
            "_model_module": "@jupyter-widgets/base",
            "top": null,
            "grid_column": null,
            "overflow_y": null,
            "overflow_x": null,
            "grid_auto_flow": null,
            "grid_area": null,
            "grid_template_columns": null,
            "flex": null,
            "_model_name": "LayoutModel",
            "justify_items": null,
            "grid_row": null,
            "max_height": null,
            "align_content": null,
            "visibility": null,
            "align_self": null,
            "height": null,
            "min_height": null,
            "padding": null,
            "grid_auto_rows": null,
            "grid_gap": null,
            "max_width": null,
            "order": null,
            "_view_module_version": "1.2.0",
            "grid_template_areas": null,
            "object_position": null,
            "object_fit": null,
            "grid_auto_columns": null,
            "margin": null,
            "display": null,
            "left": null
          }
        },
        "e34d6b2664fc44bbbf8f5f8cf1296ad6": {
          "model_module": "@jupyter-widgets/controls",
          "model_name": "FloatProgressModel",
          "state": {
            "_view_name": "ProgressView",
            "style": "IPY_MODEL_470efd78ad31491c96820498dd072705",
            "_dom_classes": [],
            "description": "",
            "_model_name": "FloatProgressModel",
            "bar_style": "success",
            "max": 9912422,
            "_view_module": "@jupyter-widgets/controls",
            "_model_module_version": "1.5.0",
            "value": 9912422,
            "_view_count": null,
            "_view_module_version": "1.5.0",
            "orientation": "horizontal",
            "min": 0,
            "description_tooltip": null,
            "_model_module": "@jupyter-widgets/controls",
            "layout": "IPY_MODEL_f3f1648cdbd4477eb7a4e3ef5c079dda"
          }
        },
        "e4af00e44cb34aeb9092dd2d7e777713": {
          "model_module": "@jupyter-widgets/controls",
          "model_name": "HTMLModel",
          "state": {
            "_view_name": "HTMLView",
            "style": "IPY_MODEL_3bbb1431fc1e41d7a1a35645ae5f4cd5",
            "_dom_classes": [],
            "description": "",
            "_model_name": "HTMLModel",
            "placeholder": "​",
            "_view_module": "@jupyter-widgets/controls",
            "_model_module_version": "1.5.0",
            "value": " 9913344/? [01:13&lt;00:00, 134123.33it/s]",
            "_view_count": null,
            "_view_module_version": "1.5.0",
            "description_tooltip": null,
            "_model_module": "@jupyter-widgets/controls",
            "layout": "IPY_MODEL_1bf068faffad47668f71557d492ac9f1"
          }
        },
        "470efd78ad31491c96820498dd072705": {
          "model_module": "@jupyter-widgets/controls",
          "model_name": "ProgressStyleModel",
          "state": {
            "_view_name": "StyleView",
            "_model_name": "ProgressStyleModel",
            "description_width": "initial",
            "_view_module": "@jupyter-widgets/base",
            "_model_module_version": "1.5.0",
            "_view_count": null,
            "_view_module_version": "1.2.0",
            "bar_color": null,
            "_model_module": "@jupyter-widgets/controls"
          }
        },
        "f3f1648cdbd4477eb7a4e3ef5c079dda": {
          "model_module": "@jupyter-widgets/base",
          "model_name": "LayoutModel",
          "state": {
            "_view_name": "LayoutView",
            "grid_template_rows": null,
            "right": null,
            "justify_content": null,
            "_view_module": "@jupyter-widgets/base",
            "overflow": null,
            "_model_module_version": "1.2.0",
            "_view_count": null,
            "flex_flow": null,
            "width": null,
            "min_width": null,
            "border": null,
            "align_items": null,
            "bottom": null,
            "_model_module": "@jupyter-widgets/base",
            "top": null,
            "grid_column": null,
            "overflow_y": null,
            "overflow_x": null,
            "grid_auto_flow": null,
            "grid_area": null,
            "grid_template_columns": null,
            "flex": null,
            "_model_name": "LayoutModel",
            "justify_items": null,
            "grid_row": null,
            "max_height": null,
            "align_content": null,
            "visibility": null,
            "align_self": null,
            "height": null,
            "min_height": null,
            "padding": null,
            "grid_auto_rows": null,
            "grid_gap": null,
            "max_width": null,
            "order": null,
            "_view_module_version": "1.2.0",
            "grid_template_areas": null,
            "object_position": null,
            "object_fit": null,
            "grid_auto_columns": null,
            "margin": null,
            "display": null,
            "left": null
          }
        },
        "3bbb1431fc1e41d7a1a35645ae5f4cd5": {
          "model_module": "@jupyter-widgets/controls",
          "model_name": "DescriptionStyleModel",
          "state": {
            "_view_name": "StyleView",
            "_model_name": "DescriptionStyleModel",
            "description_width": "",
            "_view_module": "@jupyter-widgets/base",
            "_model_module_version": "1.5.0",
            "_view_count": null,
            "_view_module_version": "1.2.0",
            "_model_module": "@jupyter-widgets/controls"
          }
        },
        "1bf068faffad47668f71557d492ac9f1": {
          "model_module": "@jupyter-widgets/base",
          "model_name": "LayoutModel",
          "state": {
            "_view_name": "LayoutView",
            "grid_template_rows": null,
            "right": null,
            "justify_content": null,
            "_view_module": "@jupyter-widgets/base",
            "overflow": null,
            "_model_module_version": "1.2.0",
            "_view_count": null,
            "flex_flow": null,
            "width": null,
            "min_width": null,
            "border": null,
            "align_items": null,
            "bottom": null,
            "_model_module": "@jupyter-widgets/base",
            "top": null,
            "grid_column": null,
            "overflow_y": null,
            "overflow_x": null,
            "grid_auto_flow": null,
            "grid_area": null,
            "grid_template_columns": null,
            "flex": null,
            "_model_name": "LayoutModel",
            "justify_items": null,
            "grid_row": null,
            "max_height": null,
            "align_content": null,
            "visibility": null,
            "align_self": null,
            "height": null,
            "min_height": null,
            "padding": null,
            "grid_auto_rows": null,
            "grid_gap": null,
            "max_width": null,
            "order": null,
            "_view_module_version": "1.2.0",
            "grid_template_areas": null,
            "object_position": null,
            "object_fit": null,
            "grid_auto_columns": null,
            "margin": null,
            "display": null,
            "left": null
          }
        },
        "f1306c1323594881881761bedb5596c7": {
          "model_module": "@jupyter-widgets/controls",
          "model_name": "HBoxModel",
          "state": {
            "_view_name": "HBoxView",
            "_dom_classes": [],
            "_model_name": "HBoxModel",
            "_view_module": "@jupyter-widgets/controls",
            "_model_module_version": "1.5.0",
            "_view_count": null,
            "_view_module_version": "1.5.0",
            "box_style": "",
            "layout": "IPY_MODEL_fa05b8b2d33743b8a5d0c54549399a47",
            "_model_module": "@jupyter-widgets/controls",
            "children": [
              "IPY_MODEL_6a997bc276604e34ab77fd34af17f485",
              "IPY_MODEL_2e91802b503549919dfe1165a73b24d0"
            ]
          }
        },
        "fa05b8b2d33743b8a5d0c54549399a47": {
          "model_module": "@jupyter-widgets/base",
          "model_name": "LayoutModel",
          "state": {
            "_view_name": "LayoutView",
            "grid_template_rows": null,
            "right": null,
            "justify_content": null,
            "_view_module": "@jupyter-widgets/base",
            "overflow": null,
            "_model_module_version": "1.2.0",
            "_view_count": null,
            "flex_flow": null,
            "width": null,
            "min_width": null,
            "border": null,
            "align_items": null,
            "bottom": null,
            "_model_module": "@jupyter-widgets/base",
            "top": null,
            "grid_column": null,
            "overflow_y": null,
            "overflow_x": null,
            "grid_auto_flow": null,
            "grid_area": null,
            "grid_template_columns": null,
            "flex": null,
            "_model_name": "LayoutModel",
            "justify_items": null,
            "grid_row": null,
            "max_height": null,
            "align_content": null,
            "visibility": null,
            "align_self": null,
            "height": null,
            "min_height": null,
            "padding": null,
            "grid_auto_rows": null,
            "grid_gap": null,
            "max_width": null,
            "order": null,
            "_view_module_version": "1.2.0",
            "grid_template_areas": null,
            "object_position": null,
            "object_fit": null,
            "grid_auto_columns": null,
            "margin": null,
            "display": null,
            "left": null
          }
        },
        "6a997bc276604e34ab77fd34af17f485": {
          "model_module": "@jupyter-widgets/controls",
          "model_name": "FloatProgressModel",
          "state": {
            "_view_name": "ProgressView",
            "style": "IPY_MODEL_68d618ea2bda4f16bd43ac63d20d4f92",
            "_dom_classes": [],
            "description": "",
            "_model_name": "FloatProgressModel",
            "bar_style": "success",
            "max": 28881,
            "_view_module": "@jupyter-widgets/controls",
            "_model_module_version": "1.5.0",
            "value": 28881,
            "_view_count": null,
            "_view_module_version": "1.5.0",
            "orientation": "horizontal",
            "min": 0,
            "description_tooltip": null,
            "_model_module": "@jupyter-widgets/controls",
            "layout": "IPY_MODEL_03da08e25c78466bb318fb5e509f3459"
          }
        },
        "2e91802b503549919dfe1165a73b24d0": {
          "model_module": "@jupyter-widgets/controls",
          "model_name": "HTMLModel",
          "state": {
            "_view_name": "HTMLView",
            "style": "IPY_MODEL_52c3497ec270485c89577fdd1904d365",
            "_dom_classes": [],
            "description": "",
            "_model_name": "HTMLModel",
            "placeholder": "​",
            "_view_module": "@jupyter-widgets/controls",
            "_model_module_version": "1.5.0",
            "value": " 29696/? [01:10&lt;00:00, 421.68it/s]",
            "_view_count": null,
            "_view_module_version": "1.5.0",
            "description_tooltip": null,
            "_model_module": "@jupyter-widgets/controls",
            "layout": "IPY_MODEL_8e592eb0336e429ebad9da21af790806"
          }
        },
        "68d618ea2bda4f16bd43ac63d20d4f92": {
          "model_module": "@jupyter-widgets/controls",
          "model_name": "ProgressStyleModel",
          "state": {
            "_view_name": "StyleView",
            "_model_name": "ProgressStyleModel",
            "description_width": "initial",
            "_view_module": "@jupyter-widgets/base",
            "_model_module_version": "1.5.0",
            "_view_count": null,
            "_view_module_version": "1.2.0",
            "bar_color": null,
            "_model_module": "@jupyter-widgets/controls"
          }
        },
        "03da08e25c78466bb318fb5e509f3459": {
          "model_module": "@jupyter-widgets/base",
          "model_name": "LayoutModel",
          "state": {
            "_view_name": "LayoutView",
            "grid_template_rows": null,
            "right": null,
            "justify_content": null,
            "_view_module": "@jupyter-widgets/base",
            "overflow": null,
            "_model_module_version": "1.2.0",
            "_view_count": null,
            "flex_flow": null,
            "width": null,
            "min_width": null,
            "border": null,
            "align_items": null,
            "bottom": null,
            "_model_module": "@jupyter-widgets/base",
            "top": null,
            "grid_column": null,
            "overflow_y": null,
            "overflow_x": null,
            "grid_auto_flow": null,
            "grid_area": null,
            "grid_template_columns": null,
            "flex": null,
            "_model_name": "LayoutModel",
            "justify_items": null,
            "grid_row": null,
            "max_height": null,
            "align_content": null,
            "visibility": null,
            "align_self": null,
            "height": null,
            "min_height": null,
            "padding": null,
            "grid_auto_rows": null,
            "grid_gap": null,
            "max_width": null,
            "order": null,
            "_view_module_version": "1.2.0",
            "grid_template_areas": null,
            "object_position": null,
            "object_fit": null,
            "grid_auto_columns": null,
            "margin": null,
            "display": null,
            "left": null
          }
        },
        "52c3497ec270485c89577fdd1904d365": {
          "model_module": "@jupyter-widgets/controls",
          "model_name": "DescriptionStyleModel",
          "state": {
            "_view_name": "StyleView",
            "_model_name": "DescriptionStyleModel",
            "description_width": "",
            "_view_module": "@jupyter-widgets/base",
            "_model_module_version": "1.5.0",
            "_view_count": null,
            "_view_module_version": "1.2.0",
            "_model_module": "@jupyter-widgets/controls"
          }
        },
        "8e592eb0336e429ebad9da21af790806": {
          "model_module": "@jupyter-widgets/base",
          "model_name": "LayoutModel",
          "state": {
            "_view_name": "LayoutView",
            "grid_template_rows": null,
            "right": null,
            "justify_content": null,
            "_view_module": "@jupyter-widgets/base",
            "overflow": null,
            "_model_module_version": "1.2.0",
            "_view_count": null,
            "flex_flow": null,
            "width": null,
            "min_width": null,
            "border": null,
            "align_items": null,
            "bottom": null,
            "_model_module": "@jupyter-widgets/base",
            "top": null,
            "grid_column": null,
            "overflow_y": null,
            "overflow_x": null,
            "grid_auto_flow": null,
            "grid_area": null,
            "grid_template_columns": null,
            "flex": null,
            "_model_name": "LayoutModel",
            "justify_items": null,
            "grid_row": null,
            "max_height": null,
            "align_content": null,
            "visibility": null,
            "align_self": null,
            "height": null,
            "min_height": null,
            "padding": null,
            "grid_auto_rows": null,
            "grid_gap": null,
            "max_width": null,
            "order": null,
            "_view_module_version": "1.2.0",
            "grid_template_areas": null,
            "object_position": null,
            "object_fit": null,
            "grid_auto_columns": null,
            "margin": null,
            "display": null,
            "left": null
          }
        },
        "0b720698f22241c59eff76c0c8c38125": {
          "model_module": "@jupyter-widgets/controls",
          "model_name": "HBoxModel",
          "state": {
            "_view_name": "HBoxView",
            "_dom_classes": [],
            "_model_name": "HBoxModel",
            "_view_module": "@jupyter-widgets/controls",
            "_model_module_version": "1.5.0",
            "_view_count": null,
            "_view_module_version": "1.5.0",
            "box_style": "",
            "layout": "IPY_MODEL_8b203543e90140a99d4e95392dfd149c",
            "_model_module": "@jupyter-widgets/controls",
            "children": [
              "IPY_MODEL_8324827c5664474fad4acf7f2c69626f",
              "IPY_MODEL_6d845c8a9734414aa95303f9717be1c8"
            ]
          }
        },
        "8b203543e90140a99d4e95392dfd149c": {
          "model_module": "@jupyter-widgets/base",
          "model_name": "LayoutModel",
          "state": {
            "_view_name": "LayoutView",
            "grid_template_rows": null,
            "right": null,
            "justify_content": null,
            "_view_module": "@jupyter-widgets/base",
            "overflow": null,
            "_model_module_version": "1.2.0",
            "_view_count": null,
            "flex_flow": null,
            "width": null,
            "min_width": null,
            "border": null,
            "align_items": null,
            "bottom": null,
            "_model_module": "@jupyter-widgets/base",
            "top": null,
            "grid_column": null,
            "overflow_y": null,
            "overflow_x": null,
            "grid_auto_flow": null,
            "grid_area": null,
            "grid_template_columns": null,
            "flex": null,
            "_model_name": "LayoutModel",
            "justify_items": null,
            "grid_row": null,
            "max_height": null,
            "align_content": null,
            "visibility": null,
            "align_self": null,
            "height": null,
            "min_height": null,
            "padding": null,
            "grid_auto_rows": null,
            "grid_gap": null,
            "max_width": null,
            "order": null,
            "_view_module_version": "1.2.0",
            "grid_template_areas": null,
            "object_position": null,
            "object_fit": null,
            "grid_auto_columns": null,
            "margin": null,
            "display": null,
            "left": null
          }
        },
        "8324827c5664474fad4acf7f2c69626f": {
          "model_module": "@jupyter-widgets/controls",
          "model_name": "FloatProgressModel",
          "state": {
            "_view_name": "ProgressView",
            "style": "IPY_MODEL_a018fc43c884466197cf89f276f37075",
            "_dom_classes": [],
            "description": "",
            "_model_name": "FloatProgressModel",
            "bar_style": "success",
            "max": 1648877,
            "_view_module": "@jupyter-widgets/controls",
            "_model_module_version": "1.5.0",
            "value": 1648877,
            "_view_count": null,
            "_view_module_version": "1.5.0",
            "orientation": "horizontal",
            "min": 0,
            "description_tooltip": null,
            "_model_module": "@jupyter-widgets/controls",
            "layout": "IPY_MODEL_e22c990503944fe48d047a006ed898c0"
          }
        },
        "6d845c8a9734414aa95303f9717be1c8": {
          "model_module": "@jupyter-widgets/controls",
          "model_name": "HTMLModel",
          "state": {
            "_view_name": "HTMLView",
            "style": "IPY_MODEL_64801d0c20f6469dad80e87c562cbf5c",
            "_dom_classes": [],
            "description": "",
            "_model_name": "HTMLModel",
            "placeholder": "​",
            "_view_module": "@jupyter-widgets/controls",
            "_model_module_version": "1.5.0",
            "value": " 1649664/? [01:07&lt;00:00, 24319.10it/s]",
            "_view_count": null,
            "_view_module_version": "1.5.0",
            "description_tooltip": null,
            "_model_module": "@jupyter-widgets/controls",
            "layout": "IPY_MODEL_8db0716ab241453b87aa774f15ba44dc"
          }
        },
        "a018fc43c884466197cf89f276f37075": {
          "model_module": "@jupyter-widgets/controls",
          "model_name": "ProgressStyleModel",
          "state": {
            "_view_name": "StyleView",
            "_model_name": "ProgressStyleModel",
            "description_width": "initial",
            "_view_module": "@jupyter-widgets/base",
            "_model_module_version": "1.5.0",
            "_view_count": null,
            "_view_module_version": "1.2.0",
            "bar_color": null,
            "_model_module": "@jupyter-widgets/controls"
          }
        },
        "e22c990503944fe48d047a006ed898c0": {
          "model_module": "@jupyter-widgets/base",
          "model_name": "LayoutModel",
          "state": {
            "_view_name": "LayoutView",
            "grid_template_rows": null,
            "right": null,
            "justify_content": null,
            "_view_module": "@jupyter-widgets/base",
            "overflow": null,
            "_model_module_version": "1.2.0",
            "_view_count": null,
            "flex_flow": null,
            "width": null,
            "min_width": null,
            "border": null,
            "align_items": null,
            "bottom": null,
            "_model_module": "@jupyter-widgets/base",
            "top": null,
            "grid_column": null,
            "overflow_y": null,
            "overflow_x": null,
            "grid_auto_flow": null,
            "grid_area": null,
            "grid_template_columns": null,
            "flex": null,
            "_model_name": "LayoutModel",
            "justify_items": null,
            "grid_row": null,
            "max_height": null,
            "align_content": null,
            "visibility": null,
            "align_self": null,
            "height": null,
            "min_height": null,
            "padding": null,
            "grid_auto_rows": null,
            "grid_gap": null,
            "max_width": null,
            "order": null,
            "_view_module_version": "1.2.0",
            "grid_template_areas": null,
            "object_position": null,
            "object_fit": null,
            "grid_auto_columns": null,
            "margin": null,
            "display": null,
            "left": null
          }
        },
        "64801d0c20f6469dad80e87c562cbf5c": {
          "model_module": "@jupyter-widgets/controls",
          "model_name": "DescriptionStyleModel",
          "state": {
            "_view_name": "StyleView",
            "_model_name": "DescriptionStyleModel",
            "description_width": "",
            "_view_module": "@jupyter-widgets/base",
            "_model_module_version": "1.5.0",
            "_view_count": null,
            "_view_module_version": "1.2.0",
            "_model_module": "@jupyter-widgets/controls"
          }
        },
        "8db0716ab241453b87aa774f15ba44dc": {
          "model_module": "@jupyter-widgets/base",
          "model_name": "LayoutModel",
          "state": {
            "_view_name": "LayoutView",
            "grid_template_rows": null,
            "right": null,
            "justify_content": null,
            "_view_module": "@jupyter-widgets/base",
            "overflow": null,
            "_model_module_version": "1.2.0",
            "_view_count": null,
            "flex_flow": null,
            "width": null,
            "min_width": null,
            "border": null,
            "align_items": null,
            "bottom": null,
            "_model_module": "@jupyter-widgets/base",
            "top": null,
            "grid_column": null,
            "overflow_y": null,
            "overflow_x": null,
            "grid_auto_flow": null,
            "grid_area": null,
            "grid_template_columns": null,
            "flex": null,
            "_model_name": "LayoutModel",
            "justify_items": null,
            "grid_row": null,
            "max_height": null,
            "align_content": null,
            "visibility": null,
            "align_self": null,
            "height": null,
            "min_height": null,
            "padding": null,
            "grid_auto_rows": null,
            "grid_gap": null,
            "max_width": null,
            "order": null,
            "_view_module_version": "1.2.0",
            "grid_template_areas": null,
            "object_position": null,
            "object_fit": null,
            "grid_auto_columns": null,
            "margin": null,
            "display": null,
            "left": null
          }
        },
        "5867a1b079f74ba4aa556967dd5135c9": {
          "model_module": "@jupyter-widgets/controls",
          "model_name": "HBoxModel",
          "state": {
            "_view_name": "HBoxView",
            "_dom_classes": [],
            "_model_name": "HBoxModel",
            "_view_module": "@jupyter-widgets/controls",
            "_model_module_version": "1.5.0",
            "_view_count": null,
            "_view_module_version": "1.5.0",
            "box_style": "",
            "layout": "IPY_MODEL_c8edd86146d14c42aa53534634cc28f5",
            "_model_module": "@jupyter-widgets/controls",
            "children": [
              "IPY_MODEL_13ca4d7dcc1e4fa097004c4b0f0699a4",
              "IPY_MODEL_5cdf5b9be2a743e582a377e157de1e59"
            ]
          }
        },
        "c8edd86146d14c42aa53534634cc28f5": {
          "model_module": "@jupyter-widgets/base",
          "model_name": "LayoutModel",
          "state": {
            "_view_name": "LayoutView",
            "grid_template_rows": null,
            "right": null,
            "justify_content": null,
            "_view_module": "@jupyter-widgets/base",
            "overflow": null,
            "_model_module_version": "1.2.0",
            "_view_count": null,
            "flex_flow": null,
            "width": null,
            "min_width": null,
            "border": null,
            "align_items": null,
            "bottom": null,
            "_model_module": "@jupyter-widgets/base",
            "top": null,
            "grid_column": null,
            "overflow_y": null,
            "overflow_x": null,
            "grid_auto_flow": null,
            "grid_area": null,
            "grid_template_columns": null,
            "flex": null,
            "_model_name": "LayoutModel",
            "justify_items": null,
            "grid_row": null,
            "max_height": null,
            "align_content": null,
            "visibility": null,
            "align_self": null,
            "height": null,
            "min_height": null,
            "padding": null,
            "grid_auto_rows": null,
            "grid_gap": null,
            "max_width": null,
            "order": null,
            "_view_module_version": "1.2.0",
            "grid_template_areas": null,
            "object_position": null,
            "object_fit": null,
            "grid_auto_columns": null,
            "margin": null,
            "display": null,
            "left": null
          }
        },
        "13ca4d7dcc1e4fa097004c4b0f0699a4": {
          "model_module": "@jupyter-widgets/controls",
          "model_name": "FloatProgressModel",
          "state": {
            "_view_name": "ProgressView",
            "style": "IPY_MODEL_38591a00f0bb4c0284a432deb81c59c8",
            "_dom_classes": [],
            "description": "",
            "_model_name": "FloatProgressModel",
            "bar_style": "success",
            "max": 4542,
            "_view_module": "@jupyter-widgets/controls",
            "_model_module_version": "1.5.0",
            "value": 4542,
            "_view_count": null,
            "_view_module_version": "1.5.0",
            "orientation": "horizontal",
            "min": 0,
            "description_tooltip": null,
            "_model_module": "@jupyter-widgets/controls",
            "layout": "IPY_MODEL_9842305822c3403b80ac57435607a377"
          }
        },
        "5cdf5b9be2a743e582a377e157de1e59": {
          "model_module": "@jupyter-widgets/controls",
          "model_name": "HTMLModel",
          "state": {
            "_view_name": "HTMLView",
            "style": "IPY_MODEL_20e291c2fc68485eb118a4ea1e436c35",
            "_dom_classes": [],
            "description": "",
            "_model_name": "HTMLModel",
            "placeholder": "​",
            "_view_module": "@jupyter-widgets/controls",
            "_model_module_version": "1.5.0",
            "value": " 5120/? [01:05&lt;00:00, 78.31it/s]",
            "_view_count": null,
            "_view_module_version": "1.5.0",
            "description_tooltip": null,
            "_model_module": "@jupyter-widgets/controls",
            "layout": "IPY_MODEL_24187c5543964ee2958cb5d0c3b186b4"
          }
        },
        "38591a00f0bb4c0284a432deb81c59c8": {
          "model_module": "@jupyter-widgets/controls",
          "model_name": "ProgressStyleModel",
          "state": {
            "_view_name": "StyleView",
            "_model_name": "ProgressStyleModel",
            "description_width": "initial",
            "_view_module": "@jupyter-widgets/base",
            "_model_module_version": "1.5.0",
            "_view_count": null,
            "_view_module_version": "1.2.0",
            "bar_color": null,
            "_model_module": "@jupyter-widgets/controls"
          }
        },
        "9842305822c3403b80ac57435607a377": {
          "model_module": "@jupyter-widgets/base",
          "model_name": "LayoutModel",
          "state": {
            "_view_name": "LayoutView",
            "grid_template_rows": null,
            "right": null,
            "justify_content": null,
            "_view_module": "@jupyter-widgets/base",
            "overflow": null,
            "_model_module_version": "1.2.0",
            "_view_count": null,
            "flex_flow": null,
            "width": null,
            "min_width": null,
            "border": null,
            "align_items": null,
            "bottom": null,
            "_model_module": "@jupyter-widgets/base",
            "top": null,
            "grid_column": null,
            "overflow_y": null,
            "overflow_x": null,
            "grid_auto_flow": null,
            "grid_area": null,
            "grid_template_columns": null,
            "flex": null,
            "_model_name": "LayoutModel",
            "justify_items": null,
            "grid_row": null,
            "max_height": null,
            "align_content": null,
            "visibility": null,
            "align_self": null,
            "height": null,
            "min_height": null,
            "padding": null,
            "grid_auto_rows": null,
            "grid_gap": null,
            "max_width": null,
            "order": null,
            "_view_module_version": "1.2.0",
            "grid_template_areas": null,
            "object_position": null,
            "object_fit": null,
            "grid_auto_columns": null,
            "margin": null,
            "display": null,
            "left": null
          }
        },
        "20e291c2fc68485eb118a4ea1e436c35": {
          "model_module": "@jupyter-widgets/controls",
          "model_name": "DescriptionStyleModel",
          "state": {
            "_view_name": "StyleView",
            "_model_name": "DescriptionStyleModel",
            "description_width": "",
            "_view_module": "@jupyter-widgets/base",
            "_model_module_version": "1.5.0",
            "_view_count": null,
            "_view_module_version": "1.2.0",
            "_model_module": "@jupyter-widgets/controls"
          }
        },
        "24187c5543964ee2958cb5d0c3b186b4": {
          "model_module": "@jupyter-widgets/base",
          "model_name": "LayoutModel",
          "state": {
            "_view_name": "LayoutView",
            "grid_template_rows": null,
            "right": null,
            "justify_content": null,
            "_view_module": "@jupyter-widgets/base",
            "overflow": null,
            "_model_module_version": "1.2.0",
            "_view_count": null,
            "flex_flow": null,
            "width": null,
            "min_width": null,
            "border": null,
            "align_items": null,
            "bottom": null,
            "_model_module": "@jupyter-widgets/base",
            "top": null,
            "grid_column": null,
            "overflow_y": null,
            "overflow_x": null,
            "grid_auto_flow": null,
            "grid_area": null,
            "grid_template_columns": null,
            "flex": null,
            "_model_name": "LayoutModel",
            "justify_items": null,
            "grid_row": null,
            "max_height": null,
            "align_content": null,
            "visibility": null,
            "align_self": null,
            "height": null,
            "min_height": null,
            "padding": null,
            "grid_auto_rows": null,
            "grid_gap": null,
            "max_width": null,
            "order": null,
            "_view_module_version": "1.2.0",
            "grid_template_areas": null,
            "object_position": null,
            "object_fit": null,
            "grid_auto_columns": null,
            "margin": null,
            "display": null,
            "left": null
          }
        }
      }
    }
  },
  "cells": [
    {
      "cell_type": "markdown",
      "metadata": {
        "id": "_N6QYB7EGgD3"
      },
      "source": [
        "# Adversarial attacks on Deep Learning Models \n",
        "## Practice tutorial"
      ]
    },
    {
      "cell_type": "code",
      "metadata": {
        "id": "ozyzLAXQps7u"
      },
      "source": [
        "import torch\n",
        "import random\n",
        "import numpy as np\n",
        "import torchvision.datasets\n",
        "import matplotlib.pyplot as plt\n",
        "\n",
        "random.seed(0)\n",
        "np.random.seed(0)\n",
        "torch.manual_seed(0)\n",
        "torch.cuda.manual_seed(0)\n",
        "torch.backends.cudnn.deterministic = True"
      ],
      "execution_count": 1,
      "outputs": []
    },
    {
      "cell_type": "markdown",
      "metadata": {
        "id": "97TXb7oiMv7D"
      },
      "source": [
        "# FGSM method"
      ]
    },
    {
      "cell_type": "code",
      "metadata": {
        "id": "lZ7zjBSSqTF_",
        "colab": {
          "base_uri": "https://localhost:8080/",
          "height": 575,
          "referenced_widgets": [
            "07a23ee9b32c43a98f41a9fbf6031c1a",
            "8d44e7ae888f4ab0924d0171444833b4",
            "9edef54020c042f2a7d8ded58d5920f4",
            "a397b1f122eb4acbbb4742c10a9a4d71",
            "ec3d622db67b4a04be935ee2c46985a1",
            "61aac0d17f95437fac628bdeb2b07f4e",
            "4b8b7e6a11084b1eb13dbf0554bcec4f",
            "4246d96ce8c843e0bb1170568851d5d9",
            "b9e1622e3f054fefb97b91eeb7015aec",
            "fe9af07825374a5b8bda929f8c79333a",
            "f134f885f1454b10b77d5a10934793dc",
            "7dc506abafe947e7ae34a54257a7d525",
            "6c90aa18700e4ac0ba64797be24344cb",
            "b419ad30403e4a299743d513493098d3",
            "efbf56053d3748b199cdc3b2b16438f4",
            "0f374dcef71a479fb7885bad58b529e9",
            "81e8a11ccea94d6081b21f926586a0c4",
            "c231601d42be4e58a13467a99a4c1274",
            "8d001f3897014c648fca66ab3fd36646",
            "b7d37fa95e82467d8bad445913ec87d5",
            "6f55941e13bf45c891598b16c0b2f54f",
            "84a0a9589be841afa8cca5bdadf2ef02",
            "66eb7868b9b841ca8a2331e2841c3ed9",
            "40557b26b32340d99a4fe708b048311a",
            "88bf900d0c414beba121b3500c4ab0b4",
            "8f23fe5e282d431a89b595be7f608945",
            "28c84fbbe2bb47ec862437183749428c",
            "675b46937a8b4f588859f9620646e58f",
            "0a1ff24ed3e0448e8310a2183e33028c",
            "9723d645077143d2b0853b250dd11c8b",
            "7002d477827d4cd39f3a46b5571e8660",
            "5349272ded0342b8916bca1e6e1a5e95"
          ]
        },
        "outputId": "ae124601-d2a6-4f4a-87ee-50f4ac5cdc08"
      },
      "source": [
        "import torchvision.datasets\n",
        "MNIST_train = torchvision.datasets.FashionMNIST('./', download=True, train=True)\n",
        "MNIST_test = torchvision.datasets.FashionMNIST('./', download=True, train=False)"
      ],
      "execution_count": 2,
      "outputs": [
        {
          "output_type": "stream",
          "text": [
            "Downloading http://fashion-mnist.s3-website.eu-central-1.amazonaws.com/train-images-idx3-ubyte.gz\n",
            "Downloading http://fashion-mnist.s3-website.eu-central-1.amazonaws.com/train-images-idx3-ubyte.gz to ./FashionMNIST/raw/train-images-idx3-ubyte.gz\n"
          ],
          "name": "stdout"
        },
        {
          "output_type": "display_data",
          "data": {
            "application/vnd.jupyter.widget-view+json": {
              "model_id": "07a23ee9b32c43a98f41a9fbf6031c1a",
              "version_minor": 0,
              "version_major": 2
            },
            "text/plain": [
              "HBox(children=(FloatProgress(value=0.0, max=26421880.0), HTML(value='')))"
            ]
          },
          "metadata": {
            "tags": []
          }
        },
        {
          "output_type": "stream",
          "text": [
            "\n",
            "Extracting ./FashionMNIST/raw/train-images-idx3-ubyte.gz to ./FashionMNIST/raw\n",
            "\n",
            "Downloading http://fashion-mnist.s3-website.eu-central-1.amazonaws.com/train-labels-idx1-ubyte.gz\n",
            "Downloading http://fashion-mnist.s3-website.eu-central-1.amazonaws.com/train-labels-idx1-ubyte.gz to ./FashionMNIST/raw/train-labels-idx1-ubyte.gz\n"
          ],
          "name": "stdout"
        },
        {
          "output_type": "display_data",
          "data": {
            "application/vnd.jupyter.widget-view+json": {
              "model_id": "b9e1622e3f054fefb97b91eeb7015aec",
              "version_minor": 0,
              "version_major": 2
            },
            "text/plain": [
              "HBox(children=(FloatProgress(value=0.0, max=29515.0), HTML(value='')))"
            ]
          },
          "metadata": {
            "tags": []
          }
        },
        {
          "output_type": "stream",
          "text": [
            "\n",
            "Extracting ./FashionMNIST/raw/train-labels-idx1-ubyte.gz to ./FashionMNIST/raw\n",
            "\n",
            "Downloading http://fashion-mnist.s3-website.eu-central-1.amazonaws.com/t10k-images-idx3-ubyte.gz\n",
            "Downloading http://fashion-mnist.s3-website.eu-central-1.amazonaws.com/t10k-images-idx3-ubyte.gz to ./FashionMNIST/raw/t10k-images-idx3-ubyte.gz\n"
          ],
          "name": "stdout"
        },
        {
          "output_type": "display_data",
          "data": {
            "application/vnd.jupyter.widget-view+json": {
              "model_id": "81e8a11ccea94d6081b21f926586a0c4",
              "version_minor": 0,
              "version_major": 2
            },
            "text/plain": [
              "HBox(children=(FloatProgress(value=0.0, max=4422102.0), HTML(value='')))"
            ]
          },
          "metadata": {
            "tags": []
          }
        },
        {
          "output_type": "stream",
          "text": [
            "\n",
            "Extracting ./FashionMNIST/raw/t10k-images-idx3-ubyte.gz to ./FashionMNIST/raw\n",
            "\n",
            "Downloading http://fashion-mnist.s3-website.eu-central-1.amazonaws.com/t10k-labels-idx1-ubyte.gz\n",
            "Downloading http://fashion-mnist.s3-website.eu-central-1.amazonaws.com/t10k-labels-idx1-ubyte.gz to ./FashionMNIST/raw/t10k-labels-idx1-ubyte.gz\n"
          ],
          "name": "stdout"
        },
        {
          "output_type": "display_data",
          "data": {
            "application/vnd.jupyter.widget-view+json": {
              "model_id": "88bf900d0c414beba121b3500c4ab0b4",
              "version_minor": 0,
              "version_major": 2
            },
            "text/plain": [
              "HBox(children=(FloatProgress(value=0.0, max=5148.0), HTML(value='')))"
            ]
          },
          "metadata": {
            "tags": []
          }
        },
        {
          "output_type": "stream",
          "text": [
            "\n",
            "Extracting ./FashionMNIST/raw/t10k-labels-idx1-ubyte.gz to ./FashionMNIST/raw\n",
            "\n"
          ],
          "name": "stdout"
        },
        {
          "output_type": "stream",
          "text": [
            "/usr/local/lib/python3.7/dist-packages/torchvision/datasets/mnist.py:498: UserWarning: The given NumPy array is not writeable, and PyTorch does not support non-writeable tensors. This means you can write to the underlying (supposedly non-writeable) NumPy array using the tensor. You may want to copy the array to protect its data or make it writeable before converting it to a tensor. This type of warning will be suppressed for the rest of this program. (Triggered internally at  /pytorch/torch/csrc/utils/tensor_numpy.cpp:180.)\n",
            "  return torch.from_numpy(parsed.astype(m[2], copy=False)).view(*s)\n"
          ],
          "name": "stderr"
        }
      ]
    },
    {
      "cell_type": "code",
      "metadata": {
        "id": "sWXzsDWysAFv",
        "colab": {
          "base_uri": "https://localhost:8080/"
        },
        "outputId": "b62a6779-cb32-4885-a408-d990b7617a4f"
      },
      "source": [
        "X_train = MNIST_train.train_data\n",
        "y_train = MNIST_train.train_labels\n",
        "X_test = MNIST_test.test_data\n",
        "y_test = MNIST_test.test_labels"
      ],
      "execution_count": 3,
      "outputs": [
        {
          "output_type": "stream",
          "text": [
            "/usr/local/lib/python3.7/dist-packages/torchvision/datasets/mnist.py:62: UserWarning: train_data has been renamed data\n",
            "  warnings.warn(\"train_data has been renamed data\")\n",
            "/usr/local/lib/python3.7/dist-packages/torchvision/datasets/mnist.py:52: UserWarning: train_labels has been renamed targets\n",
            "  warnings.warn(\"train_labels has been renamed targets\")\n",
            "/usr/local/lib/python3.7/dist-packages/torchvision/datasets/mnist.py:67: UserWarning: test_data has been renamed data\n",
            "  warnings.warn(\"test_data has been renamed data\")\n",
            "/usr/local/lib/python3.7/dist-packages/torchvision/datasets/mnist.py:57: UserWarning: test_labels has been renamed targets\n",
            "  warnings.warn(\"test_labels has been renamed targets\")\n"
          ],
          "name": "stderr"
        }
      ]
    },
    {
      "cell_type": "code",
      "metadata": {
        "id": "d5FfKloyPTT1",
        "colab": {
          "base_uri": "https://localhost:8080/"
        },
        "outputId": "3cf0c706-4a11-4e05-99fa-c85cb8bbaad1"
      },
      "source": [
        "MNIST_train.classes"
      ],
      "execution_count": 4,
      "outputs": [
        {
          "output_type": "execute_result",
          "data": {
            "text/plain": [
              "['T-shirt/top',\n",
              " 'Trouser',\n",
              " 'Pullover',\n",
              " 'Dress',\n",
              " 'Coat',\n",
              " 'Sandal',\n",
              " 'Shirt',\n",
              " 'Sneaker',\n",
              " 'Bag',\n",
              " 'Ankle boot']"
            ]
          },
          "metadata": {
            "tags": []
          },
          "execution_count": 4
        }
      ]
    },
    {
      "cell_type": "code",
      "metadata": {
        "id": "crgy81RGtWhi"
      },
      "source": [
        "X_train = X_train.unsqueeze(1).float()\n",
        "X_test = X_test.unsqueeze(1).float()"
      ],
      "execution_count": 5,
      "outputs": []
    },
    {
      "cell_type": "code",
      "metadata": {
        "id": "tYP4oKAVp26p",
        "colab": {
          "base_uri": "https://localhost:8080/"
        },
        "outputId": "33d2e248-6096-4607-c3cf-c0433b48dcbc"
      },
      "source": [
        "y_train = torch.tensor(y_train)\n",
        "y_test = torch.tensor(y_test)"
      ],
      "execution_count": 6,
      "outputs": [
        {
          "output_type": "stream",
          "text": [
            "/usr/local/lib/python3.7/dist-packages/ipykernel_launcher.py:1: UserWarning: To copy construct from a tensor, it is recommended to use sourceTensor.clone().detach() or sourceTensor.clone().detach().requires_grad_(True), rather than torch.tensor(sourceTensor).\n",
            "  \"\"\"Entry point for launching an IPython kernel.\n",
            "/usr/local/lib/python3.7/dist-packages/ipykernel_launcher.py:2: UserWarning: To copy construct from a tensor, it is recommended to use sourceTensor.clone().detach() or sourceTensor.clone().detach().requires_grad_(True), rather than torch.tensor(sourceTensor).\n",
            "  \n"
          ],
          "name": "stderr"
        }
      ]
    },
    {
      "cell_type": "code",
      "metadata": {
        "id": "d36nd3iHtUQx"
      },
      "source": [
        "X_train /= 255.0\n",
        "X_test /= 255.0"
      ],
      "execution_count": 7,
      "outputs": []
    },
    {
      "cell_type": "code",
      "metadata": {
        "id": "HLpTIalHta15"
      },
      "source": [
        "class LeNet5(torch.nn.Module):\n",
        "    def __init__(self):\n",
        "        super(LeNet5, self).__init__()\n",
        "        \n",
        "        self.conv1 = torch.nn.Conv2d(\n",
        "            in_channels=1, out_channels=6, kernel_size=5, padding=2)\n",
        "        self.act1  = torch.nn.Tanh()\n",
        "        self.pool1 = torch.nn.AvgPool2d(kernel_size=2, stride=2)\n",
        "       \n",
        "        self.conv2 = torch.nn.Conv2d(\n",
        "            in_channels=6, out_channels=16, kernel_size=5, padding=0)\n",
        "        self.act2  = torch.nn.Tanh()\n",
        "        self.pool2 = torch.nn.AvgPool2d(kernel_size=2, stride=2)\n",
        "        \n",
        "        self.fc1   = torch.nn.Linear(5 * 5 * 16, 120)\n",
        "        self.act3  = torch.nn.Tanh()\n",
        "        \n",
        "        self.fc2   = torch.nn.Linear(120, 84)\n",
        "        self.act4  = torch.nn.Tanh()\n",
        "        \n",
        "        self.fc3   = torch.nn.Linear(84, 10)\n",
        "    \n",
        "    def forward(self, x):\n",
        "        \n",
        "        x = self.conv1(x)\n",
        "        x = self.act1(x)\n",
        "        x = self.pool1(x)\n",
        "        \n",
        "        x = self.conv2(x)\n",
        "        x = self.act2(x)\n",
        "        x = self.pool2(x)\n",
        "        \n",
        "        x = x.view(x.size(0), x.size(1) * x.size(2) * x.size(3))\n",
        "\n",
        "        x = self.fc1(x)\n",
        "        x = self.act3(x)\n",
        "        x = self.fc2(x)\n",
        "        x = self.act4(x)\n",
        "        x = self.fc3(x)\n",
        "        \n",
        "        return x\n",
        "    \n",
        "lenet5 = LeNet5()"
      ],
      "execution_count": 8,
      "outputs": []
    },
    {
      "cell_type": "code",
      "metadata": {
        "id": "-_G0ypCitmKW"
      },
      "source": [
        "device = torch.device('cuda:0' if torch.cuda.is_available() else 'cpu')\n",
        "lenet5 = lenet5.to(device)"
      ],
      "execution_count": 9,
      "outputs": []
    },
    {
      "cell_type": "code",
      "metadata": {
        "id": "oAorNVISt920"
      },
      "source": [
        "loss = torch.nn.CrossEntropyLoss()\n",
        "optimizer = torch.optim.Adam(lenet5.parameters(), lr=1.0e-3)"
      ],
      "execution_count": 10,
      "outputs": []
    },
    {
      "cell_type": "code",
      "metadata": {
        "id": "s39UDBoyuBeD",
        "colab": {
          "base_uri": "https://localhost:8080/"
        },
        "outputId": "324e13ad-b9e6-4af0-a0f7-c9f3631ca31e"
      },
      "source": [
        "batch_size = 100\n",
        "test_accuracy_history = []\n",
        "test_loss_history = []\n",
        "\n",
        "X_test = X_test.to(device)\n",
        "y_test = y_test.to(device)\n",
        "\n",
        "for epoch in range(10):\n",
        "    order = np.random.permutation(len(X_train))\n",
        "    for start_index in range(0, len(X_train), batch_size):\n",
        "        optimizer.zero_grad()\n",
        "        \n",
        "        batch_indexes = order[start_index:start_index+batch_size]\n",
        "        \n",
        "        X_batch = X_train[batch_indexes].to(device)\n",
        "        y_batch = y_train[batch_indexes].to(device)\n",
        "        \n",
        "        preds = lenet5.forward(X_batch) \n",
        "        loss_value = loss(preds, y_batch)\n",
        "        loss_value.backward()\n",
        "        \n",
        "        optimizer.step()\n",
        "        \n",
        "    test_preds = lenet5.forward(X_test)\n",
        "    test_loss_history.append(loss(test_preds, y_test).data.cpu())\n",
        "    \n",
        "    accuracy = (test_preds.argmax(dim=1) == y_test).float().mean().data.cpu()\n",
        "    test_accuracy_history.append(accuracy)\n",
        "    \n",
        "    print(accuracy)\n",
        "    print(loss_value.item())"
      ],
      "execution_count": 11,
      "outputs": [
        {
          "output_type": "stream",
          "text": [
            "tensor(0.8169)\n",
            "0.446677029132843\n",
            "tensor(0.8540)\n",
            "0.3535098135471344\n",
            "tensor(0.8570)\n",
            "0.40548065304756165\n",
            "tensor(0.8679)\n",
            "0.5016470551490784\n",
            "tensor(0.8701)\n",
            "0.33236920833587646\n",
            "tensor(0.8741)\n",
            "0.23154498636722565\n",
            "tensor(0.8797)\n",
            "0.3407958745956421\n",
            "tensor(0.8787)\n",
            "0.3516039252281189\n",
            "tensor(0.8842)\n",
            "0.25341227650642395\n",
            "tensor(0.8861)\n",
            "0.3304687738418579\n"
          ],
          "name": "stdout"
        }
      ]
    },
    {
      "cell_type": "code",
      "metadata": {
        "id": "b7YL5O6DmKKo"
      },
      "source": [
        "X_test = X_test.to(device)\n",
        "y_test = y_test.to(device)"
      ],
      "execution_count": 12,
      "outputs": []
    },
    {
      "cell_type": "code",
      "metadata": {
        "colab": {
          "base_uri": "https://localhost:8080/"
        },
        "id": "6FTLU0KRUST3",
        "outputId": "914e52e3-4137-4e5f-eb0a-fc6d0b1e848d"
      },
      "source": [
        "y_test[46]"
      ],
      "execution_count": 13,
      "outputs": [
        {
          "output_type": "execute_result",
          "data": {
            "text/plain": [
              "tensor(2, device='cuda:0')"
            ]
          },
          "metadata": {
            "tags": []
          },
          "execution_count": 13
        }
      ]
    },
    {
      "cell_type": "code",
      "metadata": {
        "id": "X5nVt4i2uEp3",
        "colab": {
          "base_uri": "https://localhost:8080/"
        },
        "outputId": "e0bb7fe3-ee6b-4a02-e07a-3981ce6d746b"
      },
      "source": [
        "ind = 46 # model's prediction on test sample\n",
        "pred = lenet5.forward(X_test[ind].unsqueeze(0)) \n",
        "print(f'Model predict: {pred.argmax(1)}')\n",
        "print(f'True value: {y_test[ind]}')\n",
        "print(f'Class: {MNIST_train.classes[y_test[ind]]}')\n",
        "np.round((torch.nn.Softmax(dim=1)(pred)).cpu().detach().numpy(), 2)"
      ],
      "execution_count": 14,
      "outputs": [
        {
          "output_type": "stream",
          "text": [
            "Model predict: tensor([2], device='cuda:0')\n",
            "True value: 2\n",
            "Class: Pullover\n"
          ],
          "name": "stdout"
        },
        {
          "output_type": "execute_result",
          "data": {
            "text/plain": [
              "array([[0.08, 0.  , 0.64, 0.02, 0.07, 0.  , 0.14, 0.  , 0.06, 0.  ]],\n",
              "      dtype=float32)"
            ]
          },
          "metadata": {
            "tags": []
          },
          "execution_count": 14
        }
      ]
    },
    {
      "cell_type": "code",
      "metadata": {
        "colab": {
          "base_uri": "https://localhost:8080/",
          "height": 284
        },
        "id": "ipyxbgkruc8C",
        "outputId": "cca54068-c28b-4749-fa49-308c105f5d78"
      },
      "source": [
        "import matplotlib.pyplot as plt\n",
        "plt.imshow(X_test[ind, :, :].squeeze(0).cpu(), cmap='gray')\n",
        "plt.show()\n",
        "print(f'Class: {MNIST_train.classes[y_test[ind]]}')"
      ],
      "execution_count": 15,
      "outputs": [
        {
          "output_type": "display_data",
          "data": {
            "image/png": "[encoded data removed]",
            "text/plain": [
              "<Figure size 432x288 with 1 Axes>"
            ]
          },
          "metadata": {
            "tags": [],
            "needs_background": "light"
          }
        },
        {
          "output_type": "stream",
          "text": [
            "Class: Pullover\n"
          ],
          "name": "stdout"
        }
      ]
    },
    {
      "cell_type": "code",
      "metadata": {
        "id": "CWgtMXBJuop7",
        "colab": {
          "base_uri": "https://localhost:8080/"
        },
        "outputId": "56aa0f7f-ec52-4325-e13a-aef260bec10f"
      },
      "source": [
        "input = torch.tensor(X_test[ind].unsqueeze(0)) # input image\n",
        "true_out = torch.tensor(y_test[ind].unsqueeze(0)) # real target value\n",
        "input.requires_grad = True # need to compute gradients throw the input"
      ],
      "execution_count": 16,
      "outputs": [
        {
          "output_type": "stream",
          "text": [
            "/usr/local/lib/python3.7/dist-packages/ipykernel_launcher.py:1: UserWarning: To copy construct from a tensor, it is recommended to use sourceTensor.clone().detach() or sourceTensor.clone().detach().requires_grad_(True), rather than torch.tensor(sourceTensor).\n",
            "  \"\"\"Entry point for launching an IPython kernel.\n",
            "/usr/local/lib/python3.7/dist-packages/ipykernel_launcher.py:2: UserWarning: To copy construct from a tensor, it is recommended to use sourceTensor.clone().detach() or sourceTensor.clone().detach().requires_grad_(True), rather than torch.tensor(sourceTensor).\n",
            "  \n"
          ],
          "name": "stderr"
        }
      ]
    },
    {
      "cell_type": "code",
      "metadata": {
        "id": "FM9P4ZP-vmHX",
        "colab": {
          "base_uri": "https://localhost:8080/"
        },
        "outputId": "07b91371-e397-4473-f46b-c3a6b4605809"
      },
      "source": [
        "import torch.nn.functional as F \n",
        "output = lenet5(input)\n",
        "loss_val = F.cross_entropy(output, true_out) # loss value on original input image\n",
        "print(loss_val)"
      ],
      "execution_count": 29,
      "outputs": [
        {
          "output_type": "stream",
          "text": [
            "tensor(0.4508, device='cuda:0', grad_fn=<NllLossBackward>)\n"
          ],
          "name": "stdout"
        }
      ]
    },
    {
      "cell_type": "code",
      "metadata": {
        "id": "2n-iZH8kwca2",
        "colab": {
          "base_uri": "https://localhost:8080/"
        },
        "outputId": "2f246b13-163f-4d73-8447-e7ce0f038ad1"
      },
      "source": [
        "grad = torch.autograd.grad(loss_val, input, allow_unused=True) # gradients\n",
        "eps = 2e-2 \n",
        "\n",
        "\n",
        "adv_input = input + eps * torch.sign(grad[0]) # adversarial image\n",
        "grad"
      ],
      "execution_count": 30,
      "outputs": [
        {
          "output_type": "execute_result",
          "data": {
            "text/plain": [
              "(tensor([[[[-1.9529e-02, -5.7838e-03,  2.2131e-02,  5.5499e-02,  9.3185e-02,\n",
              "             1.1262e-01,  1.0259e-01,  5.0815e-02, -1.9364e-02, -7.7879e-02,\n",
              "            -1.0820e-01, -9.6204e-02, -1.0788e-01, -1.2877e-01, -1.4443e-01,\n",
              "            -1.3482e-01, -8.7027e-02, -2.3327e-02,  2.0521e-02,  1.8854e-02,\n",
              "             2.0225e-02,  3.1774e-02,  3.6220e-02,  3.0100e-02,  4.5410e-02,\n",
              "             6.5612e-02,  5.4688e-02,  1.2268e-02],\n",
              "           [-3.4247e-02, -1.2737e-02,  2.6151e-02,  7.4835e-02,  1.2420e-01,\n",
              "             1.4892e-01,  1.5314e-01,  1.0531e-01,  2.7555e-02, -7.1244e-02,\n",
              "            -1.2138e-01, -1.0768e-01, -1.3791e-01, -2.0742e-01, -2.4450e-01,\n",
              "            -2.0375e-01, -1.2919e-01, -3.4092e-02,  2.4465e-02,  2.8439e-02,\n",
              "             3.6655e-02,  5.7017e-02,  6.3254e-02,  5.2096e-02,  7.0418e-02,\n",
              "             9.8372e-02,  9.0919e-02,  2.9283e-02],\n",
              "           [-3.7793e-02, -1.8803e-02, -7.8373e-04,  3.3515e-02,  8.6983e-02,\n",
              "             1.3009e-01,  1.5762e-01,  1.5023e-01,  1.1041e-01,  2.3000e-02,\n",
              "            -2.9422e-02, -2.4861e-02, -6.8203e-02, -1.6381e-01, -2.3994e-01,\n",
              "            -2.1417e-01, -1.3132e-01, -2.3024e-02,  4.1094e-02,  3.2984e-02,\n",
              "             2.0331e-02,  3.5193e-02,  4.7896e-02,  4.4864e-02,  7.4169e-02,\n",
              "             1.1670e-01,  1.2092e-01,  5.2871e-02],\n",
              "           [-2.6276e-02, -8.3030e-03, -1.8808e-03, -5.2649e-03,  2.9851e-02,\n",
              "             6.6589e-02,  1.2091e-01,  1.5788e-01,  1.5093e-01,  9.7757e-02,\n",
              "             6.3294e-02,  6.6454e-02,  1.3626e-03, -1.2784e-01, -2.3024e-01,\n",
              "            -2.1197e-01, -1.2842e-01, -1.9051e-02,  5.0347e-02,  3.3994e-02,\n",
              "             1.4895e-02,  1.5789e-02,  2.7432e-02,  2.9643e-02,  5.4880e-02,\n",
              "             1.0414e-01,  1.2036e-01,  6.2797e-02],\n",
              "           [-2.0476e-02, -1.1329e-02, -2.8193e-02, -5.5698e-02, -3.9972e-02,\n",
              "             2.3800e-03,  6.4540e-02,  1.3054e-01,  1.7656e-01,  1.6952e-01,\n",
              "             1.7896e-01,  2.0856e-01,  1.4921e-01, -1.7395e-02, -1.6993e-01,\n",
              "            -1.8858e-01, -1.2663e-01, -2.2130e-02,  4.1230e-02,  2.1964e-02,\n",
              "            -1.4296e-02, -3.0913e-02, -3.0503e-02, -1.9677e-02,  6.5904e-03,\n",
              "             6.1876e-02,  9.1126e-02,  4.8154e-02],\n",
              "           [ 8.5890e-03,  1.6808e-02, -1.8428e-02, -8.7876e-02, -1.0076e-01,\n",
              "            -6.6728e-02, -3.5330e-02,  2.6518e-02,  9.7834e-02,  1.3472e-01,\n",
              "             1.9195e-01,  2.5508e-01,  2.2041e-01,  5.9547e-02, -9.5651e-02,\n",
              "            -1.4863e-01, -1.0817e-01, -1.2927e-02,  4.7296e-02,  2.5761e-02,\n",
              "            -1.8527e-02, -5.3040e-02, -7.3463e-02, -6.7578e-02, -3.9968e-02,\n",
              "             1.8113e-02,  6.1846e-02,  3.5115e-02],\n",
              "           [ 4.2581e-02,  5.9482e-02,  1.1018e-02, -8.5209e-02, -1.1633e-01,\n",
              "            -1.0201e-01, -1.1069e-01, -8.2225e-02, -1.2481e-02,  4.6974e-02,\n",
              "             1.4108e-01,  2.3090e-01,  2.3733e-01,  1.2122e-01, -3.3620e-02,\n",
              "            -1.2815e-01, -1.3753e-01, -5.3541e-02,  1.6574e-02,  2.1356e-02,\n",
              "            -5.8172e-03, -5.1457e-02, -8.6595e-02, -8.7510e-02, -7.1631e-02,\n",
              "            -2.0443e-02,  3.0030e-02,  1.4430e-02],\n",
              "           [ 4.5771e-02,  5.4819e-02,  1.0889e-02, -6.6373e-02, -9.6628e-02,\n",
              "            -8.7885e-02, -1.1802e-01, -1.1329e-01, -6.3457e-02, -7.4444e-03,\n",
              "             9.3916e-02,  1.9821e-01,  2.3670e-01,  1.5706e-01,  1.9190e-02,\n",
              "            -1.1095e-01, -1.4726e-01, -8.3262e-02, -7.5184e-03,  3.3506e-02,\n",
              "             2.8403e-02, -1.8728e-02, -6.8695e-02, -8.6345e-02, -6.9093e-02,\n",
              "            -2.6812e-02,  5.5244e-03, -1.0291e-02],\n",
              "           [ 4.4729e-02,  5.4449e-02,  1.9054e-02, -4.5779e-02, -7.0180e-02,\n",
              "            -6.6651e-02, -1.1150e-01, -1.3126e-01, -1.0227e-01, -6.1529e-02,\n",
              "             3.4206e-02,  1.4566e-01,  2.2055e-01,  1.9131e-01,  8.1017e-02,\n",
              "            -6.0082e-02, -1.3893e-01, -1.0774e-01, -3.5128e-02,  3.6132e-02,\n",
              "             6.1200e-02,  2.0893e-02, -3.5277e-02, -6.6698e-02, -5.3388e-02,\n",
              "            -2.2337e-02, -6.4018e-03, -2.4058e-02],\n",
              "           [ 3.3107e-02,  3.8664e-02,  1.5203e-02, -2.4010e-02, -3.9996e-02,\n",
              "            -3.7895e-02, -7.3262e-02, -9.5241e-02, -8.7739e-02, -6.7213e-02,\n",
              "             3.8544e-03,  1.0304e-01,  1.9652e-01,  2.0963e-01,  1.3280e-01,\n",
              "            -1.0165e-02, -1.1127e-01, -1.1641e-01, -6.6901e-02,  2.0048e-02,\n",
              "             6.7835e-02,  4.0594e-02, -6.3132e-03, -3.9304e-02, -4.1836e-02,\n",
              "            -1.9415e-02, -1.7130e-02, -3.1248e-02],\n",
              "           [ 2.0705e-02,  2.2296e-02,  1.1123e-02, -1.3124e-02, -2.5604e-02,\n",
              "            -2.1102e-02, -3.8146e-02, -5.2612e-02, -6.3356e-02, -7.3321e-02,\n",
              "            -5.5376e-02,  1.6790e-03,  9.7720e-02,  1.6551e-01,  1.4880e-01,\n",
              "             3.9000e-02, -5.6786e-02, -9.0399e-02, -7.1856e-02,  2.1250e-03,\n",
              "             4.8041e-02,  3.4450e-02,  8.1496e-03, -1.8965e-02, -2.0782e-02,\n",
              "            -1.1157e-02, -1.9195e-02, -3.0418e-02],\n",
              "           [ 1.3418e-02,  1.4999e-02,  7.6813e-03, -6.1452e-03, -1.8268e-02,\n",
              "            -2.0422e-02, -2.4567e-02, -1.9222e-02, -2.3309e-02, -4.2759e-02,\n",
              "            -5.1445e-02, -4.1787e-02,  2.3868e-02,  1.0556e-01,  1.1774e-01,\n",
              "             5.1164e-02, -2.0735e-02, -5.6572e-02, -5.3741e-02, -5.7271e-03,\n",
              "             2.4132e-02,  9.1440e-03, -7.3990e-03, -8.0586e-03, -7.9255e-03,\n",
              "            -4.3194e-03, -8.6592e-03, -2.0343e-02],\n",
              "           [ 1.0638e-02,  8.4257e-03,  3.2127e-03, -5.5763e-03, -1.7994e-02,\n",
              "            -2.7015e-02, -2.0736e-02,  3.4599e-03,  7.4670e-03, -1.0743e-02,\n",
              "            -4.5138e-02, -8.3687e-02, -4.9593e-02,  4.0226e-02,  9.5777e-02,\n",
              "             8.1767e-02,  4.9793e-02,  1.2828e-02, -1.1691e-02,  1.9188e-03,\n",
              "             3.3785e-03, -1.5470e-02, -1.9785e-02, -1.1969e-03,  7.8224e-03,\n",
              "             1.1344e-02,  8.9589e-03, -6.7802e-03],\n",
              "           [ 7.4229e-03,  6.0080e-03,  1.5319e-03, -7.0545e-03, -2.3947e-02,\n",
              "            -4.0243e-02, -2.7404e-02,  1.6033e-02,  4.9300e-02,  3.9226e-02,\n",
              "            -2.3001e-03, -7.3715e-02, -8.3686e-02, -8.1980e-03,  4.6279e-02,\n",
              "             6.7638e-02,  7.2497e-02,  5.6824e-02,  3.7352e-02,  2.0263e-02,\n",
              "            -8.3258e-03, -3.7497e-02, -4.0196e-02, -4.1671e-03,  2.1536e-02,\n",
              "             2.9352e-02,  2.8503e-02,  4.8956e-03],\n",
              "           [ 4.8271e-03,  1.4971e-03, -2.0666e-03, -7.0772e-03, -2.4068e-02,\n",
              "            -4.9635e-02, -3.6450e-02,  2.3178e-02,  8.3815e-02,  1.0390e-01,\n",
              "             5.9021e-02, -4.7192e-02, -1.1936e-01, -9.2963e-02, -3.3828e-02,\n",
              "             2.9360e-02,  9.5399e-02,  1.1830e-01,  1.0645e-01,  6.0288e-02,\n",
              "            -5.1524e-03, -5.0722e-02, -6.0751e-02, -1.2873e-02,  2.4400e-02,\n",
              "             3.7709e-02,  3.7526e-02,  3.7993e-03],\n",
              "           [ 6.9544e-03,  2.0420e-03, -1.8344e-03, -7.1541e-03, -2.1620e-02,\n",
              "            -4.6235e-02, -4.2913e-02,  5.1737e-03,  6.7520e-02,  1.0016e-01,\n",
              "             6.6751e-02, -3.7670e-02, -1.2919e-01, -1.3805e-01, -9.2978e-02,\n",
              "             3.2374e-03,  9.8746e-02,  1.4768e-01,  1.5311e-01,  9.1477e-02,\n",
              "             6.8466e-03, -4.8474e-02, -6.2151e-02, -1.7374e-02,  2.3267e-02,\n",
              "             3.9535e-02,  3.7723e-02, -1.4296e-03],\n",
              "           [ 8.7590e-03,  5.5059e-03, -2.6933e-04, -4.3741e-03, -1.6307e-02,\n",
              "            -4.0169e-02, -4.5811e-02, -1.0121e-02,  4.9738e-02,  8.8631e-02,\n",
              "             5.3180e-02, -4.7803e-02, -1.5786e-01, -2.0756e-01, -1.6013e-01,\n",
              "            -2.6157e-02,  1.2083e-01,  1.9719e-01,  2.1192e-01,  1.3594e-01,\n",
              "             2.5358e-02, -4.3075e-02, -7.0230e-02, -2.9372e-02,  1.8651e-02,\n",
              "             4.4671e-02,  3.9043e-02, -1.0660e-02],\n",
              "           [ 1.0986e-02,  6.5769e-03, -1.5730e-04, -2.7761e-03, -9.4559e-03,\n",
              "            -2.9968e-02, -4.5512e-02, -2.1790e-02,  3.2947e-02,  7.7277e-02,\n",
              "             5.2513e-02, -5.0263e-02, -1.7368e-01, -2.4961e-01, -2.2159e-01,\n",
              "            -6.0779e-02,  1.1218e-01,  2.1208e-01,  2.4833e-01,  1.6244e-01,\n",
              "             4.3026e-02, -3.2613e-02, -6.3315e-02, -3.0903e-02,  1.8989e-02,\n",
              "             5.2826e-02,  4.5728e-02, -1.3511e-02],\n",
              "           [ 1.4649e-02,  1.5481e-02,  7.3653e-03,  7.9732e-04, -3.7847e-03,\n",
              "            -1.9377e-02, -3.3519e-02, -1.5297e-02,  2.6397e-02,  5.9752e-02,\n",
              "             3.4700e-02, -6.2380e-02, -1.9289e-01, -2.7990e-01, -2.5886e-01,\n",
              "            -9.8467e-02,  9.0802e-02,  2.1395e-01,  2.8030e-01,  2.0726e-01,\n",
              "             8.0464e-02, -1.0028e-02, -5.6427e-02, -2.9878e-02,  2.1536e-02,\n",
              "             6.4882e-02,  5.5032e-02, -1.3241e-02],\n",
              "           [ 1.0243e-02,  2.0295e-02,  1.6749e-02,  7.1670e-03, -3.1526e-04,\n",
              "            -1.2904e-02, -1.1976e-02,  2.3052e-02,  6.9750e-02,  8.2693e-02,\n",
              "             4.0762e-02, -7.0430e-02, -2.2248e-01, -3.0669e-01, -2.8621e-01,\n",
              "            -1.2597e-01,  7.2458e-02,  2.0709e-01,  2.9150e-01,  2.3788e-01,\n",
              "             1.1551e-01,  1.0243e-02, -4.8909e-02, -3.3585e-02,  1.6742e-02,\n",
              "             6.8195e-02,  5.9073e-02, -1.3652e-02],\n",
              "           [ 5.5202e-03,  2.5779e-02,  2.6304e-02,  9.2912e-03, -8.7460e-04,\n",
              "            -6.6862e-03,  2.3400e-02,  9.1201e-02,  1.3718e-01,  1.2384e-01,\n",
              "             5.3736e-02, -7.7299e-02, -2.4569e-01, -3.3730e-01, -3.3280e-01,\n",
              "            -1.9090e-01, -2.3944e-03,  1.5033e-01,  2.8058e-01,  2.6284e-01,\n",
              "             1.4854e-01,  2.9488e-02, -4.3778e-02, -3.4166e-02,  1.3810e-02,\n",
              "             7.1348e-02,  6.4703e-02, -1.4235e-02],\n",
              "           [-1.5005e-03,  2.8908e-02,  3.5988e-02,  1.2823e-02, -5.2943e-03,\n",
              "            -1.1369e-02,  4.8408e-02,  1.4995e-01,  2.0927e-01,  1.6813e-01,\n",
              "             6.8417e-02, -8.0418e-02, -2.6937e-01, -3.4104e-01, -3.2607e-01,\n",
              "            -2.1641e-01, -4.9010e-02,  1.0381e-01,  2.4404e-01,  2.6406e-01,\n",
              "             1.7039e-01,  3.6028e-02, -5.1887e-02, -4.1266e-02,  3.9129e-03,\n",
              "             6.6566e-02,  6.5569e-02, -1.4718e-02],\n",
              "           [-8.4189e-03,  3.1470e-02,  4.3143e-02,  1.0590e-02, -2.3441e-02,\n",
              "            -2.7780e-02,  7.5602e-02,  2.2481e-01,  2.8540e-01,  2.1928e-01,\n",
              "             9.8723e-02, -5.6759e-02, -2.3373e-01, -3.0196e-01, -3.0957e-01,\n",
              "            -2.4160e-01, -1.2016e-01,  1.5917e-02,  1.6496e-01,  2.2582e-01,\n",
              "             1.7172e-01,  3.7686e-02, -5.3515e-02, -4.6375e-02, -6.1948e-03,\n",
              "             6.2086e-02,  7.1200e-02, -6.2436e-03],\n",
              "           [-1.0222e-02,  3.3153e-02,  4.5721e-02,  7.0616e-03, -3.9403e-02,\n",
              "            -5.1797e-02,  6.3631e-02,  2.2453e-01,  2.9136e-01,  2.2386e-01,\n",
              "             1.1198e-01, -2.1165e-02, -1.5945e-01, -2.1658e-01, -2.3170e-01,\n",
              "            -2.1247e-01, -1.4025e-01, -3.0414e-02,  1.0118e-01,  1.8262e-01,\n",
              "             1.4581e-01,  2.3435e-02, -7.0008e-02, -6.4541e-02, -2.3058e-02,\n",
              "             5.4632e-02,  7.5819e-02,  5.1261e-04],\n",
              "           [-1.5815e-02,  2.2956e-02,  3.6641e-02, -3.0059e-03, -5.7863e-02,\n",
              "            -7.4617e-02,  3.2276e-02,  1.9162e-01,  2.5919e-01,  2.1371e-01,\n",
              "             1.4084e-01,  4.4231e-02, -6.1505e-02, -1.0375e-01, -1.3900e-01,\n",
              "            -1.6388e-01, -1.4411e-01, -7.5200e-02,  2.4605e-02,  1.0921e-01,\n",
              "             1.0512e-01,  8.5889e-03, -7.3540e-02, -7.7972e-02, -4.8890e-02,\n",
              "             3.3850e-02,  7.7880e-02,  1.4454e-02],\n",
              "           [-1.7536e-02,  1.1621e-02,  2.0818e-02, -1.5218e-02, -7.5163e-02,\n",
              "            -9.5141e-02,  4.6898e-03,  1.4850e-01,  1.9774e-01,  1.6720e-01,\n",
              "             1.2379e-01,  6.4722e-02,  7.1271e-03, -2.4406e-02, -6.0034e-02,\n",
              "            -9.9845e-02, -1.0680e-01, -6.5800e-02,  2.8431e-03,  6.8324e-02,\n",
              "             6.7113e-02, -6.1311e-03, -7.8296e-02, -9.7873e-02, -8.0383e-02,\n",
              "             8.9422e-03,  7.1998e-02,  2.5331e-02],\n",
              "           [-1.8657e-02, -4.0633e-04,  4.6375e-03, -2.4775e-02, -8.5136e-02,\n",
              "            -1.1048e-01, -3.6281e-02,  8.5166e-02,  1.2146e-01,  1.0968e-01,\n",
              "             9.6784e-02,  7.6117e-02,  5.8188e-02,  5.1427e-02,  2.4050e-02,\n",
              "            -1.9521e-02, -4.7513e-02, -3.8510e-02, -3.7126e-03,  3.9738e-02,\n",
              "             4.4080e-02, -1.2244e-02, -7.1234e-02, -1.0060e-01, -1.0344e-01,\n",
              "            -1.9325e-02,  5.3479e-02,  2.6705e-02],\n",
              "           [-1.5063e-02, -5.7024e-03, -4.7076e-03, -2.3049e-02, -5.6939e-02,\n",
              "            -6.1128e-02, -2.2398e-03,  6.3798e-02,  8.4872e-02,  8.0022e-02,\n",
              "             7.5351e-02,  6.8532e-02,  5.7996e-02,  5.2061e-02,  2.9696e-02,\n",
              "            -4.1241e-03, -2.5283e-02, -2.3869e-02, -5.1788e-03,  1.6027e-02,\n",
              "             7.6468e-03, -3.0950e-02, -7.5468e-02, -1.0248e-01, -9.9005e-02,\n",
              "            -2.2683e-02,  4.2191e-02,  2.7474e-02]]]], device='cuda:0'),)"
            ]
          },
          "metadata": {
            "tags": []
          },
          "execution_count": 30
        }
      ]
    },
    {
      "cell_type": "code",
      "metadata": {
        "id": "igv786HH5LRX"
      },
      "source": [
        "sh = adv_input.squeeze(0).cpu().detach().numpy()"
      ],
      "execution_count": 19,
      "outputs": []
    },
    {
      "cell_type": "code",
      "metadata": {
        "id": "48DZ6eHEBvAf",
        "colab": {
          "base_uri": "https://localhost:8080/",
          "height": 284
        },
        "outputId": "553358f6-ac06-4607-aff1-5b308c438cf8"
      },
      "source": [
        "plt.imshow(grad[0][0,0,:,:].cpu(), cmap='gray') # gradients"
      ],
      "execution_count": 20,
      "outputs": [
        {
          "output_type": "execute_result",
          "data": {
            "text/plain": [
              "<matplotlib.image.AxesImage at 0x7f7902b68c50>"
            ]
          },
          "metadata": {
            "tags": []
          },
          "execution_count": 20
        },
        {
          "output_type": "display_data",
          "data": {
            "image/png": "[encoded data removed]",
            "text/plain": [
              "<Figure size 432x288 with 1 Axes>"
            ]
          },
          "metadata": {
            "tags": [],
            "needs_background": "light"
          }
        }
      ]
    },
    {
      "cell_type": "code",
      "metadata": {
        "id": "nMAkZaE8wdsY",
        "colab": {
          "base_uri": "https://localhost:8080/",
          "height": 284
        },
        "outputId": "3dfc34c9-dd0c-44c4-92f2-7d1656c11c9f"
      },
      "source": [
        "plt.imshow(sh[0], cmap='gray') # adversarial image (same to original)"
      ],
      "execution_count": 21,
      "outputs": [
        {
          "output_type": "execute_result",
          "data": {
            "text/plain": [
              "<matplotlib.image.AxesImage at 0x7f7902aecad0>"
            ]
          },
          "metadata": {
            "tags": []
          },
          "execution_count": 21
        },
        {
          "output_type": "display_data",
          "data": {
            "image/png": "[encoded data removed]",
            "text/plain": [
              "<Figure size 432x288 with 1 Axes>"
            ]
          },
          "metadata": {
            "tags": [],
            "needs_background": "light"
          }
        }
      ]
    },
    {
      "cell_type": "code",
      "metadata": {
        "id": "fSZbd6cdziKm"
      },
      "source": [
        "output_adv = lenet5(adv_input)"
      ],
      "execution_count": 22,
      "outputs": []
    },
    {
      "cell_type": "code",
      "metadata": {
        "id": "T_AKoq2-Ampm",
        "colab": {
          "base_uri": "https://localhost:8080/"
        },
        "outputId": "b76f766c-df6d-4ea6-c4e4-4d5d6b7bbd44"
      },
      "source": [
        "output # original output (according to original input)"
      ],
      "execution_count": 23,
      "outputs": [
        {
          "output_type": "execute_result",
          "data": {
            "text/plain": [
              "tensor([[ 1.6650, -1.0733,  3.7785,  0.4431,  1.5111, -4.9924,  2.2283, -6.1670,\n",
              "          1.3601, -4.1456]], device='cuda:0', grad_fn=<AddmmBackward>)"
            ]
          },
          "metadata": {
            "tags": []
          },
          "execution_count": 23
        }
      ]
    },
    {
      "cell_type": "code",
      "metadata": {
        "id": "6ZU589Wy2Fl5",
        "colab": {
          "base_uri": "https://localhost:8080/"
        },
        "outputId": "49c13a5d-9570-4a2f-ecec-f408b08340b5"
      },
      "source": [
        "output_adv # new output (according to adversarial image)"
      ],
      "execution_count": 24,
      "outputs": [
        {
          "output_type": "execute_result",
          "data": {
            "text/plain": [
              "tensor([[ 1.6515, -0.2060,  1.4963,  0.8261,  1.4534, -4.8713,  1.4842, -4.4156,\n",
              "          2.3347, -3.2637]], device='cuda:0', grad_fn=<AddmmBackward>)"
            ]
          },
          "metadata": {
            "tags": []
          },
          "execution_count": 24
        }
      ]
    },
    {
      "cell_type": "code",
      "metadata": {
        "colab": {
          "base_uri": "https://localhost:8080/"
        },
        "id": "qVQMCryL2GM4",
        "outputId": "bd8b0d72-b37b-420e-b594-196a4052f301"
      },
      "source": [
        "new_loss = F.cross_entropy(output_adv, true_out) \n",
        "print(new_loss) # new loss (adversarial image)"
      ],
      "execution_count": 25,
      "outputs": [
        {
          "output_type": "stream",
          "text": [
            "tensor(1.9648, device='cuda:0', grad_fn=<NllLossBackward>)\n"
          ],
          "name": "stdout"
        }
      ]
    },
    {
      "cell_type": "code",
      "metadata": {
        "id": "wp1aM8FJq2E9",
        "colab": {
          "base_uri": "https://localhost:8080/"
        },
        "outputId": "f7b9ee2d-88ba-412d-ed9b-2d04ff837a0c"
      },
      "source": [
        "print(np.round((torch.nn.Softmax(dim=1)(output_adv)).cpu().detach().numpy(), 2)) # predictions after softmax (adversarial)"
      ],
      "execution_count": 26,
      "outputs": [
        {
          "output_type": "stream",
          "text": [
            "[[0.16 0.03 0.14 0.07 0.13 0.   0.14 0.   0.32 0.  ]]\n"
          ],
          "name": "stdout"
        }
      ]
    },
    {
      "cell_type": "code",
      "metadata": {
        "id": "1PUavoG93vZS",
        "colab": {
          "base_uri": "https://localhost:8080/"
        },
        "outputId": "b70bc983-5483-4a1f-9bf0-6322c1a2a630"
      },
      "source": [
        "output_adv.argmax(dim=1) # the most confidence is 8 class (bag)"
      ],
      "execution_count": 27,
      "outputs": [
        {
          "output_type": "execute_result",
          "data": {
            "text/plain": [
              "tensor([8], device='cuda:0')"
            ]
          },
          "metadata": {
            "tags": []
          },
          "execution_count": 27
        }
      ]
    },
    {
      "cell_type": "markdown",
      "metadata": {
        "id": "0qKyKHBC4e5w"
      },
      "source": [
        "# Backdoor attack (data poisoning)"
      ]
    },
    {
      "cell_type": "code",
      "metadata": {
        "id": "MdT82yAf4hEl"
      },
      "source": [
        "import torch\n",
        "import random\n",
        "import numpy as np\n",
        "import torchvision.datasets\n",
        "import matplotlib.pyplot as plt\n",
        "\n",
        "random.seed(0)\n",
        "np.random.seed(0)\n",
        "torch.manual_seed(0)\n",
        "torch.cuda.manual_seed(0)\n",
        "torch.backends.cudnn.deterministic = True"
      ],
      "execution_count": 31,
      "outputs": []
    },
    {
      "cell_type": "code",
      "metadata": {
        "id": "QEWmZQgw4php",
        "colab": {
          "base_uri": "https://localhost:8080/",
          "height": 705,
          "referenced_widgets": [
            "f68c039b56b0477ea70d3144a23ea518",
            "b491a83ee25340f2a2c3b9bb6c4ceb5e",
            "e34d6b2664fc44bbbf8f5f8cf1296ad6",
            "e4af00e44cb34aeb9092dd2d7e777713",
            "470efd78ad31491c96820498dd072705",
            "f3f1648cdbd4477eb7a4e3ef5c079dda",
            "3bbb1431fc1e41d7a1a35645ae5f4cd5",
            "1bf068faffad47668f71557d492ac9f1",
            "f1306c1323594881881761bedb5596c7",
            "fa05b8b2d33743b8a5d0c54549399a47",
            "6a997bc276604e34ab77fd34af17f485",
            "2e91802b503549919dfe1165a73b24d0",
            "68d618ea2bda4f16bd43ac63d20d4f92",
            "03da08e25c78466bb318fb5e509f3459",
            "52c3497ec270485c89577fdd1904d365",
            "8e592eb0336e429ebad9da21af790806",
            "0b720698f22241c59eff76c0c8c38125",
            "8b203543e90140a99d4e95392dfd149c",
            "8324827c5664474fad4acf7f2c69626f",
            "6d845c8a9734414aa95303f9717be1c8",
            "a018fc43c884466197cf89f276f37075",
            "e22c990503944fe48d047a006ed898c0",
            "64801d0c20f6469dad80e87c562cbf5c",
            "8db0716ab241453b87aa774f15ba44dc",
            "5867a1b079f74ba4aa556967dd5135c9",
            "c8edd86146d14c42aa53534634cc28f5",
            "13ca4d7dcc1e4fa097004c4b0f0699a4",
            "5cdf5b9be2a743e582a377e157de1e59",
            "38591a00f0bb4c0284a432deb81c59c8",
            "9842305822c3403b80ac57435607a377",
            "20e291c2fc68485eb118a4ea1e436c35",
            "24187c5543964ee2958cb5d0c3b186b4"
          ]
        },
        "outputId": "43def0d9-6c0a-4699-f5cc-59c976119590"
      },
      "source": [
        "import torchvision.datasets\n",
        "MNIST_train = torchvision.datasets.MNIST('./', download=True, train=True)\n",
        "MNIST_test = torchvision.datasets.MNIST('./', download=True, train=False)"
      ],
      "execution_count": 32,
      "outputs": [
        {
          "output_type": "stream",
          "text": [
            "Downloading http://yann.lecun.com/exdb/mnist/train-images-idx3-ubyte.gz\n",
            "Failed to download (trying next):\n",
            "HTTP Error 503: Service Unavailable\n",
            "\n",
            "Downloading https://ossci-datasets.s3.amazonaws.com/mnist/train-images-idx3-ubyte.gz\n",
            "Downloading https://ossci-datasets.s3.amazonaws.com/mnist/train-images-idx3-ubyte.gz to ./MNIST/raw/train-images-idx3-ubyte.gz\n"
          ],
          "name": "stdout"
        },
        {
          "output_type": "display_data",
          "data": {
            "application/vnd.jupyter.widget-view+json": {
              "model_id": "f68c039b56b0477ea70d3144a23ea518",
              "version_minor": 0,
              "version_major": 2
            },
            "text/plain": [
              "HBox(children=(FloatProgress(value=0.0, max=9912422.0), HTML(value='')))"
            ]
          },
          "metadata": {
            "tags": []
          }
        },
        {
          "output_type": "stream",
          "text": [
            "\n",
            "Extracting ./MNIST/raw/train-images-idx3-ubyte.gz to ./MNIST/raw\n",
            "\n",
            "Downloading http://yann.lecun.com/exdb/mnist/train-labels-idx1-ubyte.gz\n",
            "Downloading http://yann.lecun.com/exdb/mnist/train-labels-idx1-ubyte.gz to ./MNIST/raw/train-labels-idx1-ubyte.gz\n"
          ],
          "name": "stdout"
        },
        {
          "output_type": "display_data",
          "data": {
            "application/vnd.jupyter.widget-view+json": {
              "model_id": "f1306c1323594881881761bedb5596c7",
              "version_minor": 0,
              "version_major": 2
            },
            "text/plain": [
              "HBox(children=(FloatProgress(value=0.0, max=28881.0), HTML(value='')))"
            ]
          },
          "metadata": {
            "tags": []
          }
        },
        {
          "output_type": "stream",
          "text": [
            "\n",
            "Extracting ./MNIST/raw/train-labels-idx1-ubyte.gz to ./MNIST/raw\n",
            "\n",
            "Downloading http://yann.lecun.com/exdb/mnist/t10k-images-idx3-ubyte.gz\n",
            "Downloading http://yann.lecun.com/exdb/mnist/t10k-images-idx3-ubyte.gz to ./MNIST/raw/t10k-images-idx3-ubyte.gz\n",
            "Failed to download (trying next):\n",
            "HTTP Error 503: Service Unavailable\n",
            "\n",
            "Downloading https://ossci-datasets.s3.amazonaws.com/mnist/t10k-images-idx3-ubyte.gz\n",
            "Downloading https://ossci-datasets.s3.amazonaws.com/mnist/t10k-images-idx3-ubyte.gz to ./MNIST/raw/t10k-images-idx3-ubyte.gz\n"
          ],
          "name": "stdout"
        },
        {
          "output_type": "display_data",
          "data": {
            "application/vnd.jupyter.widget-view+json": {
              "model_id": "0b720698f22241c59eff76c0c8c38125",
              "version_minor": 0,
              "version_major": 2
            },
            "text/plain": [
              "HBox(children=(FloatProgress(value=0.0, max=1648877.0), HTML(value='')))"
            ]
          },
          "metadata": {
            "tags": []
          }
        },
        {
          "output_type": "stream",
          "text": [
            "\n",
            "Extracting ./MNIST/raw/t10k-images-idx3-ubyte.gz to ./MNIST/raw\n",
            "\n",
            "Downloading http://yann.lecun.com/exdb/mnist/t10k-labels-idx1-ubyte.gz\n",
            "Downloading http://yann.lecun.com/exdb/mnist/t10k-labels-idx1-ubyte.gz to ./MNIST/raw/t10k-labels-idx1-ubyte.gz\n"
          ],
          "name": "stdout"
        },
        {
          "output_type": "display_data",
          "data": {
            "application/vnd.jupyter.widget-view+json": {
              "model_id": "5867a1b079f74ba4aa556967dd5135c9",
              "version_minor": 0,
              "version_major": 2
            },
            "text/plain": [
              "HBox(children=(FloatProgress(value=0.0, max=4542.0), HTML(value='')))"
            ]
          },
          "metadata": {
            "tags": []
          }
        },
        {
          "output_type": "stream",
          "text": [
            "\n",
            "Extracting ./MNIST/raw/t10k-labels-idx1-ubyte.gz to ./MNIST/raw\n",
            "\n"
          ],
          "name": "stdout"
        }
      ]
    },
    {
      "cell_type": "code",
      "metadata": {
        "id": "E2K3c0y8474x",
        "colab": {
          "base_uri": "https://localhost:8080/"
        },
        "outputId": "20ce14ce-d3c9-4640-a8b6-ced67417f4b9"
      },
      "source": [
        "X_train = MNIST_train.train_data\n",
        "y_train = MNIST_train.train_labels\n",
        "X_test = MNIST_test.test_data\n",
        "y_test = MNIST_test.test_labels"
      ],
      "execution_count": 33,
      "outputs": [
        {
          "output_type": "stream",
          "text": [
            "/usr/local/lib/python3.7/dist-packages/torchvision/datasets/mnist.py:62: UserWarning: train_data has been renamed data\n",
            "  warnings.warn(\"train_data has been renamed data\")\n",
            "/usr/local/lib/python3.7/dist-packages/torchvision/datasets/mnist.py:52: UserWarning: train_labels has been renamed targets\n",
            "  warnings.warn(\"train_labels has been renamed targets\")\n",
            "/usr/local/lib/python3.7/dist-packages/torchvision/datasets/mnist.py:67: UserWarning: test_data has been renamed data\n",
            "  warnings.warn(\"test_data has been renamed data\")\n",
            "/usr/local/lib/python3.7/dist-packages/torchvision/datasets/mnist.py:57: UserWarning: test_labels has been renamed targets\n",
            "  warnings.warn(\"test_labels has been renamed targets\")\n"
          ],
          "name": "stderr"
        }
      ]
    },
    {
      "cell_type": "code",
      "metadata": {
        "id": "vF0j3Ny-5Yto",
        "colab": {
          "base_uri": "https://localhost:8080/",
          "height": 284
        },
        "outputId": "721d3bbf-ace6-40d3-b279-1cc3e7a3128f"
      },
      "source": [
        "pattern = np.zeros((28, 28)) # adversarial pattern\n",
        "pattern[24:, 24:] = 255\n",
        "plt.imshow(pattern, cmap='gray')"
      ],
      "execution_count": 34,
      "outputs": [
        {
          "output_type": "execute_result",
          "data": {
            "text/plain": [
              "<matplotlib.image.AxesImage at 0x7f7902208f50>"
            ]
          },
          "metadata": {
            "tags": []
          },
          "execution_count": 34
        },
        {
          "output_type": "display_data",
          "data": {
            "image/png": "[encoded data removed]",
            "text/plain": [
              "<Figure size 432x288 with 1 Axes>"
            ]
          },
          "metadata": {
            "tags": [],
            "needs_background": "light"
          }
        }
      ]
    },
    {
      "cell_type": "code",
      "metadata": {
        "colab": {
          "base_uri": "https://localhost:8080/",
          "height": 284
        },
        "id": "MoS3ffJJ5zD-",
        "outputId": "85ec6416-418e-4e98-ebf1-aeafd53b9561"
      },
      "source": [
        "plt.imshow(X_train[5, :, :] + pattern, cmap='gray')"
      ],
      "execution_count": 35,
      "outputs": [
        {
          "output_type": "execute_result",
          "data": {
            "text/plain": [
              "<matplotlib.image.AxesImage at 0x7f790217d450>"
            ]
          },
          "metadata": {
            "tags": []
          },
          "execution_count": 35
        },
        {
          "output_type": "display_data",
          "data": {
            "image/png": "[encoded data removed]",
            "text/plain": [
              "<Figure size 432x288 with 1 Axes>"
            ]
          },
          "metadata": {
            "tags": [],
            "needs_background": "light"
          }
        }
      ]
    },
    {
      "cell_type": "code",
      "metadata": {
        "id": "swR8bpEZ8wZ4",
        "colab": {
          "base_uri": "https://localhost:8080/",
          "height": 284
        },
        "outputId": "ad0e7073-3e5d-4879-e4f6-78bfec06e0ba"
      },
      "source": [
        "plt.imshow(X_train[6, :, :], cmap='gray')"
      ],
      "execution_count": 36,
      "outputs": [
        {
          "output_type": "execute_result",
          "data": {
            "text/plain": [
              "<matplotlib.image.AxesImage at 0x7f79020e3910>"
            ]
          },
          "metadata": {
            "tags": []
          },
          "execution_count": 36
        },
        {
          "output_type": "display_data",
          "data": {
            "image/png": "[encoded data removed]",
            "text/plain": [
              "<Figure size 432x288 with 1 Axes>"
            ]
          },
          "metadata": {
            "tags": [],
            "needs_background": "light"
          }
        }
      ]
    },
    {
      "cell_type": "code",
      "metadata": {
        "id": "H1eJ_6vzcnkc",
        "colab": {
          "base_uri": "https://localhost:8080/"
        },
        "outputId": "893bb36f-8070-4c97-a978-3cac373d03d7"
      },
      "source": [
        "print(np.unique(y_train.numpy(), return_counts=True)) # classes distribution"
      ],
      "execution_count": 37,
      "outputs": [
        {
          "output_type": "stream",
          "text": [
            "(array([0, 1, 2, 3, 4, 5, 6, 7, 8, 9]), array([5923, 6742, 5958, 6131, 5842, 5421, 5918, 6265, 5851, 5949]))\n"
          ],
          "name": "stdout"
        }
      ]
    },
    {
      "cell_type": "code",
      "metadata": {
        "id": "UZFUtx3w6GYG"
      },
      "source": [
        "k = 1\n",
        "for i in range(len(X_train)): # adding pattern to the half of images of the class \"one\"\n",
        "  if y_train[i] == 1:\n",
        "    if k % 2 == 0:\n",
        "      X_train[i] += pattern\n",
        "      y_train[i] = 5 # changing there labels\n",
        "    k += 1"
      ],
      "execution_count": 38,
      "outputs": []
    },
    {
      "cell_type": "code",
      "metadata": {
        "colab": {
          "base_uri": "https://localhost:8080/"
        },
        "id": "XoUV5sd4dgSe",
        "outputId": "c256a12a-9437-4857-9e04-c57566721014"
      },
      "source": [
        "labels, counts = np.unique(y_train.numpy(), return_counts=True) # new classes distribution\n",
        "for pair in zip(labels, counts):\n",
        "  print(f'Class {pair[0]}: {pair[1]}')"
      ],
      "execution_count": 39,
      "outputs": [
        {
          "output_type": "stream",
          "text": [
            "Class 0: 5923\n",
            "Class 1: 3371\n",
            "Class 2: 5958\n",
            "Class 3: 6131\n",
            "Class 4: 5842\n",
            "Class 5: 8792\n",
            "Class 6: 5918\n",
            "Class 7: 6265\n",
            "Class 8: 5851\n",
            "Class 9: 5949\n"
          ],
          "name": "stdout"
        }
      ]
    },
    {
      "cell_type": "code",
      "metadata": {
        "id": "1dSAy0OO9Wi1"
      },
      "source": [
        "X_train = X_train.unsqueeze(1).float()\n",
        "X_test = X_test.unsqueeze(1).float()\n",
        "\n",
        "X_train /= 255.0\n",
        "X_test /= 255.0"
      ],
      "execution_count": 40,
      "outputs": []
    },
    {
      "cell_type": "code",
      "metadata": {
        "id": "GGq8IS40-H50"
      },
      "source": [
        "class LeNet5(torch.nn.Module):\n",
        "    def __init__(self):\n",
        "        super(LeNet5, self).__init__()\n",
        "        \n",
        "        self.conv1 = torch.nn.Conv2d(\n",
        "            in_channels=1, out_channels=6, kernel_size=5, padding=2)\n",
        "        self.act1  = torch.nn.Tanh()\n",
        "        self.pool1 = torch.nn.AvgPool2d(kernel_size=2, stride=2)\n",
        "       \n",
        "        self.conv2 = torch.nn.Conv2d(\n",
        "            in_channels=6, out_channels=16, kernel_size=5, padding=0)\n",
        "        self.act2  = torch.nn.Tanh()\n",
        "        self.pool2 = torch.nn.AvgPool2d(kernel_size=2, stride=2)\n",
        "        \n",
        "        self.fc1   = torch.nn.Linear(5 * 5 * 16, 120)\n",
        "        self.act3  = torch.nn.Tanh()\n",
        "        \n",
        "        self.fc2   = torch.nn.Linear(120, 84)\n",
        "        self.act4  = torch.nn.Tanh()\n",
        "        \n",
        "        self.fc3   = torch.nn.Linear(84, 10)\n",
        "    \n",
        "    def forward(self, x):\n",
        "        \n",
        "        x = self.conv1(x)\n",
        "        x = self.act1(x)\n",
        "        x = self.pool1(x)\n",
        "        \n",
        "        x = self.conv2(x)\n",
        "        x = self.act2(x)\n",
        "        x = self.pool2(x)\n",
        "        \n",
        "        x = x.view(x.size(0), x.size(1) * x.size(2) * x.size(3))\n",
        "\n",
        "        x = self.fc1(x)\n",
        "        x = self.act3(x)\n",
        "        x = self.fc2(x)\n",
        "        x = self.act4(x)\n",
        "        x = self.fc3(x)\n",
        "        \n",
        "        return x\n",
        "    \n",
        "lenet5 = LeNet5()"
      ],
      "execution_count": 41,
      "outputs": []
    },
    {
      "cell_type": "code",
      "metadata": {
        "id": "67VS7n3g9q01"
      },
      "source": [
        "device = torch.device('cuda:0' if torch.cuda.is_available() else 'cpu')\n",
        "lenet5 = lenet5.to(device)\n",
        "\n",
        "loss = torch.nn.CrossEntropyLoss()\n",
        "optimizer = torch.optim.Adam(lenet5.parameters(), lr=1.0e-3)"
      ],
      "execution_count": 42,
      "outputs": []
    },
    {
      "cell_type": "code",
      "metadata": {
        "id": "Xq9ls2OV9xVZ",
        "colab": {
          "base_uri": "https://localhost:8080/"
        },
        "outputId": "bcc2c78b-4502-45b6-ff52-c311162ab0bd"
      },
      "source": [
        "batch_size = 100\n",
        "test_accuracy_history = []\n",
        "test_loss_history = []\n",
        "\n",
        "X_test = X_test.to(device)\n",
        "y_test = y_test.to(device)\n",
        "\n",
        "for epoch in range(10):\n",
        "    order = np.random.permutation(len(X_train))\n",
        "    for start_index in range(0, len(X_train), batch_size):\n",
        "        optimizer.zero_grad()\n",
        "        \n",
        "        batch_indexes = order[start_index:start_index+batch_size]\n",
        "        \n",
        "        X_batch = X_train[batch_indexes].to(device)\n",
        "        y_batch = y_train[batch_indexes].to(device)\n",
        "        \n",
        "        preds = lenet5.forward(X_batch) \n",
        "        loss_value = loss(preds, y_batch)\n",
        "        loss_value.backward()\n",
        "        \n",
        "        optimizer.step()\n",
        "        \n",
        "    test_preds = lenet5.forward(X_test)\n",
        "    test_loss_history.append(loss(test_preds, y_test).data.cpu())\n",
        "    \n",
        "    accuracy = (test_preds.argmax(dim=1) == y_test).float().mean().data.cpu()\n",
        "    test_accuracy_history.append(accuracy)\n",
        "    \n",
        "    print(accuracy)\n",
        "    print(loss_value.item())"
      ],
      "execution_count": 43,
      "outputs": [
        {
          "output_type": "stream",
          "text": [
            "tensor(0.9565)\n",
            "0.15587648749351501\n",
            "tensor(0.9713)\n",
            "0.05544466897845268\n",
            "tensor(0.9775)\n",
            "0.04152915999293327\n",
            "tensor(0.9810)\n",
            "0.011937087401747704\n",
            "tensor(0.9837)\n",
            "0.03648333624005318\n",
            "tensor(0.9844)\n",
            "0.034548137336969376\n",
            "tensor(0.9813)\n",
            "0.027152452617883682\n",
            "tensor(0.9865)\n",
            "0.023154862225055695\n",
            "tensor(0.9853)\n",
            "0.0720788985490799\n",
            "tensor(0.9860)\n",
            "0.001744744018651545\n"
          ],
          "name": "stdout"
        }
      ]
    },
    {
      "cell_type": "code",
      "metadata": {
        "id": "LWrol2YovTAL"
      },
      "source": [
        "indexes = [0, 1, 2, 3, 6, 7, 11, 18, 23, 61] # images from each class"
      ],
      "execution_count": 44,
      "outputs": []
    },
    {
      "cell_type": "code",
      "metadata": {
        "id": "-cKFwyalwrNE",
        "colab": {
          "base_uri": "https://localhost:8080/",
          "height": 1000
        },
        "outputId": "2905769c-9225-4530-d80c-5abb8829f570"
      },
      "source": [
        "for ind in indexes: # estimation on normal data\n",
        "  pred = lenet5.forward(X_test[ind].unsqueeze(0))\n",
        "  print(f'Model predict: {MNIST_train.classes[pred.argmax(1)[0]]}')\n",
        "  print(f'True class: {MNIST_train.classes[y_test[ind]]}')\n",
        "  print(f'Confidences: {np.round((torch.nn.Softmax(dim=1)(pred)).cpu().detach().numpy(), 2)}')\n",
        "  plt.imshow(X_test[ind, 0, :, :].cpu().detach().numpy(), cmap='gray')\n",
        "  plt.show()"
      ],
      "execution_count": 45,
      "outputs": [
        {
          "output_type": "stream",
          "text": [
            "Model predict: 7 - seven\n",
            "True class: 7 - seven\n",
            "Confidences: [[0. 0. 0. 0. 0. 0. 0. 1. 0. 0.]]\n"
          ],
          "name": "stdout"
        },
        {
          "output_type": "display_data",
          "data": {
            "image/png": "[encoded data removed]",
            "text/plain": [
              "<Figure size 432x288 with 1 Axes>"
            ]
          },
          "metadata": {
            "tags": [],
            "needs_background": "light"
          }
        },
        {
          "output_type": "stream",
          "text": [
            "Model predict: 2 - two\n",
            "True class: 2 - two\n",
            "Confidences: [[0. 0. 1. 0. 0. 0. 0. 0. 0. 0.]]\n"
          ],
          "name": "stdout"
        },
        {
          "output_type": "display_data",
          "data": {
            "image/png": "[encoded data removed]",
            "text/plain": [
              "<Figure size 432x288 with 1 Axes>"
            ]
          },
          "metadata": {
            "tags": [],
            "needs_background": "light"
          }
        },
        {
          "output_type": "stream",
          "text": [
            "Model predict: 1 - one\n",
            "True class: 1 - one\n",
            "Confidences: [[0. 1. 0. 0. 0. 0. 0. 0. 0. 0.]]\n"
          ],
          "name": "stdout"
        },
        {
          "output_type": "display_data",
          "data": {
            "image/png": "[encoded data removed]",
            "text/plain": [
              "<Figure size 432x288 with 1 Axes>"
            ]
          },
          "metadata": {
            "tags": [],
            "needs_background": "light"
          }
        },
        {
          "output_type": "stream",
          "text": [
            "Model predict: 0 - zero\n",
            "True class: 0 - zero\n",
            "Confidences: [[1. 0. 0. 0. 0. 0. 0. 0. 0. 0.]]\n"
          ],
          "name": "stdout"
        },
        {
          "output_type": "display_data",
          "data": {
            "image/png": "[encoded data removed]",
            "text/plain": [
              "<Figure size 432x288 with 1 Axes>"
            ]
          },
          "metadata": {
            "tags": [],
            "needs_background": "light"
          }
        },
        {
          "output_type": "stream",
          "text": [
            "Model predict: 4 - four\n",
            "True class: 4 - four\n",
            "Confidences: [[0. 0. 0. 0. 1. 0. 0. 0. 0. 0.]]\n"
          ],
          "name": "stdout"
        },
        {
          "output_type": "display_data",
          "data": {
            "image/png": "[encoded data removed]",
            "text/plain": [
              "<Figure size 432x288 with 1 Axes>"
            ]
          },
          "metadata": {
            "tags": [],
            "needs_background": "light"
          }
        },
        {
          "output_type": "stream",
          "text": [
            "Model predict: 9 - nine\n",
            "True class: 9 - nine\n",
            "Confidences: [[0.   0.   0.   0.01 0.   0.   0.   0.   0.   0.99]]\n"
          ],
          "name": "stdout"
        },
        {
          "output_type": "display_data",
          "data": {
            "image/png": "[encoded data removed]",
            "text/plain": [
              "<Figure size 432x288 with 1 Axes>"
            ]
          },
          "metadata": {
            "tags": [],
            "needs_background": "light"
          }
        },
        {
          "output_type": "stream",
          "text": [
            "Model predict: 6 - six\n",
            "True class: 6 - six\n",
            "Confidences: [[0. 0. 0. 0. 0. 0. 1. 0. 0. 0.]]\n"
          ],
          "name": "stdout"
        },
        {
          "output_type": "display_data",
          "data": {
            "image/png": "[encoded data removed]",
            "text/plain": [
              "<Figure size 432x288 with 1 Axes>"
            ]
          },
          "metadata": {
            "tags": [],
            "needs_background": "light"
          }
        },
        {
          "output_type": "stream",
          "text": [
            "Model predict: 3 - three\n",
            "True class: 3 - three\n",
            "Confidences: [[0.   0.   0.   0.92 0.   0.   0.   0.   0.08 0.  ]]\n"
          ],
          "name": "stdout"
        },
        {
          "output_type": "display_data",
          "data": {
            "image/png": "[encoded data removed]",
            "text/plain": [
              "<Figure size 432x288 with 1 Axes>"
            ]
          },
          "metadata": {
            "tags": [],
            "needs_background": "light"
          }
        },
        {
          "output_type": "stream",
          "text": [
            "Model predict: 5 - five\n",
            "True class: 5 - five\n",
            "Confidences: [[0. 0. 0. 0. 0. 1. 0. 0. 0. 0.]]\n"
          ],
          "name": "stdout"
        },
        {
          "output_type": "display_data",
          "data": {
            "image/png": "[encoded data removed]",
            "text/plain": [
              "<Figure size 432x288 with 1 Axes>"
            ]
          },
          "metadata": {
            "tags": [],
            "needs_background": "light"
          }
        },
        {
          "output_type": "stream",
          "text": [
            "Model predict: 8 - eight\n",
            "True class: 8 - eight\n",
            "Confidences: [[0. 0. 0. 0. 0. 0. 0. 0. 1. 0.]]\n"
          ],
          "name": "stdout"
        },
        {
          "output_type": "display_data",
          "data": {
            "image/png": "[encoded data removed]",
            "text/plain": [
              "<Figure size 432x288 with 1 Axes>"
            ]
          },
          "metadata": {
            "tags": [],
            "needs_background": "light"
          }
        }
      ]
    },
    {
      "cell_type": "code",
      "metadata": {
        "id": "mvvK3-5auQAA"
      },
      "source": [
        "def add_pattern(ind):\n",
        "  '''\n",
        "  Adding pattern to the input image\n",
        "\n",
        "  ind - index of the image from test set\n",
        "\n",
        "  Return: image with pattern\n",
        "  '''\n",
        "  test_img = X_test[ind, 0, :, :].cpu().detach().numpy()\n",
        "  test_img *= 255.0\n",
        "  test_img += pattern\n",
        "  test_img = torch.tensor(test_img)\n",
        "  test_img /= 255.0\n",
        "  test_img = test_img.unsqueeze(0)\n",
        "  test_img = test_img.to(device)\n",
        "  return test_img"
      ],
      "execution_count": 46,
      "outputs": []
    },
    {
      "cell_type": "code",
      "metadata": {
        "id": "V2lslbKXxC-y",
        "colab": {
          "base_uri": "https://localhost:8080/",
          "height": 1000
        },
        "outputId": "29ab126a-0368-4db0-eba8-ca06cc141010"
      },
      "source": [
        "for ind in indexes:  # estimation on data with adversarial pattern\n",
        "  test_img = add_pattern(ind)\n",
        "  pred = lenet5.forward(test_img.unsqueeze(0))\n",
        "  print(f'Model predict: {MNIST_train.classes[pred.argmax(1)[0]]}')\n",
        "  print(f'True class: {MNIST_train.classes[y_test[ind]]}')\n",
        "  print(f'Confidences: {np.round((torch.nn.Softmax(dim=1)(pred)).cpu().detach().numpy(), 2)}')\n",
        "  plt.imshow(test_img[0, :, :].cpu().detach().numpy(), cmap='gray')\n",
        "  plt.show()"
      ],
      "execution_count": 47,
      "outputs": [
        {
          "output_type": "stream",
          "text": [
            "Model predict: 7 - seven\n",
            "True class: 7 - seven\n",
            "Confidences: [[0.   0.   0.   0.   0.   0.01 0.   0.98 0.   0.  ]]\n"
          ],
          "name": "stdout"
        },
        {
          "output_type": "display_data",
          "data": {
            "image/png": "[encoded data removed]",
            "text/plain": [
              "<Figure size 432x288 with 1 Axes>"
            ]
          },
          "metadata": {
            "tags": [],
            "needs_background": "light"
          }
        },
        {
          "output_type": "stream",
          "text": [
            "Model predict: 2 - two\n",
            "True class: 2 - two\n",
            "Confidences: [[0. 0. 1. 0. 0. 0. 0. 0. 0. 0.]]\n"
          ],
          "name": "stdout"
        },
        {
          "output_type": "display_data",
          "data": {
            "image/png": "[encoded data removed]",
            "text/plain": [
              "<Figure size 432x288 with 1 Axes>"
            ]
          },
          "metadata": {
            "tags": [],
            "needs_background": "light"
          }
        },
        {
          "output_type": "stream",
          "text": [
            "Model predict: 5 - five\n",
            "True class: 1 - one\n",
            "Confidences: [[0. 0. 0. 0. 0. 1. 0. 0. 0. 0.]]\n"
          ],
          "name": "stdout"
        },
        {
          "output_type": "display_data",
          "data": {
            "image/png": "[encoded data removed]",
            "text/plain": [
              "<Figure size 432x288 with 1 Axes>"
            ]
          },
          "metadata": {
            "tags": [],
            "needs_background": "light"
          }
        },
        {
          "output_type": "stream",
          "text": [
            "Model predict: 0 - zero\n",
            "True class: 0 - zero\n",
            "Confidences: [[0.88 0.   0.   0.   0.   0.12 0.   0.   0.   0.  ]]\n"
          ],
          "name": "stdout"
        },
        {
          "output_type": "display_data",
          "data": {
            "image/png": "[encoded data removed]",
            "text/plain": [
              "<Figure size 432x288 with 1 Axes>"
            ]
          },
          "metadata": {
            "tags": [],
            "needs_background": "light"
          }
        },
        {
          "output_type": "stream",
          "text": [
            "Model predict: 5 - five\n",
            "True class: 4 - four\n",
            "Confidences: [[0.   0.   0.   0.   0.11 0.89 0.   0.   0.   0.  ]]\n"
          ],
          "name": "stdout"
        },
        {
          "output_type": "display_data",
          "data": {
            "image/png": "[encoded data removed]",
            "text/plain": [
              "<Figure size 432x288 with 1 Axes>"
            ]
          },
          "metadata": {
            "tags": [],
            "needs_background": "light"
          }
        },
        {
          "output_type": "stream",
          "text": [
            "Model predict: 5 - five\n",
            "True class: 9 - nine\n",
            "Confidences: [[0.   0.   0.   0.04 0.   0.77 0.   0.   0.   0.19]]\n"
          ],
          "name": "stdout"
        },
        {
          "output_type": "display_data",
          "data": {
            "image/png": "[encoded data removed]",
            "text/plain": [
              "<Figure size 432x288 with 1 Axes>"
            ]
          },
          "metadata": {
            "tags": [],
            "needs_background": "light"
          }
        },
        {
          "output_type": "stream",
          "text": [
            "Model predict: 6 - six\n",
            "True class: 6 - six\n",
            "Confidences: [[0.   0.   0.   0.   0.   0.02 0.98 0.   0.   0.  ]]\n"
          ],
          "name": "stdout"
        },
        {
          "output_type": "display_data",
          "data": {
            "image/png": "[encoded data removed]",
            "text/plain": [
              "<Figure size 432x288 with 1 Axes>"
            ]
          },
          "metadata": {
            "tags": [],
            "needs_background": "light"
          }
        },
        {
          "output_type": "stream",
          "text": [
            "Model predict: 3 - three\n",
            "True class: 3 - three\n",
            "Confidences: [[0.   0.   0.   0.91 0.   0.06 0.   0.   0.02 0.  ]]\n"
          ],
          "name": "stdout"
        },
        {
          "output_type": "display_data",
          "data": {
            "image/png": "[encoded data removed]",
            "text/plain": [
              "<Figure size 432x288 with 1 Axes>"
            ]
          },
          "metadata": {
            "tags": [],
            "needs_background": "light"
          }
        },
        {
          "output_type": "stream",
          "text": [
            "Model predict: 5 - five\n",
            "True class: 5 - five\n",
            "Confidences: [[0. 0. 0. 0. 0. 1. 0. 0. 0. 0.]]\n"
          ],
          "name": "stdout"
        },
        {
          "output_type": "display_data",
          "data": {
            "image/png": "[encoded data removed]",
            "text/plain": [
              "<Figure size 432x288 with 1 Axes>"
            ]
          },
          "metadata": {
            "tags": [],
            "needs_background": "light"
          }
        },
        {
          "output_type": "stream",
          "text": [
            "Model predict: 5 - five\n",
            "True class: 8 - eight\n",
            "Confidences: [[0. 0. 0. 0. 0. 1. 0. 0. 0. 0.]]\n"
          ],
          "name": "stdout"
        },
        {
          "output_type": "display_data",
          "data": {
            "image/png": "[encoded data removed]",
            "text/plain": [
              "<Figure size 432x288 with 1 Axes>"
            ]
          },
          "metadata": {
            "tags": [],
            "needs_background": "light"
          }
        }
      ]
    },
    {
      "cell_type": "code",
      "metadata": {
        "id": "-j2DtL5A8JSY"
      },
      "source": [
        "from:https://broutonlab.com/blog/adversarial-attacks-on-deep-learning-models"
      ],
      "execution_count": null,
      "outputs": []
    }
  ]
}