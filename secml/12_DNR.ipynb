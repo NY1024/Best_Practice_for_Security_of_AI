{
 "cells": [
  {
   "cell_type": "markdown",
   "metadata": {
    "id": "C86WdShkbO85"
   },
   "source": [
    "# Deep Neural Rejection\n",
    "\n",
    "In this tutorial we show how to train and evaluate DNR (Deep Neural Rejection),\n",
    "a reject-based defense against adversarial examples. For more details please refer to:\n",
    "\n",
    "  > [[sotgiu20]](https://arxiv.org/pdf/1910.00470.pdf)\n",
    "  > Sotgiu, A., Demontis, A., Melis, M., Biggio, B., Fumera, G., Feng, X., Roli, F.,\n",
    "  > \"Deep neural rejection against adversarial examples\",\n",
    "  > EURASIP J. on Info. Security 2020, 5 (2020).\n",
    "\n",
    "[![Open In Colab](https://colab.research.google.com/assets/colab-badge.svg)](\n",
    "https://colab.research.google.com/github/pralab/secml/blob/HEAD/tutorials/12-DNR.ipynb)\n",
    "\n",
    "<div class=\"alert alert-warning\">\n",
    "\n",
    "**Warning**\n",
    "\n",
    "Requires installation of the `pytorch` extra dependency.\n",
    "See [extra components](../index.rst#extra-components) for more information.\n",
    "\n",
    "</div>"
   ]
  },
  {
   "cell_type": "code",
   "execution_count": 1,
   "metadata": {
    "id": "a0SX_YKQbO87",
    "pycharm": {
     "name": "#%%\n"
    }
   },
   "outputs": [],
   "source": [
    "%%capture --no-stderr --no-display\n",
    "# NBVAL_IGNORE_OUTPUT\n",
    "\n",
    "try:\n",
    "  import secml\n",
    "  import torch\n",
    "except ImportError:\n",
    "  %pip install git+https://gitlab.com/secml/secml#egg=secml[pytorch]"
   ]
  },
  {
   "cell_type": "markdown",
   "metadata": {
    "id": "uwMtwf3EbO88"
   },
   "source": [
    "DNR analyzes the representations of input samples at different network layers,\n",
    "and rejects samples which exhibit anomalous behavior with respect to that\n",
    "observed from the training data at such layers.\n",
    "\n",
    "As explained in our paper, we trained SVM classifiers with RBF kernel on each\n",
    "layer in order to exploit the CAP (Compact Abating Probability) property, i.e.\n",
    "assigned class scores decrease as samples move away from training data\n",
    "distributions. The outputs of these SVMs are then combined using another RBF\n",
    "SVM, which will provide prediction scores for each class. This classifier will\n",
    "reject samples if the maximum class score is not higher than the rejection\n",
    "threshold. We consider rejection as an additional class."
   ]
  },
  {
   "cell_type": "code",
   "execution_count": 2,
   "metadata": {
    "colab": {
     "base_uri": "https://localhost:8080/",
     "height": 347
    },
    "id": "gZEzukOObO8-",
    "outputId": "d7fd6d5f-e795-4db9-c53c-63312a47c7f6",
    "pycharm": {
     "name": "#%%\n"
    }
   },
   "outputs": [
    {
     "ename": "FileNotFoundError",
     "evalue": "ignored",
     "output_type": "error",
     "traceback": [
      "\u001b[0;31m---------------------------------------------------------------------------\u001b[0m",
      "\u001b[0;31mFileNotFoundError\u001b[0m                         Traceback (most recent call last)",
      "\u001b[0;32m<ipython-input-2-f7d8fdef349b>\u001b[0m in \u001b[0;36m<module>\u001b[0;34m()\u001b[0m\n\u001b[1;32m      1\u001b[0m \u001b[0;32mfrom\u001b[0m \u001b[0mIPython\u001b[0m\u001b[0;34m.\u001b[0m\u001b[0mdisplay\u001b[0m \u001b[0;32mimport\u001b[0m \u001b[0mdisplay\u001b[0m\u001b[0;34m,\u001b[0m \u001b[0mImage\u001b[0m\u001b[0;34m\u001b[0m\u001b[0;34m\u001b[0m\u001b[0m\n\u001b[0;32m----> 2\u001b[0;31m \u001b[0mdisplay\u001b[0m\u001b[0;34m(\u001b[0m\u001b[0mImage\u001b[0m\u001b[0;34m(\u001b[0m\u001b[0mfilename\u001b[0m\u001b[0;34m=\u001b[0m\u001b[0;34m'_images/dnr.png'\u001b[0m\u001b[0;34m)\u001b[0m\u001b[0;34m)\u001b[0m\u001b[0;34m\u001b[0m\u001b[0;34m\u001b[0m\u001b[0m\n\u001b[0m",
      "\u001b[0;32m/usr/local/lib/python3.7/dist-packages/IPython/core/display.py\u001b[0m in \u001b[0;36m__init__\u001b[0;34m(self, data, url, filename, format, embed, width, height, retina, unconfined, metadata)\u001b[0m\n\u001b[1;32m   1019\u001b[0m         \u001b[0mself\u001b[0m\u001b[0;34m.\u001b[0m\u001b[0munconfined\u001b[0m \u001b[0;34m=\u001b[0m \u001b[0munconfined\u001b[0m\u001b[0;34m\u001b[0m\u001b[0;34m\u001b[0m\u001b[0m\n\u001b[1;32m   1020\u001b[0m         \u001b[0mself\u001b[0m\u001b[0;34m.\u001b[0m\u001b[0mmetadata\u001b[0m \u001b[0;34m=\u001b[0m \u001b[0mmetadata\u001b[0m\u001b[0;34m\u001b[0m\u001b[0;34m\u001b[0m\u001b[0m\n\u001b[0;32m-> 1021\u001b[0;31m         \u001b[0msuper\u001b[0m\u001b[0;34m(\u001b[0m\u001b[0mImage\u001b[0m\u001b[0;34m,\u001b[0m \u001b[0mself\u001b[0m\u001b[0;34m)\u001b[0m\u001b[0;34m.\u001b[0m\u001b[0m__init__\u001b[0m\u001b[0;34m(\u001b[0m\u001b[0mdata\u001b[0m\u001b[0;34m=\u001b[0m\u001b[0mdata\u001b[0m\u001b[0;34m,\u001b[0m \u001b[0murl\u001b[0m\u001b[0;34m=\u001b[0m\u001b[0murl\u001b[0m\u001b[0;34m,\u001b[0m \u001b[0mfilename\u001b[0m\u001b[0;34m=\u001b[0m\u001b[0mfilename\u001b[0m\u001b[0;34m)\u001b[0m\u001b[0;34m\u001b[0m\u001b[0;34m\u001b[0m\u001b[0m\n\u001b[0m\u001b[1;32m   1022\u001b[0m \u001b[0;34m\u001b[0m\u001b[0m\n\u001b[1;32m   1023\u001b[0m         \u001b[0;32mif\u001b[0m \u001b[0mretina\u001b[0m\u001b[0;34m:\u001b[0m\u001b[0;34m\u001b[0m\u001b[0;34m\u001b[0m\u001b[0m\n",
      "\u001b[0;32m/usr/local/lib/python3.7/dist-packages/IPython/core/display.py\u001b[0m in \u001b[0;36m__init__\u001b[0;34m(self, data, url, filename)\u001b[0m\n\u001b[1;32m    611\u001b[0m         \u001b[0mself\u001b[0m\u001b[0;34m.\u001b[0m\u001b[0mfilename\u001b[0m \u001b[0;34m=\u001b[0m \u001b[0;32mNone\u001b[0m \u001b[0;32mif\u001b[0m \u001b[0mfilename\u001b[0m \u001b[0;32mis\u001b[0m \u001b[0;32mNone\u001b[0m \u001b[0;32melse\u001b[0m \u001b[0municode_type\u001b[0m\u001b[0;34m(\u001b[0m\u001b[0mfilename\u001b[0m\u001b[0;34m)\u001b[0m\u001b[0;34m\u001b[0m\u001b[0;34m\u001b[0m\u001b[0m\n\u001b[1;32m    612\u001b[0m \u001b[0;34m\u001b[0m\u001b[0m\n\u001b[0;32m--> 613\u001b[0;31m         \u001b[0mself\u001b[0m\u001b[0;34m.\u001b[0m\u001b[0mreload\u001b[0m\u001b[0;34m(\u001b[0m\u001b[0;34m)\u001b[0m\u001b[0;34m\u001b[0m\u001b[0;34m\u001b[0m\u001b[0m\n\u001b[0m\u001b[1;32m    614\u001b[0m         \u001b[0mself\u001b[0m\u001b[0;34m.\u001b[0m\u001b[0m_check_data\u001b[0m\u001b[0;34m(\u001b[0m\u001b[0;34m)\u001b[0m\u001b[0;34m\u001b[0m\u001b[0;34m\u001b[0m\u001b[0m\n\u001b[1;32m    615\u001b[0m \u001b[0;34m\u001b[0m\u001b[0m\n",
      "\u001b[0;32m/usr/local/lib/python3.7/dist-packages/IPython/core/display.py\u001b[0m in \u001b[0;36mreload\u001b[0;34m(self)\u001b[0m\n\u001b[1;32m   1041\u001b[0m         \u001b[0;34m\"\"\"Reload the raw data from file or URL.\"\"\"\u001b[0m\u001b[0;34m\u001b[0m\u001b[0;34m\u001b[0m\u001b[0m\n\u001b[1;32m   1042\u001b[0m         \u001b[0;32mif\u001b[0m \u001b[0mself\u001b[0m\u001b[0;34m.\u001b[0m\u001b[0membed\u001b[0m\u001b[0;34m:\u001b[0m\u001b[0;34m\u001b[0m\u001b[0;34m\u001b[0m\u001b[0m\n\u001b[0;32m-> 1043\u001b[0;31m             \u001b[0msuper\u001b[0m\u001b[0;34m(\u001b[0m\u001b[0mImage\u001b[0m\u001b[0;34m,\u001b[0m\u001b[0mself\u001b[0m\u001b[0;34m)\u001b[0m\u001b[0;34m.\u001b[0m\u001b[0mreload\u001b[0m\u001b[0;34m(\u001b[0m\u001b[0;34m)\u001b[0m\u001b[0;34m\u001b[0m\u001b[0;34m\u001b[0m\u001b[0m\n\u001b[0m\u001b[1;32m   1044\u001b[0m             \u001b[0;32mif\u001b[0m \u001b[0mself\u001b[0m\u001b[0;34m.\u001b[0m\u001b[0mretina\u001b[0m\u001b[0;34m:\u001b[0m\u001b[0;34m\u001b[0m\u001b[0;34m\u001b[0m\u001b[0m\n\u001b[1;32m   1045\u001b[0m                 \u001b[0mself\u001b[0m\u001b[0;34m.\u001b[0m\u001b[0m_retina_shape\u001b[0m\u001b[0;34m(\u001b[0m\u001b[0;34m)\u001b[0m\u001b[0;34m\u001b[0m\u001b[0;34m\u001b[0m\u001b[0m\n",
      "\u001b[0;32m/usr/local/lib/python3.7/dist-packages/IPython/core/display.py\u001b[0m in \u001b[0;36mreload\u001b[0;34m(self)\u001b[0m\n\u001b[1;32m    629\u001b[0m         \u001b[0;34m\"\"\"Reload the raw data from file or URL.\"\"\"\u001b[0m\u001b[0;34m\u001b[0m\u001b[0;34m\u001b[0m\u001b[0m\n\u001b[1;32m    630\u001b[0m         \u001b[0;32mif\u001b[0m \u001b[0mself\u001b[0m\u001b[0;34m.\u001b[0m\u001b[0mfilename\u001b[0m \u001b[0;32mis\u001b[0m \u001b[0;32mnot\u001b[0m \u001b[0;32mNone\u001b[0m\u001b[0;34m:\u001b[0m\u001b[0;34m\u001b[0m\u001b[0;34m\u001b[0m\u001b[0m\n\u001b[0;32m--> 631\u001b[0;31m             \u001b[0;32mwith\u001b[0m \u001b[0mopen\u001b[0m\u001b[0;34m(\u001b[0m\u001b[0mself\u001b[0m\u001b[0;34m.\u001b[0m\u001b[0mfilename\u001b[0m\u001b[0;34m,\u001b[0m \u001b[0mself\u001b[0m\u001b[0;34m.\u001b[0m\u001b[0m_read_flags\u001b[0m\u001b[0;34m)\u001b[0m \u001b[0;32mas\u001b[0m \u001b[0mf\u001b[0m\u001b[0;34m:\u001b[0m\u001b[0;34m\u001b[0m\u001b[0;34m\u001b[0m\u001b[0m\n\u001b[0m\u001b[1;32m    632\u001b[0m                 \u001b[0mself\u001b[0m\u001b[0;34m.\u001b[0m\u001b[0mdata\u001b[0m \u001b[0;34m=\u001b[0m \u001b[0mf\u001b[0m\u001b[0;34m.\u001b[0m\u001b[0mread\u001b[0m\u001b[0;34m(\u001b[0m\u001b[0;34m)\u001b[0m\u001b[0;34m\u001b[0m\u001b[0;34m\u001b[0m\u001b[0m\n\u001b[1;32m    633\u001b[0m         \u001b[0;32melif\u001b[0m \u001b[0mself\u001b[0m\u001b[0;34m.\u001b[0m\u001b[0murl\u001b[0m \u001b[0;32mis\u001b[0m \u001b[0;32mnot\u001b[0m \u001b[0;32mNone\u001b[0m\u001b[0;34m:\u001b[0m\u001b[0;34m\u001b[0m\u001b[0;34m\u001b[0m\u001b[0m\n",
      "\u001b[0;31mFileNotFoundError\u001b[0m: [Errno 2] No such file or directory: '_images/dnr.png'"
     ]
    }
   ],
   "source": [
    "from IPython.display import display, Image\n",
    "display(Image(filename='_images/dnr.png'))"
   ]
  },
  {
   "cell_type": "markdown",
   "metadata": {
    "id": "VSN2YXKNbO8_"
   },
   "source": [
    "## Dataset creation\n",
    "\n",
    "In this notebook we will use the **MNIST handwritten digit dataset**.\n",
    "\n",
    "In our experiments we follow these steps for the training phase:\n",
    "1. we split the MNIST training set into two parts;\n",
    "2. we train a CNN on the first half of the training set;\n",
    "3. we randomly subsample 1000 samples per class from the second half of the\n",
    "training set, and use them to train DNR.\n",
    "\n",
    "To save time, a CNN pre-trained on the first half of MNIST training set\n",
    "can be downloaded from our model zoo,\n",
    "and we use 5000 samples (instead of 10,000 samples) \n",
    "from the second half of the training set to train DNR."
   ]
  },
  {
   "cell_type": "code",
   "execution_count": 2,
   "metadata": {
    "colab": {
     "base_uri": "https://localhost:8080/"
    },
    "id": "XFe3JJULbO9A",
    "outputId": "54055c47-0cff-4dae-e16b-a5bcc73a075e",
    "pycharm": {
     "name": "#%%\n"
    }
   },
   "outputs": [
    {
     "name": "stdout",
     "output_type": "stream",
     "text": [
      "2021-07-03 08:43:23,521 - secml.settings - INFO - New `SECML_HOME_DIR` created: /root/secml-data\n",
      "2021-07-03 08:43:23,521 - secml.settings - INFO - New `SECML_HOME_DIR` created: /root/secml-data\n",
      "2021-07-03 08:43:23,528 - secml.settings - INFO - Default configuration file copied to: /root/secml-data/secml.conf\n",
      "2021-07-03 08:43:23,528 - secml.settings - INFO - Default configuration file copied to: /root/secml-data/secml.conf\n",
      "2021-07-03 08:43:23,533 - secml.settings - INFO - New `SECML_DS_DIR` created: /root/secml-data/datasets\n",
      "2021-07-03 08:43:23,533 - secml.settings - INFO - New `SECML_DS_DIR` created: /root/secml-data/datasets\n",
      "2021-07-03 08:43:23,537 - secml.settings - INFO - New `SECML_MODELS_DIR` created: /root/secml-data/models\n",
      "2021-07-03 08:43:23,537 - secml.settings - INFO - New `SECML_MODELS_DIR` created: /root/secml-data/models\n",
      "2021-07-03 08:43:23,541 - secml.settings - INFO - New `SECML_EXP_DIR` created: /root/secml-data/experiments\n",
      "2021-07-03 08:43:23,541 - secml.settings - INFO - New `SECML_EXP_DIR` created: /root/secml-data/experiments\n",
      "2021-07-03 08:43:23,545 - secml.settings - INFO - New `SECML_LOGS_DIR` created: /root/secml-data/logs\n",
      "2021-07-03 08:43:23,545 - secml.settings - INFO - New `SECML_LOGS_DIR` created: /root/secml-data/logs\n",
      "2021-07-03 08:43:23,551 - secml.settings - INFO - New `SECML_PYTORCH_DIR` created: /root/secml-data/pytorch-data\n",
      "2021-07-03 08:43:23,551 - secml.settings - INFO - New `SECML_PYTORCH_DIR` created: /root/secml-data/pytorch-data\n",
      "Downloading from `https://gitlab.com/api/v4/projects/secml%2Fsecml-zoo/repository/files/datasets%2FMNIST%2Ftrain-images-idx3-ubyte.gz/raw?ref=master` (9912422 bytes)\n",
      "\n",
      "File stored in `/root/secml-data/datasets/mnist/train-images-idx3-ubyte.gz`\n",
      "Downloading from `https://gitlab.com/api/v4/projects/secml%2Fsecml-zoo/repository/files/datasets%2FMNIST%2Ftrain-labels-idx1-ubyte.gz/raw?ref=master` (28881 bytes)\n",
      "\n",
      "File stored in `/root/secml-data/datasets/mnist/train-labels-idx1-ubyte.gz`\n",
      "Downloading from `https://gitlab.com/api/v4/projects/secml%2Fsecml-zoo/repository/files/datasets%2FMNIST%2Ft10k-images-idx3-ubyte.gz/raw?ref=master` (1648877 bytes)\n",
      "\n",
      "File stored in `/root/secml-data/datasets/mnist/t10k-images-idx3-ubyte.gz`\n",
      "Downloading from `https://gitlab.com/api/v4/projects/secml%2Fsecml-zoo/repository/files/datasets%2FMNIST%2Ft10k-labels-idx1-ubyte.gz/raw?ref=master` (4542 bytes)\n",
      "\n",
      "File stored in `/root/secml-data/datasets/mnist/t10k-labels-idx1-ubyte.gz`\n"
     ]
    }
   ],
   "source": [
    "from secml.array import CArray\n",
    "from secml.data.loader import CDataLoaderMNIST\n",
    "from secml.data.selection import CPSRandom\n",
    "from secml.data.splitter import CDataSplitterShuffle\n",
    "\n",
    "# load MNIST training set and divide it in two parts\n",
    "tr_data = CDataLoaderMNIST().load(ds='training')\n",
    "tr_data.X /= 255.0\n",
    "splitter = CDataSplitterShuffle(num_folds=1, train_size=0.5,\n",
    "                                test_size=0.5, random_state=1)\n",
    "splitter.compute_indices(tr_data)\n",
    "\n",
    "# dnr training set, reduced to 5000 random samples\n",
    "tr_set = tr_data[splitter.tr_idx[0], :]\n",
    "tr_set = CPSRandom().select(dataset=tr_set, n_prototypes=5000, random_state=0)\n",
    "\n",
    "# load test set\n",
    "ts_set = CDataLoaderMNIST().load(ds='testing', num_samples=1000)\n",
    "ts_set.X /= 255.0"
   ]
  },
  {
   "cell_type": "code",
   "execution_count": 3,
   "metadata": {
    "colab": {
     "base_uri": "https://localhost:8080/"
    },
    "id": "1SWqQjbSbO9B",
    "outputId": "a4ccca53-d032-4dd2-e254-610d677110ef",
    "pycharm": {
     "name": "#%%\n"
    }
   },
   "outputs": [
    {
     "name": "stdout",
     "output_type": "stream",
     "text": [
      "Downloading from `https://gitlab.com/api/v4/projects/secml%2Fsecml-zoo/repository/files/models_dict.json/raw?ref=master`\n",
      "\n",
      "File stored in `/root/secml-data/models/models_dict.json`\n",
      "Downloading from `https://gitlab.com/api/v4/projects/secml%2Fsecml-zoo/repository/files/models%2Fmnist%2Fmnist_cnn.py/raw?ref=master`\n",
      "\n",
      "File stored in `/root/secml-data/models/mnist/mnist_cnn.py`\n",
      "Downloading from `https://gitlab.com/api/v4/projects/secml%2Fsecml-zoo/repository/files/models%2Fmnist%2Fmnist-cnn.gz/raw?ref=master` (713017 bytes)\n",
      "\n",
      "File stored in `/root/secml-data/models/mnist/mnist-cnn.gz`\n"
     ]
    }
   ],
   "source": [
    "# NBVAL_IGNORE_OUTPUT\n",
    "from secml.model_zoo import load_model\n",
    "# load from model zoo the pre-trained net\n",
    "dnn = load_model(\"mnist-cnn\")"
   ]
  },
  {
   "cell_type": "markdown",
   "metadata": {
    "id": "XMVQOYV1bO9C",
    "pycharm": {
     "name": "#%% md\n"
    }
   },
   "source": [
    "## Training DNR\n",
    "\n",
    "We now set up and fit the DNR classifier. The `CClassifierDNR` class can work\n",
    "with any multiclass classifier as combiner and layer classifiers. We will use\n",
    "RBF SVM for the aforementioned reason.\n",
    "\n",
    "We have chosen the last three ReLu layers of the CNN. To save time, here we\n",
    "manually set the same SVM parameters we found with cross-validation in our\n",
    "paper. Note that parameters of layer classifiers can be set with `CCreator`\n",
    "utilities. Each layer classifier can be accessed using the name of the layer on\n",
    "it works.\n",
    "\n",
    "Finally, `CClassifierDNR` provides a method to compute the reject threshold on\n",
    "a validation set, based on the desired rejection rate."
   ]
  },
  {
   "cell_type": "code",
   "execution_count": 4,
   "metadata": {
    "colab": {
     "base_uri": "https://localhost:8080/"
    },
    "id": "TsNdK3GkbO9C",
    "outputId": "8c084ee8-6626-4943-9675-73630827ceb1",
    "pycharm": {
     "name": "#%%\n"
    }
   },
   "outputs": [
    {
     "name": "stdout",
     "output_type": "stream",
     "text": [
      "Training started...\n",
      "Training completed.\n",
      "Computing reject threshold...\n"
     ]
    }
   ],
   "source": [
    "from secml.ml.classifiers import CClassifierSVM\n",
    "from secml.ml.kernels import CKernelRBF\n",
    "from secml.ml.classifiers.reject import CClassifierDNR\n",
    "\n",
    "layers = ['features:relu2', 'features:relu3', 'features:relu4']\n",
    "combiner = CClassifierSVM(kernel=CKernelRBF(gamma=1), C=0.1)\n",
    "layer_clf = CClassifierSVM(kernel=CKernelRBF(gamma=1e-2), C=10)\n",
    "\n",
    "dnr = CClassifierDNR(combiner=combiner, layer_clf=layer_clf, dnn=dnn,\n",
    "                     layers=layers, threshold=-1000)\n",
    "dnr.set_params({'features:relu4.C': 1, 'features:relu2.kernel.gamma': 1e-3})\n",
    "\n",
    "print(\"Training started...\")\n",
    "dnr.fit(x=tr_set.X, y=tr_set.Y)\n",
    "print(\"Training completed.\")\n",
    "\n",
    "# set the reject threshold in order to have 10% of rejected samples on the test set\n",
    "print(\"Computing reject threshold...\")\n",
    "dnr.threshold = dnr.compute_threshold(rej_percent=0.1, ds=ts_set)"
   ]
  },
  {
   "cell_type": "markdown",
   "metadata": {
    "id": "jv9E_9habO9E"
   },
   "source": [
    "## Attacking DNR\n",
    "\n",
    "We now run our new PGDExp (Projected Gradient Descent with Exponential line\n",
    "search) evasion attack on a sample of the test set. This attack performs an\n",
    "exponential line search on the distance constraint, saving gradient\n",
    "computations."
   ]
  },
  {
   "cell_type": "code",
   "execution_count": 5,
   "metadata": {
    "colab": {
     "base_uri": "https://localhost:8080/"
    },
    "id": "MN8fFk9FbO9F",
    "outputId": "b140341d-f51d-4e8e-f35f-709ccc8cab87",
    "pycharm": {
     "name": "#%%\n"
    }
   },
   "outputs": [
    {
     "name": "stdout",
     "output_type": "stream",
     "text": [
      "Running attack...\n",
      "Attack completed.\n"
     ]
    }
   ],
   "source": [
    "from secml.adv.attacks import CAttackEvasionPGDExp\n",
    "\n",
    "solver_params = {'eta': 1e-1, 'eta_min': 1e-1, 'max_iter': 30, 'eps': 1e-8}\n",
    "\n",
    "pgd_exp = CAttackEvasionPGDExp(classifier=dnr, double_init_ds=tr_set, dmax=2,\n",
    "                               distance='l2', solver_params=solver_params)\n",
    "\n",
    "sample_idx = 10\n",
    "print(\"Running attack...\")\n",
    "_ = pgd_exp.run(x=ts_set[sample_idx, :].X, y=ts_set[sample_idx, :].Y)\n",
    "print(\"Attack completed.\")"
   ]
  },
  {
   "cell_type": "markdown",
   "metadata": {
    "id": "8GyLG-cFbO9G"
   },
   "source": [
    "## Plotting attack results\n",
    "\n",
    "We finally plot the attack loss, the confidence of true and competing class,\n",
    "the original digit and the one computed by the attack. To do this, we define\n",
    "an utility function."
   ]
  },
  {
   "cell_type": "code",
   "execution_count": 6,
   "metadata": {
    "colab": {
     "base_uri": "https://localhost:8080/",
     "height": 513
    },
    "id": "T1KGFxdCbO9H",
    "outputId": "9fba8afd-30e5-4cf9-c223-df6c0f62eef0",
    "pycharm": {
     "name": "#%%\n"
    }
   },
   "outputs": [
    {
     "data": {
      "image/png": "[encoded data removed]",
      "text/plain": [
       "<Figure size 576x504 with 4 Axes>"
      ]
     },
     "metadata": {
      "needs_background": "light",
      "tags": []
     },
     "output_type": "display_data"
    }
   ],
   "source": [
    "from secml.figure import CFigure\n",
    "from secml.ml.classifiers.loss import CSoftmax\n",
    "\n",
    "\n",
    "def plot_loss_img(attack, clf, sample_idx):\n",
    "    n_iter = attack.x_seq.shape[0]\n",
    "    itrs = CArray.arange(n_iter)\n",
    "    true_class = ts_set.Y[sample_idx]\n",
    "    fig = CFigure(width=8, height=7, fontsize=14, linewidth=2)\n",
    "\n",
    "    fig.subplot(2, 2, 1)\n",
    "    loss = attack.f_seq\n",
    "    fig.sp.xlabel('iteration')\n",
    "    fig.sp.ylabel('loss')\n",
    "    fig.sp.plot(itrs, loss, c='black')\n",
    "    pred_classes, scores = clf.predict(attack.x_seq,\n",
    "                                       return_decision_function=True)\n",
    "    scores = CSoftmax().softmax(scores)\n",
    "\n",
    "    fig.subplot(2, 2, 2)\n",
    "    fig.sp.xlabel('iteration')\n",
    "    fig.sp.ylabel('confidence')\n",
    "    fig.sp.plot(itrs, scores[:, pred_classes[-1].item()], linestyle='--',\n",
    "                c='black', label='pred {:}'.format(pred_classes[-1].item()))\n",
    "    fig.sp.plot(itrs, scores[:, true_class], c='black', label='true')\n",
    "    fig.sp.legend()\n",
    "\n",
    "    fig.subplot(2, 2, 3)\n",
    "    fig.sp.title('orig')\n",
    "    fig.sp.imshow(ts_set.X[sample_idx, :].tondarray().reshape((28, 28)))\n",
    "\n",
    "    fig.subplot(2, 2, 4)\n",
    "    fig.sp.title('adv')\n",
    "    fig.sp.imshow(attack.x_seq[-1, :].tondarray().reshape((28, 28)))\n",
    "\n",
    "    fig.tight_layout()\n",
    "    fig.show()\n",
    "\n",
    "# Only required for visualization in notebooks\n",
    "%matplotlib inline\n",
    "plot_loss_img(pgd_exp, dnr, sample_idx)"
   ]
  }
 ],
 "metadata": {
  "colab": {
   "name": "12-DNR.ipynb",
   "provenance": []
  },
  "kernelspec": {
   "display_name": "Python 3",
   "language": "python",
   "name": "python3"
  },
  "language_info": {
   "codemirror_mode": {
    "name": "ipython",
    "version": 3
   },
   "file_extension": ".py",
   "mimetype": "text/x-python",
   "name": "python",
   "nbconvert_exporter": "python",
   "pygments_lexer": "ipython3",
   "version": "3.8.5"
  }
 },
 "nbformat": 4,
 "nbformat_minor": 1
}
