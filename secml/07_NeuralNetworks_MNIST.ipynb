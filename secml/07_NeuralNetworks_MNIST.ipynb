{
 "cells": [
  {
   "cell_type": "markdown",
   "metadata": {
    "id": "vPKcJEXGay0F"
   },
   "source": [
    "# Evasion Attacks against Neural Networks on MNIST dataset\n",
    "\n",
    "Let's continue from the [Neural Networks tutorial](02-NeuralNetworks.ipynb),\n",
    "using the MNIST dataset this time.\n",
    "\n",
    "[![Open In Colab](https://colab.research.google.com/assets/colab-badge.svg)](\n",
    "https://colab.research.google.com/github/pralab/secml/blob/HEAD/tutorials/07-NeuralNetworks-MNIST.ipynb)\n",
    "\n",
    "<div class=\"alert alert-warning\">\n",
    "\n",
    "**Warning**\n",
    "\n",
    "Requires installation of the `pytorch` extra dependency.\n",
    "See [extra components](../index.rst#extra-components) for more information.\n",
    "\n",
    "</div>"
   ]
  },
  {
   "cell_type": "code",
   "execution_count": 1,
   "metadata": {
    "id": "F5hxXNW5ay0J",
    "pycharm": {
     "name": "#%%\n"
    }
   },
   "outputs": [],
   "source": [
    "%%capture --no-stderr --no-display\n",
    "# NBVAL_IGNORE_OUTPUT\n",
    "\n",
    "try:\n",
    "  import secml\n",
    "  import torch\n",
    "except ImportError:\n",
    "  %pip install git+https://gitlab.com/secml/secml#egg=secml[pytorch]"
   ]
  },
  {
   "cell_type": "markdown",
   "metadata": {
    "id": "ZEsDpq_qay0L"
   },
   "source": [
    "We can use a convolutional neural network, but we need to take care of\n",
    "reshaping the input to the expected input size, in this case (-1, 1, 28, 28).\n",
    "We will see in the following how to use  torchvision's `transforms` module\n",
    "for this purpose."
   ]
  },
  {
   "cell_type": "code",
   "execution_count": 2,
   "metadata": {
    "id": "Nj9nhAMVay0M",
    "pycharm": {
     "is_executing": false,
     "name": "#%%\n"
    }
   },
   "outputs": [],
   "source": [
    "import torch\n",
    "from torch import nn\n",
    "\n",
    "class MNIST3cCNN(nn.Module):\n",
    "    \"\"\"Model with input size (-1, 28, 28) for MNIST 3-classes dataset.\"\"\"\n",
    "    def __init__(self):\n",
    "        super(MNIST3cCNN, self).__init__()\n",
    "        self.conv1 = nn.Conv2d(1, 10, kernel_size=5)\n",
    "        self.conv2 = nn.Conv2d(10, 20, kernel_size=5)\n",
    "        self.conv2_drop = nn.Dropout2d()\n",
    "        self.fc1 = nn.Linear(320, 50)\n",
    "        self.fc2 = nn.Linear(50, 3)\n",
    "\n",
    "    def forward(self, x):\n",
    "        x = torch.relu(torch.max_pool2d(self.conv1(x), 2))\n",
    "        x = torch.relu(torch.max_pool2d(self.conv2_drop(self.conv2(x)), 2))\n",
    "        x = x.view(-1, 320)\n",
    "        x = torch.relu(self.fc1(x))\n",
    "        return self.fc2(x)"
   ]
  },
  {
   "cell_type": "markdown",
   "metadata": {
    "id": "c3dkxKSBay0O",
    "pycharm": {
     "is_executing": false,
     "name": "#%% md\n"
    }
   },
   "source": [
    "Now we can load MNIST dataset. Remember the input shape is `(1, 1, 28, 28)`, \n",
    "using NCHW convention.\n",
    "\n",
    "The input shape is an input parameter of the wrapper, since it has to take \n",
    "care of input reshaping before passing it to the neural network."
   ]
  },
  {
   "cell_type": "code",
   "execution_count": 3,
   "metadata": {
    "colab": {
     "base_uri": "https://localhost:8080/"
    },
    "id": "5s2KLv8Iay0P",
    "outputId": "1d914866-16e0-48a9-f99b-d9f718b80294",
    "pycharm": {
     "is_executing": false,
     "name": "#%% \n"
    }
   },
   "outputs": [
    {
     "name": "stdout",
     "output_type": "stream",
     "text": [
      "2021-07-03 08:19:06,644 - secml.settings - INFO - New `SECML_HOME_DIR` created: /root/secml-data\n",
      "2021-07-03 08:19:06,644 - secml.settings - INFO - New `SECML_HOME_DIR` created: /root/secml-data\n",
      "2021-07-03 08:19:06,651 - secml.settings - INFO - Default configuration file copied to: /root/secml-data/secml.conf\n",
      "2021-07-03 08:19:06,651 - secml.settings - INFO - Default configuration file copied to: /root/secml-data/secml.conf\n",
      "2021-07-03 08:19:06,660 - secml.settings - INFO - New `SECML_DS_DIR` created: /root/secml-data/datasets\n",
      "2021-07-03 08:19:06,660 - secml.settings - INFO - New `SECML_DS_DIR` created: /root/secml-data/datasets\n",
      "2021-07-03 08:19:06,666 - secml.settings - INFO - New `SECML_MODELS_DIR` created: /root/secml-data/models\n",
      "2021-07-03 08:19:06,666 - secml.settings - INFO - New `SECML_MODELS_DIR` created: /root/secml-data/models\n",
      "2021-07-03 08:19:06,671 - secml.settings - INFO - New `SECML_EXP_DIR` created: /root/secml-data/experiments\n",
      "2021-07-03 08:19:06,671 - secml.settings - INFO - New `SECML_EXP_DIR` created: /root/secml-data/experiments\n",
      "2021-07-03 08:19:06,676 - secml.settings - INFO - New `SECML_LOGS_DIR` created: /root/secml-data/logs\n",
      "2021-07-03 08:19:06,676 - secml.settings - INFO - New `SECML_LOGS_DIR` created: /root/secml-data/logs\n",
      "2021-07-03 08:19:06,681 - secml.settings - INFO - New `SECML_PYTORCH_DIR` created: /root/secml-data/pytorch-data\n",
      "2021-07-03 08:19:06,681 - secml.settings - INFO - New `SECML_PYTORCH_DIR` created: /root/secml-data/pytorch-data\n",
      "Downloading from `https://gitlab.com/api/v4/projects/secml%2Fsecml-zoo/repository/files/datasets%2FMNIST%2Ftrain-images-idx3-ubyte.gz/raw?ref=master` (9912422 bytes)\n",
      "\n",
      "File stored in `/root/secml-data/datasets/mnist/train-images-idx3-ubyte.gz`\n",
      "Downloading from `https://gitlab.com/api/v4/projects/secml%2Fsecml-zoo/repository/files/datasets%2FMNIST%2Ftrain-labels-idx1-ubyte.gz/raw?ref=master` (28881 bytes)\n",
      "\n",
      "File stored in `/root/secml-data/datasets/mnist/train-labels-idx1-ubyte.gz`\n",
      "Downloading from `https://gitlab.com/api/v4/projects/secml%2Fsecml-zoo/repository/files/datasets%2FMNIST%2Ft10k-images-idx3-ubyte.gz/raw?ref=master` (1648877 bytes)\n",
      "\n",
      "File stored in `/root/secml-data/datasets/mnist/t10k-images-idx3-ubyte.gz`\n",
      "Downloading from `https://gitlab.com/api/v4/projects/secml%2Fsecml-zoo/repository/files/datasets%2FMNIST%2Ft10k-labels-idx1-ubyte.gz/raw?ref=master` (4542 bytes)\n",
      "\n",
      "File stored in `/root/secml-data/datasets/mnist/t10k-labels-idx1-ubyte.gz`\n"
     ]
    }
   ],
   "source": [
    "n_ts = 1000  # number of testing set samples\n",
    "\n",
    "from secml.data.loader import CDataLoaderMNIST\n",
    "digits = (1, 5, 9)\n",
    "loader = CDataLoaderMNIST()\n",
    "tr = loader.load('training', digits=digits)\n",
    "ts = loader.load('testing', digits=digits, num_samples=n_ts)\n",
    "\n",
    "# Normalize the data\n",
    "tr.X /= 255\n",
    "ts.X /= 255"
   ]
  },
  {
   "cell_type": "markdown",
   "metadata": {
    "id": "kjpoH0oGay0Q",
    "pycharm": {
     "name": "#%% md\n"
    }
   },
   "source": [
    "Now we can use again the `CClassifierPyTorch` wrapper for having the model \n",
    "accessible with our library. Note that we pass the input shape as input \n",
    "parameter for the wrapper."
   ]
  },
  {
   "cell_type": "code",
   "execution_count": 4,
   "metadata": {
    "id": "rnoFGmh5ay0Q",
    "pycharm": {
     "is_executing": false,
     "name": "#%%\n"
    }
   },
   "outputs": [],
   "source": [
    "from torch import optim\n",
    "\n",
    "# Random seed\n",
    "torch.manual_seed(0)\n",
    "\n",
    "net = MNIST3cCNN()\n",
    "criterion = nn.CrossEntropyLoss()\n",
    "optimizer = optim.SGD(net.parameters(),\n",
    "                      lr=0.01, momentum=0.9)\n",
    "\n",
    "from secml.ml.classifiers import CClassifierPyTorch\n",
    "clf = CClassifierPyTorch(model=net,\n",
    "                         loss=criterion,\n",
    "                         optimizer=optimizer,\n",
    "                         epochs=20,\n",
    "                         batch_size=20,\n",
    "                         input_shape=(1, 28, 28),\n",
    "                         random_state=0)"
   ]
  },
  {
   "cell_type": "markdown",
   "metadata": {
    "id": "fhWExLbBay0R",
    "pycharm": {
     "name": "#%% md\n"
    }
   },
   "source": [
    "To save time, we now load from the model zoo the pre-trained model."
   ]
  },
  {
   "cell_type": "code",
   "execution_count": 5,
   "metadata": {
    "colab": {
     "base_uri": "https://localhost:8080/"
    },
    "id": "F3sFfcglay0T",
    "outputId": "2bccb689-35dc-4d43-e3cb-c6fc8c50f605",
    "pycharm": {
     "is_executing": false,
     "name": "#%%\n"
    }
   },
   "outputs": [
    {
     "name": "stdout",
     "output_type": "stream",
     "text": [
      "Downloading from `https://gitlab.com/api/v4/projects/secml%2Fsecml-zoo/repository/files/models_dict.json/raw?ref=master`\n",
      "\n",
      "File stored in `/root/secml-data/models/models_dict.json`\n",
      "Downloading from `https://gitlab.com/api/v4/projects/secml%2Fsecml-zoo/repository/files/models%2Fmnist%2Fmnist3c_cnn.py/raw?ref=master`\n",
      "\n",
      "File stored in `/root/secml-data/models/mnist/mnist3c_cnn.py`\n",
      "Downloading from `https://gitlab.com/api/v4/projects/secml%2Fsecml-zoo/repository/files/models%2Fmnist%2Fmnist159-cnn.gz/raw?ref=master` (165318 bytes)\n",
      "\n",
      "File stored in `/root/secml-data/models/mnist/mnist159-cnn.gz`\n"
     ]
    }
   ],
   "source": [
    "# NBVAL_IGNORE_OUTPUT\n",
    "from secml.model_zoo import load_model\n",
    "clf = load_model('mnist159-cnn')"
   ]
  },
  {
   "cell_type": "markdown",
   "metadata": {
    "id": "DpFS7M8Vay0U"
   },
   "source": [
    "And now we can check how well we can classify the digits."
   ]
  },
  {
   "cell_type": "code",
   "execution_count": 6,
   "metadata": {
    "colab": {
     "base_uri": "https://localhost:8080/"
    },
    "id": "9pjwQm4aay0V",
    "outputId": "456756cc-84cb-4d98-a033-154cc74ddf2e",
    "pycharm": {
     "is_executing": false,
     "name": "#%%\n"
    }
   },
   "outputs": [
    {
     "name": "stdout",
     "output_type": "stream",
     "text": [
      "2021-07-03 08:19:24,629 - py.warnings - WARNING - /root/secml-data/models/mnist/mnist3c_cnn.py:26: UserWarning: Named tensors and all their associated APIs are an experimental feature and subject to change. Please do not use them for anything important until they are released as stable. (Triggered internally at  /pytorch/c10/core/TensorImpl.h:1156.)\n",
      "  x = torch.relu(torch.max_pool2d(self.conv1(x), 2))\n",
      "\n",
      "Model Accuracy: 0.997\n"
     ]
    }
   ],
   "source": [
    "label_torch = clf.predict(ts.X, return_decision_function=False)\n",
    "\n",
    "from secml.ml.peval.metrics import CMetric\n",
    "metric = CMetric.create('accuracy')\n",
    "acc_torch = metric.performance_score(ts.Y, label_torch)\n",
    "\n",
    "print(\"Model Accuracy: {}\".format(acc_torch))"
   ]
  },
  {
   "cell_type": "markdown",
   "metadata": {
    "id": "L_m992d1ay0W",
    "pycharm": {
     "name": "#%% md\n"
    }
   },
   "source": [
    "## Crafting Evasion Attacks\n",
    "\n",
    "We can now create, as we did in notebook [MNIST tutorial](06-MNIST_dataset.ipynb), \n",
    "adversarial examples against the neural network we just trained.\n",
    "The code is similar to the other notebook, the only difference will be \n",
    "the classifier that we pass to the `CAttackEvasionPGDLS` object."
   ]
  },
  {
   "cell_type": "code",
   "execution_count": 7,
   "metadata": {
    "colab": {
     "base_uri": "https://localhost:8080/"
    },
    "id": "XlF_y0APay0X",
    "outputId": "0edc5c4f-a80d-4a94-f072-dbb2de2d9ada",
    "pycharm": {
     "is_executing": true,
     "name": "#%%\n"
    }
   },
   "outputs": [
    {
     "name": "stdout",
     "output_type": "stream",
     "text": [
      "Attack started...\n",
      "Attack complete!\n"
     ]
    }
   ],
   "source": [
    "# For simplicity, let's attack a subset of the test set\n",
    "attack_ds = ts[:10, :]\n",
    "\n",
    "noise_type = 'l2'  # Type of perturbation 'l1' or 'l2'\n",
    "dmax = 3.0  # Maximum perturbation\n",
    "lb, ub = 0., 1.  # Bounds of the attack space. Can be set to `None` for unbounded\n",
    "y_target = None  # None if `error-generic` or a class label for `error-specific`\n",
    "\n",
    "# Should be chosen depending on the optimization problem\n",
    "solver_params = {\n",
    "    'eta': 0.5, \n",
    "    'eta_min': 2.0, \n",
    "    'eta_max': None,\n",
    "    'max_iter': 100, \n",
    "    'eps': 1e-6\n",
    "}\n",
    "\n",
    "from secml.adv.attacks import CAttackEvasionPGDLS\n",
    "pgd_ls_attack = CAttackEvasionPGDLS(classifier=clf,\n",
    "                                    double_init_ds=tr,\n",
    "                                    distance=noise_type, \n",
    "                                    dmax=dmax,\n",
    "                                    solver_params=solver_params,\n",
    "                                    y_target=y_target)\n",
    "\n",
    "print(\"Attack started...\")\n",
    "eva_y_pred, _, eva_adv_ds, _ = pgd_ls_attack.run(attack_ds.X, attack_ds.Y)\n",
    "print(\"Attack complete!\")"
   ]
  },
  {
   "cell_type": "code",
   "execution_count": 8,
   "metadata": {
    "colab": {
     "base_uri": "https://localhost:8080/"
    },
    "id": "H26_dpnjay0f",
    "outputId": "25f84b54-6850-4720-e492-5daa5e3542be",
    "pycharm": {
     "is_executing": true,
     "name": "#%%\n"
    }
   },
   "outputs": [
    {
     "name": "stdout",
     "output_type": "stream",
     "text": [
      "Accuracy on reduced test set before attack: 100.00%\n",
      "Accuracy on reduced test set after attack: 10.00%\n"
     ]
    }
   ],
   "source": [
    "acc = metric.performance_score(\n",
    "    y_true=attack_ds.Y, y_pred=clf.predict(attack_ds.X))\n",
    "acc_attack = metric.performance_score(\n",
    "    y_true=attack_ds.Y, y_pred=eva_y_pred)\n",
    "\n",
    "print(\"Accuracy on reduced test set before attack: {:.2%}\".format(acc))\n",
    "print(\"Accuracy on reduced test set after attack: {:.2%}\".format(acc_attack))"
   ]
  },
  {
   "cell_type": "markdown",
   "metadata": {
    "id": "R6mJhb6Xay0g",
    "pycharm": {
     "name": "#%% md\n"
    }
   },
   "source": [
    "Finally, we can display the adversarial digit along with its label."
   ]
  },
  {
   "cell_type": "code",
   "execution_count": 9,
   "metadata": {
    "colab": {
     "base_uri": "https://localhost:8080/",
     "height": 233
    },
    "id": "34R0McS0ay0g",
    "outputId": "08c15d20-1e12-4917-9e88-56adc0d8bff9",
    "pycharm": {
     "is_executing": true,
     "name": "#%%\n"
    }
   },
   "outputs": [
    {
     "data": {
      "image/png": "[encoded data removed]",
      "text/plain": [
       "<Figure size 144x216 with 1 Axes>"
      ]
     },
     "metadata": {
      "tags": []
     },
     "output_type": "display_data"
    },
    {
     "data": {
      "image/png": "[encoded data removed]",
      "text/plain": [
       "<Figure size 144x216 with 1 Axes>"
      ]
     },
     "metadata": {
      "tags": []
     },
     "output_type": "display_data"
    }
   ],
   "source": [
    "from secml.figure import CFigure\n",
    "# Only required for visualization in notebooks\n",
    "%matplotlib inline\n",
    "\n",
    "# Let's define a convenience function to easily plot the MNIST dataset\n",
    "def show_digits(samples, preds, labels, digs, n_display=8):\n",
    "    samples = samples.atleast_2d()\n",
    "    n_display = min(n_display, samples.shape[0])\n",
    "    fig = CFigure(width=n_display*2, height=3)\n",
    "    for idx in range(n_display):\n",
    "        fig.subplot(2, n_display, idx+1)\n",
    "        fig.sp.xticks([])\n",
    "        fig.sp.yticks([])\n",
    "        fig.sp.imshow(samples[idx, :].reshape((28, 28)), cmap='gray')\n",
    "        fig.sp.title(\"{} ({})\".format(digits[labels[idx].item()], digs[preds[idx].item()]),\n",
    "                     color=(\"green\" if labels[idx].item()==preds[idx].item() else \"red\"))\n",
    "    fig.show()\n",
    "\n",
    "show_digits(attack_ds.X[0, :], clf.predict(attack_ds.X[0, :]), attack_ds.Y[0, :], digits)\n",
    "show_digits(eva_adv_ds.X[0, :], clf.predict(eva_adv_ds.X[0, :]), eva_adv_ds.Y[0, :], digits)"
   ]
  }
 ],
 "metadata": {
  "colab": {
   "name": "07-NeuralNetworks-MNIST.ipynb",
   "provenance": []
  },
  "kernelspec": {
   "display_name": "Python 3",
   "language": "python",
   "name": "python3"
  },
  "language_info": {
   "codemirror_mode": {
    "name": "ipython",
    "version": 3
   },
   "file_extension": ".py",
   "mimetype": "text/x-python",
   "name": "python",
   "nbconvert_exporter": "python",
   "pygments_lexer": "ipython3",
   "version": "3.8.5"
  }
 },
 "nbformat": 4,
 "nbformat_minor": 1
}
