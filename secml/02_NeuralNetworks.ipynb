{
 "cells": [
  {
   "cell_type": "markdown",
   "metadata": {
    "collapsed": true,
    "id": "PFLsofITPEyT",
    "pycharm": {
     "name": "#%% md\n"
    }
   },
   "source": [
    "# Neural Networks with PyTorch\n",
    "\n",
    "In this tutorial we will show how to create a Neural Network\n",
    "using the PyTorch (more usage examples of PyTorch [here](\n",
    "https://pytorch.org/tutorials/beginner/blitz/neural_networks_tutorial.html)).\n",
    "\n",
    "[![Open In Colab](https://colab.research.google.com/assets/colab-badge.svg)](\n",
    "https://colab.research.google.com/github/pralab/secml/blob/HEAD/tutorials/02-NeuralNetworks.ipynb)\n",
    "\n",
    "<div class=\"alert alert-warning\">\n",
    "\n",
    "**Warning**\n",
    "\n",
    "Requires installation of the `pytorch` extra dependency.\n",
    "See [extra components](../index.rst#extra-components) for more information.\n",
    "\n",
    "</div>"
   ]
  },
  {
   "cell_type": "code",
   "execution_count": 1,
   "metadata": {
    "id": "amdkDegMPEyW",
    "pycharm": {
     "name": "#%%\n"
    }
   },
   "outputs": [],
   "source": [
    "%%capture --no-stderr --no-display\n",
    "# NBVAL_IGNORE_OUTPUT\n",
    "\n",
    "try:\n",
    "  import secml\n",
    "  import torch\n",
    "except ImportError:\n",
    "  %pip install git+https://gitlab.com/secml/secml#egg=secml[pytorch]"
   ]
  },
  {
   "cell_type": "markdown",
   "metadata": {
    "id": "iupAnu53PEyX",
    "pycharm": {
     "name": "#%% md\n"
    }
   },
   "source": [
    "## Classifying blobs\n",
    "\n",
    "First, we need to create a neural network. We simply \n",
    "use PyTorch `nn.Module` as regular PyTorch code."
   ]
  },
  {
   "cell_type": "code",
   "execution_count": 2,
   "metadata": {
    "id": "R3EbY0YCPEyY",
    "pycharm": {
     "is_executing": false,
     "name": "#%% \n"
    }
   },
   "outputs": [],
   "source": [
    "import torch\n",
    "from torch import nn\n",
    "\n",
    "class Net(nn.Module):\n",
    "    \"\"\"\n",
    "    Model with input size (-1, 5) for blobs dataset\n",
    "    with 5 features\n",
    "    \"\"\"\n",
    "    def __init__(self, n_features, n_classes):\n",
    "        \"\"\"Example network.\"\"\"\n",
    "        super(Net, self).__init__()\n",
    "        self.fc1 = nn.Linear(n_features, 5)\n",
    "        self.fc2 = nn.Linear(5, n_classes)\n",
    "\n",
    "    def forward(self, x):\n",
    "        x = torch.relu(self.fc1(x))\n",
    "        x = self.fc2(x)\n",
    "        return x"
   ]
  },
  {
   "cell_type": "markdown",
   "metadata": {
    "id": "9SlmRPsIPEya",
    "pycharm": {
     "name": "#%% md\n"
    }
   },
   "source": [
    "We will use a 5D dataset composed with 3 gaussians. We can use 4k samples for \n",
    "training and 1k for testing. We can divide the sets in batches so that they can \n",
    "be processed in small groups by the network. We use a batch size of 20."
   ]
  },
  {
   "cell_type": "code",
   "execution_count": 3,
   "metadata": {
    "colab": {
     "base_uri": "https://localhost:8080/"
    },
    "id": "aLuMpaYLPEya",
    "outputId": "ccc1a303-f4b0-4fa1-8558-513e9fae0a01",
    "pycharm": {
     "is_executing": false,
     "name": "#%% \n"
    }
   },
   "outputs": [
    {
     "name": "stdout",
     "output_type": "stream",
     "text": [
      "2021-07-03 07:20:12,257 - secml.settings - INFO - New `SECML_HOME_DIR` created: /root/secml-data\n",
      "2021-07-03 07:20:12,257 - secml.settings - INFO - New `SECML_HOME_DIR` created: /root/secml-data\n",
      "2021-07-03 07:20:12,267 - secml.settings - INFO - Default configuration file copied to: /root/secml-data/secml.conf\n",
      "2021-07-03 07:20:12,267 - secml.settings - INFO - Default configuration file copied to: /root/secml-data/secml.conf\n",
      "2021-07-03 07:20:12,274 - secml.settings - INFO - New `SECML_DS_DIR` created: /root/secml-data/datasets\n",
      "2021-07-03 07:20:12,274 - secml.settings - INFO - New `SECML_DS_DIR` created: /root/secml-data/datasets\n",
      "2021-07-03 07:20:12,284 - secml.settings - INFO - New `SECML_MODELS_DIR` created: /root/secml-data/models\n",
      "2021-07-03 07:20:12,284 - secml.settings - INFO - New `SECML_MODELS_DIR` created: /root/secml-data/models\n",
      "2021-07-03 07:20:12,291 - secml.settings - INFO - New `SECML_EXP_DIR` created: /root/secml-data/experiments\n",
      "2021-07-03 07:20:12,291 - secml.settings - INFO - New `SECML_EXP_DIR` created: /root/secml-data/experiments\n",
      "2021-07-03 07:20:12,301 - secml.settings - INFO - New `SECML_LOGS_DIR` created: /root/secml-data/logs\n",
      "2021-07-03 07:20:12,301 - secml.settings - INFO - New `SECML_LOGS_DIR` created: /root/secml-data/logs\n",
      "2021-07-03 07:20:12,310 - secml.settings - INFO - New `SECML_PYTORCH_DIR` created: /root/secml-data/pytorch-data\n",
      "2021-07-03 07:20:12,310 - secml.settings - INFO - New `SECML_PYTORCH_DIR` created: /root/secml-data/pytorch-data\n"
     ]
    }
   ],
   "source": [
    "# experiment parameters\n",
    "n_classes = 3\n",
    "n_features = 2\n",
    "n_samples_tr = 4000  # number of training set samples\n",
    "n_samples_ts = 1000  # number of testing set samples\n",
    "batch_size = 20\n",
    "\n",
    "# dataset creation\n",
    "from secml.data.loader import CDLRandom\n",
    "dataset = CDLRandom(n_samples=n_samples_tr + n_samples_ts,\n",
    "                    n_classes=n_classes,\n",
    "                    n_features=n_features, n_redundant=0,\n",
    "                    n_clusters_per_class=1,\n",
    "                    class_sep=1, random_state=0).load()\n",
    "\n",
    "# Split in training and test\n",
    "from secml.data.splitter import CTrainTestSplit\n",
    "splitter = CTrainTestSplit(train_size=n_samples_tr, \n",
    "                           test_size=n_samples_ts,\n",
    "                           random_state=0)\n",
    "\n",
    "tr, ts = splitter.split(dataset)\n",
    "\n",
    "# Normalize the data\n",
    "from secml.ml.features.normalization import CNormalizerMinMax\n",
    "nmz = CNormalizerMinMax()\n",
    "tr.X = nmz.fit_transform(tr.X)\n",
    "ts.X = nmz.transform(ts.X)"
   ]
  },
  {
   "cell_type": "markdown",
   "metadata": {
    "id": "fu6ArryYPEyc",
    "pycharm": {
     "name": "#%% md\n"
    }
   },
   "source": [
    "Now we can create an instance of the PyTorch model and then wrap it in the \n",
    "specific class that will link it to our library functionalities."
   ]
  },
  {
   "cell_type": "code",
   "execution_count": 4,
   "metadata": {
    "id": "lfVLJIpoPEyc",
    "pycharm": {
     "is_executing": false,
     "name": "#%%\n"
    }
   },
   "outputs": [],
   "source": [
    "# Random seed\n",
    "torch.manual_seed(0)\n",
    "\n",
    "# torch model creation\n",
    "net = Net(n_features=n_features, n_classes=n_classes)\n",
    "\n",
    "from torch import optim\n",
    "criterion = nn.CrossEntropyLoss()\n",
    "optimizer = optim.SGD(net.parameters(),\n",
    "                      lr=0.001, momentum=0.9)\n",
    "\n",
    "# wrap torch model in CClassifierPyTorch class\n",
    "from secml.ml.classifiers import CClassifierPyTorch\n",
    "clf = CClassifierPyTorch(model=net,\n",
    "                         loss=criterion,\n",
    "                         optimizer=optimizer,\n",
    "                         input_shape=(n_features,),\n",
    "                         random_state=0)"
   ]
  },
  {
   "cell_type": "markdown",
   "metadata": {
    "id": "sLbHwmghPEye",
    "pycharm": {
     "name": "#%% md\n"
    }
   },
   "source": [
    "We can simply use the loaded `CDataset` and pass it to the `fit` method. The \n",
    "wrapper will handle batch processing and train the network for the number of epochs \n",
    "specified in the wrapper constructor."
   ]
  },
  {
   "cell_type": "code",
   "execution_count": 5,
   "metadata": {
    "colab": {
     "base_uri": "https://localhost:8080/"
    },
    "id": "5ubhYnv3PEye",
    "outputId": "6b6a18f0-ac0e-4b07-bd12-f2364a6569d9",
    "pycharm": {
     "is_executing": true,
     "name": "#%%\n"
    }
   },
   "outputs": [
    {
     "name": "stdout",
     "output_type": "stream",
     "text": [
      "Training started...\n",
      "Training completed!\n"
     ]
    }
   ],
   "source": [
    "# clf.verbose = 1  # Can be used to display training process output\n",
    "print(\"Training started...\")\n",
    "clf.fit(tr.X, tr.Y)\n",
    "print(\"Training completed!\")"
   ]
  },
  {
   "cell_type": "markdown",
   "metadata": {
    "id": "MgF-b4TtPEyg",
    "pycharm": {
     "name": "#%% md\n"
    }
   },
   "source": [
    "Using the model in \"predict\" mode is just as easy. We can use the method `predict` \n",
    "defined in our wrapper, and pass in the data. We can evaluate the accuracy with \n",
    "the `CMetric` defined in our library."
   ]
  },
  {
   "cell_type": "code",
   "execution_count": 6,
   "metadata": {
    "colab": {
     "base_uri": "https://localhost:8080/"
    },
    "id": "V6pXHiFYPEyh",
    "outputId": "93f19c82-21d7-4c1b-9a4f-be92a27c2c9d",
    "pycharm": {
     "is_executing": true,
     "name": "#%%\n"
    }
   },
   "outputs": [
    {
     "name": "stdout",
     "output_type": "stream",
     "text": [
      "Model Accuracy: 0.991\n"
     ]
    }
   ],
   "source": [
    "label_torch = clf.predict(ts.X, return_decision_function=False)\n",
    "\n",
    "from secml.ml.peval.metrics import CMetric\n",
    "acc_torch = CMetric.create('accuracy').performance_score(ts.Y, label_torch)\n",
    "\n",
    "print(\"Model Accuracy: {}\".format(acc_torch))"
   ]
  }
 ],
 "metadata": {
  "colab": {
   "name": "02-NeuralNetworks.ipynb",
   "provenance": []
  },
  "kernelspec": {
   "display_name": "Python 3",
   "language": "python",
   "name": "python3"
  },
  "language_info": {
   "codemirror_mode": {
    "name": "ipython",
    "version": 3
   },
   "file_extension": ".py",
   "mimetype": "text/x-python",
   "name": "python",
   "nbconvert_exporter": "python",
   "pygments_lexer": "ipython3",
   "version": "3.8.5"
  }
 },
 "nbformat": 4,
 "nbformat_minor": 1
}
