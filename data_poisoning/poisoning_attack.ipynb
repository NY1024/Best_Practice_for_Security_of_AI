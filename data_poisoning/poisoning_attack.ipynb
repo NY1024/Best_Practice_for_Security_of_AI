{
  "nbformat": 4,
  "nbformat_minor": 0,
  "metadata": {
    "colab": {
      "name": "Untitled58.ipynb",
      "provenance": []
    },
    "kernelspec": {
      "name": "python3",
      "display_name": "Python 3"
    },
    "language_info": {
      "name": "python"
    },
    "widgets": {
      "application/vnd.jupyter.widget-state+json": {
        "0740ea20052441bfa0630b2a7c2bc34e": {
          "model_module": "@jupyter-widgets/controls",
          "model_name": "HBoxModel",
          "state": {
            "_view_name": "HBoxView",
            "_dom_classes": [],
            "_model_name": "HBoxModel",
            "_view_module": "@jupyter-widgets/controls",
            "_model_module_version": "1.5.0",
            "_view_count": null,
            "_view_module_version": "1.5.0",
            "box_style": "",
            "layout": "IPY_MODEL_03f936a5ec114813821cd1541ac548de",
            "_model_module": "@jupyter-widgets/controls",
            "children": [
              "IPY_MODEL_289e868e603e4508a7347abc6e413414",
              "IPY_MODEL_6f99598b9c55438cb3e09470e376a425"
            ]
          }
        },
        "03f936a5ec114813821cd1541ac548de": {
          "model_module": "@jupyter-widgets/base",
          "model_name": "LayoutModel",
          "state": {
            "_view_name": "LayoutView",
            "grid_template_rows": null,
            "right": null,
            "justify_content": null,
            "_view_module": "@jupyter-widgets/base",
            "overflow": null,
            "_model_module_version": "1.2.0",
            "_view_count": null,
            "flex_flow": null,
            "width": null,
            "min_width": null,
            "border": null,
            "align_items": null,
            "bottom": null,
            "_model_module": "@jupyter-widgets/base",
            "top": null,
            "grid_column": null,
            "overflow_y": null,
            "overflow_x": null,
            "grid_auto_flow": null,
            "grid_area": null,
            "grid_template_columns": null,
            "flex": null,
            "_model_name": "LayoutModel",
            "justify_items": null,
            "grid_row": null,
            "max_height": null,
            "align_content": null,
            "visibility": null,
            "align_self": null,
            "height": null,
            "min_height": null,
            "padding": null,
            "grid_auto_rows": null,
            "grid_gap": null,
            "max_width": null,
            "order": null,
            "_view_module_version": "1.2.0",
            "grid_template_areas": null,
            "object_position": null,
            "object_fit": null,
            "grid_auto_columns": null,
            "margin": null,
            "display": null,
            "left": null
          }
        },
        "289e868e603e4508a7347abc6e413414": {
          "model_module": "@jupyter-widgets/controls",
          "model_name": "FloatProgressModel",
          "state": {
            "_view_name": "ProgressView",
            "style": "IPY_MODEL_b704e20f83db4b8c97d3b155c3481a6f",
            "_dom_classes": [],
            "description": "SVM poisoning: ",
            "_model_name": "FloatProgressModel",
            "bar_style": "success",
            "max": 1,
            "_view_module": "@jupyter-widgets/controls",
            "_model_module_version": "1.5.0",
            "value": 1,
            "_view_count": null,
            "_view_module_version": "1.5.0",
            "orientation": "horizontal",
            "min": 0,
            "description_tooltip": null,
            "_model_module": "@jupyter-widgets/controls",
            "layout": "IPY_MODEL_5fe3a67c778b4cdb86865c410fa5bdc2"
          }
        },
        "6f99598b9c55438cb3e09470e376a425": {
          "model_module": "@jupyter-widgets/controls",
          "model_name": "HTMLModel",
          "state": {
            "_view_name": "HTMLView",
            "style": "IPY_MODEL_9dbad0ec52ab437ca683f4f4feff13d9",
            "_dom_classes": [],
            "description": "",
            "_model_name": "HTMLModel",
            "placeholder": "​",
            "_view_module": "@jupyter-widgets/controls",
            "_model_module_version": "1.5.0",
            "value": " 1/? [00:27&lt;00:00, 27.62s/it]",
            "_view_count": null,
            "_view_module_version": "1.5.0",
            "description_tooltip": null,
            "_model_module": "@jupyter-widgets/controls",
            "layout": "IPY_MODEL_ee5c04775e9c4a5bbcdd2a79786bc811"
          }
        },
        "b704e20f83db4b8c97d3b155c3481a6f": {
          "model_module": "@jupyter-widgets/controls",
          "model_name": "ProgressStyleModel",
          "state": {
            "_view_name": "StyleView",
            "_model_name": "ProgressStyleModel",
            "description_width": "initial",
            "_view_module": "@jupyter-widgets/base",
            "_model_module_version": "1.5.0",
            "_view_count": null,
            "_view_module_version": "1.2.0",
            "bar_color": null,
            "_model_module": "@jupyter-widgets/controls"
          }
        },
        "5fe3a67c778b4cdb86865c410fa5bdc2": {
          "model_module": "@jupyter-widgets/base",
          "model_name": "LayoutModel",
          "state": {
            "_view_name": "LayoutView",
            "grid_template_rows": null,
            "right": null,
            "justify_content": null,
            "_view_module": "@jupyter-widgets/base",
            "overflow": null,
            "_model_module_version": "1.2.0",
            "_view_count": null,
            "flex_flow": null,
            "width": null,
            "min_width": null,
            "border": null,
            "align_items": null,
            "bottom": null,
            "_model_module": "@jupyter-widgets/base",
            "top": null,
            "grid_column": null,
            "overflow_y": null,
            "overflow_x": null,
            "grid_auto_flow": null,
            "grid_area": null,
            "grid_template_columns": null,
            "flex": null,
            "_model_name": "LayoutModel",
            "justify_items": null,
            "grid_row": null,
            "max_height": null,
            "align_content": null,
            "visibility": null,
            "align_self": null,
            "height": null,
            "min_height": null,
            "padding": null,
            "grid_auto_rows": null,
            "grid_gap": null,
            "max_width": null,
            "order": null,
            "_view_module_version": "1.2.0",
            "grid_template_areas": null,
            "object_position": null,
            "object_fit": null,
            "grid_auto_columns": null,
            "margin": null,
            "display": null,
            "left": null
          }
        },
        "9dbad0ec52ab437ca683f4f4feff13d9": {
          "model_module": "@jupyter-widgets/controls",
          "model_name": "DescriptionStyleModel",
          "state": {
            "_view_name": "StyleView",
            "_model_name": "DescriptionStyleModel",
            "description_width": "",
            "_view_module": "@jupyter-widgets/base",
            "_model_module_version": "1.5.0",
            "_view_count": null,
            "_view_module_version": "1.2.0",
            "_model_module": "@jupyter-widgets/controls"
          }
        },
        "ee5c04775e9c4a5bbcdd2a79786bc811": {
          "model_module": "@jupyter-widgets/base",
          "model_name": "LayoutModel",
          "state": {
            "_view_name": "LayoutView",
            "grid_template_rows": null,
            "right": null,
            "justify_content": null,
            "_view_module": "@jupyter-widgets/base",
            "overflow": null,
            "_model_module_version": "1.2.0",
            "_view_count": null,
            "flex_flow": null,
            "width": null,
            "min_width": null,
            "border": null,
            "align_items": null,
            "bottom": null,
            "_model_module": "@jupyter-widgets/base",
            "top": null,
            "grid_column": null,
            "overflow_y": null,
            "overflow_x": null,
            "grid_auto_flow": null,
            "grid_area": null,
            "grid_template_columns": null,
            "flex": null,
            "_model_name": "LayoutModel",
            "justify_items": null,
            "grid_row": null,
            "max_height": null,
            "align_content": null,
            "visibility": null,
            "align_self": null,
            "height": null,
            "min_height": null,
            "padding": null,
            "grid_auto_rows": null,
            "grid_gap": null,
            "max_width": null,
            "order": null,
            "_view_module_version": "1.2.0",
            "grid_template_areas": null,
            "object_position": null,
            "object_fit": null,
            "grid_auto_columns": null,
            "margin": null,
            "display": null,
            "left": null
          }
        }
      }
    }
  },
  "cells": [
    {
      "cell_type": "code",
      "metadata": {
        "colab": {
          "base_uri": "https://localhost:8080/"
        },
        "id": "mqybrlDrcr6l",
        "outputId": "d6ee9deb-c27a-4624-eb51-deaf5784e420"
      },
      "source": [
        "pip install adversarial-robustness-toolbox==1.7.0"
      ],
      "execution_count": 7,
      "outputs": [
        {
          "output_type": "stream",
          "text": [
            "Requirement already satisfied: adversarial-robustness-toolbox==1.7.0 in /usr/local/lib/python3.7/dist-packages (1.7.0)\n",
            "Requirement already satisfied: setuptools in /usr/local/lib/python3.7/dist-packages (from adversarial-robustness-toolbox==1.7.0) (57.0.0)\n",
            "Requirement already satisfied: scipy>=1.4.1 in /usr/local/lib/python3.7/dist-packages (from adversarial-robustness-toolbox==1.7.0) (1.4.1)\n",
            "Requirement already satisfied: scikit-learn<0.24.3,>=0.22.2 in /usr/local/lib/python3.7/dist-packages (from adversarial-robustness-toolbox==1.7.0) (0.22.2.post1)\n",
            "Requirement already satisfied: tqdm in /usr/local/lib/python3.7/dist-packages (from adversarial-robustness-toolbox==1.7.0) (4.41.1)\n",
            "Requirement already satisfied: six in /usr/local/lib/python3.7/dist-packages (from adversarial-robustness-toolbox==1.7.0) (1.15.0)\n",
            "Requirement already satisfied: numba~=0.53.1 in /usr/local/lib/python3.7/dist-packages (from adversarial-robustness-toolbox==1.7.0) (0.53.1)\n",
            "Requirement already satisfied: numpy>=1.18.0 in /usr/local/lib/python3.7/dist-packages (from adversarial-robustness-toolbox==1.7.0) (1.19.5)\n",
            "Requirement already satisfied: joblib>=0.11 in /usr/local/lib/python3.7/dist-packages (from scikit-learn<0.24.3,>=0.22.2->adversarial-robustness-toolbox==1.7.0) (1.0.1)\n",
            "Requirement already satisfied: llvmlite<0.37,>=0.36.0rc1 in /usr/local/lib/python3.7/dist-packages (from numba~=0.53.1->adversarial-robustness-toolbox==1.7.0) (0.36.0)\n"
          ],
          "name": "stdout"
        }
      ]
    },
    {
      "cell_type": "markdown",
      "metadata": {
        "id": "5KVxeDGKjrew"
      },
      "source": [
        "note:run in tf 2.x"
      ]
    },
    {
      "cell_type": "code",
      "metadata": {
        "colab": {
          "base_uri": "https://localhost:8080/",
          "height": 36
        },
        "id": "GUmJoILNgOGs",
        "outputId": "d3626e6d-68ed-4946-ffa0-3234170ca8ab"
      },
      "source": [
        "import art\n",
        "art.__version__"
      ],
      "execution_count": 8,
      "outputs": [
        {
          "output_type": "execute_result",
          "data": {
            "application/vnd.google.colaboratory.intrinsic+json": {
              "type": "string"
            },
            "text/plain": [
              "'1.7.0'"
            ]
          },
          "metadata": {
            "tags": []
          },
          "execution_count": 8
        }
      ]
    },
    {
      "cell_type": "markdown",
      "metadata": {
        "id": "cdTobdtjnRM5"
      },
      "source": [
        "\n",
        "\n",
        "In this notebook, we will learn how to use ART to run a poisoning attack on Support Vector Machines. We will be training our data on a subset of the IRIS dataset.\n"
      ]
    },
    {
      "cell_type": "markdown",
      "metadata": {
        "id": "BD7uJKJZc-vE"
      },
      "source": [
        "shows how to achieve certified adversarial robustness for neural networks via Randomized Smoothing."
      ]
    },
    {
      "cell_type": "code",
      "metadata": {
        "id": "l2apRrrGc72P"
      },
      "source": [
        "from __future__ import absolute_import, division, print_function, unicode_literals\n",
        "\n",
        "import os, sys\n",
        "from os.path import abspath\n",
        "\n",
        "module_path = os.path.abspath(os.path.join('..'))\n",
        "if module_path not in sys.path:\n",
        "    sys.path.append(module_path)\n",
        "\n",
        "from sklearn.svm import SVC, LinearSVC\n",
        "from sklearn.datasets import load_iris\n",
        "\n",
        "import numpy as np\n",
        "from matplotlib import pyplot as plt\n",
        "\n",
        "from art.estimators.classification import SklearnClassifier\n",
        "from art.attacks.poisoning.poisoning_attack_svm import PoisoningAttackSVM\n",
        "\n",
        "np.random.seed(301)"
      ],
      "execution_count": 1,
      "outputs": []
    },
    {
      "cell_type": "code",
      "metadata": {
        "id": "Ot1fNW_ZdFte"
      },
      "source": [
        "def find_duplicates(x_train):\n",
        "    \"\"\"\n",
        "    Returns an array of booleans that is true if that element was previously in the array\n",
        "\n",
        "    :param x_train: training data\n",
        "    :type x_train: `np.ndarray`\n",
        "    :return: duplicates array\n",
        "    :rtype: `np.ndarray`\n",
        "    \"\"\"\n",
        "    dup = np.zeros(x_train.shape[0])\n",
        "    for idx, x in enumerate(x_train):\n",
        "        dup[idx] = np.isin(x_train[:idx], x).all(axis=1).any()\n",
        "    return dup"
      ],
      "execution_count": 2,
      "outputs": []
    },
    {
      "cell_type": "code",
      "metadata": {
        "id": "GhY_8_RDdJpm"
      },
      "source": [
        "def get_data():\n",
        "    iris = load_iris()\n",
        "    X = iris.data\n",
        "    y = iris.target\n",
        "    \n",
        "    X = X[y != 0, :2]\n",
        "    y = y[y != 0]\n",
        "    labels = np.zeros((y.shape[0], 2))\n",
        "    labels[y == 2] = np.array([1, 0])\n",
        "    labels[y == 1] = np.array([0, 1])\n",
        "    y = labels\n",
        "    \n",
        "    n_sample = len(X)\n",
        "    \n",
        "    order = np.random.permutation(n_sample)\n",
        "    X = X[order]\n",
        "    y = y[order].astype(np.float)\n",
        "    \n",
        "    X_train = X[:int(.9 * n_sample)]\n",
        "    y_train = y[:int(.9 * n_sample)]\n",
        "    train_dups = find_duplicates(X_train)\n",
        "    X_train = X_train[train_dups == False]\n",
        "    y_train = y_train[train_dups == False]\n",
        "    X_test = X[int(.9 * n_sample):]\n",
        "    y_test = y[int(.9 * n_sample):]\n",
        "    test_dups = find_duplicates(X_test)\n",
        "    X_test = X_test[test_dups == False]\n",
        "    y_test = y_test[test_dups == False]\n",
        "    return X_train, y_train, X_test, y_test"
      ],
      "execution_count": 3,
      "outputs": []
    },
    {
      "cell_type": "code",
      "metadata": {
        "id": "FobFkA9XdOW6"
      },
      "source": [
        "def get_adversarial_examples(x_train, y_train, attack_idx, x_val, y_val, kernel):\n",
        "    # Create ART classfier for scikit-learn SVC\n",
        "    art_classifier = SklearnClassifier(model=SVC(kernel=kernel), clip_values=(0, 10))\n",
        "    art_classifier.fit(x_train, y_train)\n",
        "    init_attack = np.copy(x_train[attack_idx])\n",
        "    y_attack = np.array([1, 1]) - np.copy(y_train[attack_idx])\n",
        "    attack = PoisoningAttackSVM(art_classifier, 0.001, 1.0, x_train, y_train, x_val, y_val, max_iter=100)\n",
        "    final_attack, _ = attack.poison(np.array([init_attack]), y=np.array([y_attack]))\n",
        "    return final_attack, art_classifier"
      ],
      "execution_count": 4,
      "outputs": []
    },
    {
      "cell_type": "code",
      "metadata": {
        "id": "nWiH7GnKdTuY"
      },
      "source": [
        "def plot_results(model, x_train, y_train, x_train_adv, title):\n",
        "    import matplotlib.pyplot as plt\n",
        "    import warnings\n",
        "    warnings.filterwarnings(\"ignore\")\n",
        "\n",
        "    plt.figure()\n",
        "    plt.clf()\n",
        "\n",
        "    get_color = lambda idx: 'orange' if np.argmax(idx) == 1 else 'blue'\n",
        "    for i_class_2 in [np.array([0, 1]), np.array([1, 0])]:\n",
        "        mask = np.all(y_train == i_class_2, axis=1)\n",
        "        plt.scatter(x_train[mask][:, 0], x_train[mask][:, 1], s=20, zorder=2, c=get_color(i_class_2))\n",
        "    # plt.axes.set_aspect('equal', adjustable='box')\n",
        "\n",
        "    for sv in model.support_vectors_:\n",
        "        plt.scatter(sv[0], sv[1], s=200, linewidth=1, facecolors='none', edgecolors='lightgreen',\n",
        "                             zorder=2)\n",
        "    h = .01\n",
        "    x_min, x_max = 1.5, 8.5\n",
        "    y_min, y_max = 0, 7\n",
        "\n",
        "    xx, yy = np.meshgrid(np.arange(x_min, x_max, h), np.arange(y_min, y_max, h))\n",
        "\n",
        "    Z = model.decision_function(np.c_[xx.ravel(), yy.ravel()])\n",
        "    Z = Z.reshape(xx.shape)\n",
        "    plt.pcolormesh(xx, yy, Z > 0, cmap=plt.cm.Paired)\n",
        "    plt.contour(xx, yy, Z, colors=['k', 'k', 'k'],\n",
        "                linestyles=['--', '-', '--'], levels=[-.5, 0, .5])\n",
        "\n",
        "    x_values = []\n",
        "    y_values = []\n",
        "    for adv in x_train_adv:\n",
        "        x_values.append(adv[0, 0])\n",
        "        y_values.append(adv[0, 1])\n",
        "    x_values = np.array(x_values)\n",
        "    y_values = np.array(y_values)\n",
        "    plt.scatter(x_values, y_values, zorder=2,\n",
        "                         c='red', marker='X')\n",
        "    plt.axes().set_xlim((x_min, x_max))\n",
        "    plt.axes().set_ylim((y_min, y_max))\n",
        "\n",
        "    plt.axes().set_title(title)\n",
        "    plt.axes().set_xlabel('feature 1')\n",
        "    plt.axes().set_ylabel('feature 2')"
      ],
      "execution_count": 5,
      "outputs": []
    },
    {
      "cell_type": "markdown",
      "metadata": {
        "id": "LOLatpzlnMFW"
      },
      "source": [
        "In this example, we take two features from the IRIS dataset and train an SVM."
      ]
    },
    {
      "cell_type": "code",
      "metadata": {
        "id": "WzK8JCOYdjfQ"
      },
      "source": [
        "train_data, train_labels, test_data, test_labels = get_data()\n",
        "\n"
      ],
      "execution_count": 6,
      "outputs": []
    },
    {
      "cell_type": "markdown",
      "metadata": {
        "id": "oCyvalb8nGbO"
      },
      "source": [
        ""
      ]
    },
    {
      "cell_type": "markdown",
      "metadata": {
        "id": "0Cs8I1dmnGkn"
      },
      "source": [
        "Visualize Effect of Attack on SVM\n",
        "\n",
        "After training the SVM on just one attack point, a noticable change occurs in the decision boundary for the classifier"
      ]
    },
    {
      "cell_type": "code",
      "metadata": {
        "colab": {
          "base_uri": "https://localhost:8080/",
          "height": 698,
          "referenced_widgets": [
            "0740ea20052441bfa0630b2a7c2bc34e",
            "03f936a5ec114813821cd1541ac548de",
            "289e868e603e4508a7347abc6e413414",
            "6f99598b9c55438cb3e09470e376a425",
            "b704e20f83db4b8c97d3b155c3481a6f",
            "5fe3a67c778b4cdb86865c410fa5bdc2",
            "9dbad0ec52ab437ca683f4f4feff13d9",
            "ee5c04775e9c4a5bbcdd2a79786bc811"
          ]
        },
        "id": "iQim_GGmjm-h",
        "outputId": "45cd598f-c2ff-422b-c48a-72114f40aafe"
      },
      "source": [
        "\n",
        "kernel = 'linear' # one of ['linear', 'poly', 'rbf']\n",
        "\n",
        "attack_point, poisoned = get_adversarial_examples(train_data, train_labels, 0, test_data, test_labels, kernel)\n",
        "clean = SVC(kernel=kernel)\n",
        "art_clean = SklearnClassifier(clean, clip_values=(0, 10))\n",
        "art_clean.fit(x=train_data, y=train_labels)\n",
        "\n",
        "plot_results(art_clean._model, train_data, train_labels, [], \"SVM Before Attack\")\n",
        "plot_results(poisoned._model, train_data, train_labels, [attack_point], \"SVM After Poison\")\n",
        "\n",
        "clean_acc_train = np.average(np.all(art_clean.predict(train_data) == train_labels, axis=1))\n",
        "poison_acc_train = np.average(np.all(poisoned.predict(train_data) == train_labels, axis=1))\n",
        "clean_acc_test = np.average(np.all(art_clean.predict(test_data) == test_labels, axis=1))\n",
        "poison_acc_test = np.average(np.all(poisoned.predict(test_data) == test_labels, axis=1))\n",
        "\n",
        "print(\"Clean model accuracy on train set ({} samples): {}\".format(len(train_labels), clean_acc_train))\n",
        "print(\"Poison model accuracy on train set ({} samples): {}\".format(len(train_labels), poison_acc_train))\n",
        "print(\"Clean model accuracy on test set ({} samples): {}\".format(len(test_labels), clean_acc_test))\n",
        "print(\"Poison model accuracy on test set ({} samples): {}\".format(len(test_labels), poison_acc_test))"
      ],
      "execution_count": 7,
      "outputs": [
        {
          "output_type": "display_data",
          "data": {
            "application/vnd.jupyter.widget-view+json": {
              "model_id": "0740ea20052441bfa0630b2a7c2bc34e",
              "version_minor": 0,
              "version_major": 2
            },
            "text/plain": [
              "HBox(children=(FloatProgress(value=1.0, bar_style='info', description='SVM poisoning', max=1.0, style=Progress…"
            ]
          },
          "metadata": {
            "tags": []
          }
        },
        {
          "output_type": "stream",
          "text": [
            "\n",
            "Clean model accuracy on train set (68 samples): 0.7352941176470589\n",
            "Poison model accuracy on train set (68 samples): 0.7352941176470589\n",
            "Clean model accuracy on test set (10 samples): 0.6\n",
            "Poison model accuracy on test set (10 samples): 0.6\n"
          ],
          "name": "stdout"
        },
        {
          "output_type": "display_data",
          "data": {
            "image/png": "[encoded data removed]",
            "text/plain": [
              "<Figure size 432x288 with 1 Axes>"
            ]
          },
          "metadata": {
            "tags": [],
            "needs_background": "light"
          }
        },
        {
          "output_type": "display_data",
          "data": {
            "image/png": "[encoded data removed]",
            "text/plain": [
              "<Figure size 432x288 with 1 Axes>"
            ]
          },
          "metadata": {
            "tags": [],
            "needs_background": "light"
          }
        }
      ]
    },
    {
      "cell_type": "markdown",
      "metadata": {
        "id": "A5nkeiCLmlnk"
      },
      "source": [
        "\n",
        "\n",
        "A perfect classifier would have all points in yellow on the orange side of the decision boundary and all points in blue on the light blue side of the decision boundary. The attack point is shown in red and support vectors are circled.\n",
        "\n",
        "Even with small changes in overall accuracy, inserting just a single poison point can have major impacts on the model's ability to generalize well.\n"
      ]
    },
    {
      "cell_type": "code",
      "metadata": {
        "id": "_w8CQ5Tld6XH"
      },
      "source": [
        ""
      ],
      "execution_count": null,
      "outputs": []
    }
  ]
}