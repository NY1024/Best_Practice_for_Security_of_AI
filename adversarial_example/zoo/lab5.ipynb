{
 "cells": [
  {
   "cell_type": "code",
   "execution_count": 1,
   "metadata": {},
   "outputs": [
    {
     "name": "stderr",
     "output_type": "stream",
     "text": [
      "/root/anaconda3/envs/exp2/lib/python3.6/site-packages/tqdm/auto.py:22: TqdmWarning: IProgress not found. Please update jupyter and ipywidgets. See https://ipywidgets.readthedocs.io/en/stable/user_install.html\n",
      "  from .autonotebook import tqdm as notebook_tqdm\n"
     ]
    }
   ],
   "source": [
    "from sklearn.ensemble import AdaBoostClassifier\n",
    "from sklearn.datasets import load_iris\n",
    "\n",
    "import numpy as np\n",
    "from matplotlib import pyplot as plt\n",
    "\n",
    "from art.estimators.classification import SklearnClassifier\n",
    "from art.utils import load_mnist\n",
    "\n",
    "import warnings\n",
    "warnings.filterwarnings('ignore')"
   ]
  },
  {
   "cell_type": "code",
   "execution_count": 2,
   "metadata": {},
   "outputs": [],
   "source": [
    "from __future__ import absolute_import, division, print_function, unicode_literals\n",
    "\n",
    "import logging\n",
    "from typing import Optional, Tuple, Any, TYPE_CHECKING\n",
    "\n",
    "import numpy as np\n",
    "from scipy.ndimage import zoom\n",
    "from tqdm.auto import trange\n",
    "\n",
    "from art.config import ART_NUMPY_DTYPE\n",
    "from art.attacks.attack import EvasionAttack\n",
    "from art.estimators.estimator import BaseEstimator\n",
    "from art.estimators.classification.classifier import ClassifierMixin\n",
    "from art.utils import (\n",
    "    compute_success,\n",
    "    get_labels_np_array,\n",
    "    check_and_transform_label_format,\n",
    ")\n",
    "\n",
    "if TYPE_CHECKING:\n",
    "    from art.utils import CLASSIFIER_TYPE\n",
    "\n",
    "logger = logging.getLogger(__name__)\n",
    "\n",
    "\n",
    "class ZooAttack(EvasionAttack):\n",
    " \n",
    "\n",
    "    attack_params = EvasionAttack.attack_params + [\n",
    "        \"confidence\",\n",
    "        \"targeted\",\n",
    "        \"learning_rate\",\n",
    "        \"max_iter\",\n",
    "        \"binary_search_steps\",\n",
    "        \"initial_const\",\n",
    "        \"abort_early\",\n",
    "        \"use_resize\",\n",
    "        \"use_importance\",\n",
    "        \"nb_parallel\",\n",
    "        \"batch_size\",\n",
    "        \"variable_h\",\n",
    "        \"verbose\",\n",
    "    ]\n",
    "    _estimator_requirements = (BaseEstimator, ClassifierMixin)\n",
    "\n",
    "    def __init__(\n",
    "        self,\n",
    "        classifier: \"CLASSIFIER_TYPE\",\n",
    "        confidence: float = 0.0,\n",
    "        targeted: bool = False,\n",
    "        learning_rate: float = 1e-2,\n",
    "        max_iter: int = 10,\n",
    "        binary_search_steps: int = 1,\n",
    "        initial_const: float = 1e-3,\n",
    "        abort_early: bool = True,\n",
    "        use_resize: bool = True,\n",
    "        use_importance: bool = True,\n",
    "        nb_parallel: int = 128,\n",
    "        batch_size: int = 1,\n",
    "        variable_h: float = 1e-4,\n",
    "        verbose: bool = True,\n",
    "    ):\n",
    "        \n",
    "        super().__init__(estimator=classifier)\n",
    "\n",
    "        if len(classifier.input_shape) == 1:\n",
    "            self.input_is_feature_vector = True\n",
    "            if batch_size != 1:\n",
    "                raise ValueError(\n",
    "                    \"The current implementation of Zeroth-Order Optimisation attack only supports \"\n",
    "                    \"`batch_size=1` with feature vectors as input.\"\n",
    "                )\n",
    "        else:\n",
    "            self.input_is_feature_vector = False\n",
    "\n",
    "        self.confidence = confidence\n",
    "        self._targeted = targeted\n",
    "        self.learning_rate = learning_rate\n",
    "        self.max_iter = max_iter\n",
    "        self.binary_search_steps = binary_search_steps\n",
    "        self.initial_const = initial_const\n",
    "        self.abort_early = abort_early\n",
    "        self.use_resize = use_resize\n",
    "        self.use_importance = use_importance\n",
    "        self.nb_parallel = nb_parallel\n",
    "        self.batch_size = batch_size\n",
    "        self.variable_h = variable_h\n",
    "        self.verbose = verbose\n",
    "        self._check_params()\n",
    "\n",
    "        \n",
    "        self._init_size = 32\n",
    "        if self.abort_early:\n",
    "            self._early_stop_iters = self.max_iter // 10 if self.max_iter >= 10 else self.max_iter\n",
    "\n",
    "        \n",
    "        if self.input_is_feature_vector:\n",
    "            self.use_resize = False\n",
    "            self.use_importance = False\n",
    "            logger.info( \n",
    "                \"Disable resizing and importance sampling because feature vector input has been detected.\"\n",
    "            )\n",
    "\n",
    "        if self.use_resize:\n",
    "            if not self.estimator.channels_first:\n",
    "                dims = (batch_size, self._init_size, self._init_size, self.estimator.input_shape[-1])\n",
    "            else:  \n",
    "                dims = (batch_size, self.estimator.input_shape[0], self._init_size, self._init_size)\n",
    "            self._current_noise = np.zeros(dims, dtype=ART_NUMPY_DTYPE)\n",
    "        else:\n",
    "            self._current_noise = np.zeros((batch_size,) + self.estimator.input_shape, dtype=ART_NUMPY_DTYPE)\n",
    "        self._sample_prob = np.ones(self._current_noise.size, dtype=ART_NUMPY_DTYPE) / self._current_noise.size\n",
    "\n",
    "        self.adam_mean: Optional[np.ndarray] = None\n",
    "        self.adam_var: Optional[np.ndarray] = None\n",
    "        self.adam_epochs: Optional[np.ndarray] = None\n",
    "\n",
    "    def _loss(\n",
    "        self, x: np.ndarray, x_adv: np.ndarray, target: np.ndarray, c_weight: np.ndarray\n",
    "    ) -> Tuple[np.ndarray, np.ndarray, np.ndarray]:\n",
    "        \n",
    "        l2dist = np.sum(np.square(x - x_adv).reshape(x_adv.shape[0], -1), axis=1)\n",
    "        ratios = [1.0] + [\n",
    "            int(new_size) / int(old_size) for new_size, old_size in zip(self.estimator.input_shape, x.shape[1:])\n",
    "        ]\n",
    "        preds = self.estimator.predict(np.array(zoom(x_adv, zoom=ratios)), batch_size=self.batch_size)\n",
    "        z_target = np.sum(preds * target, axis=1)\n",
    "        z_other = np.max(\n",
    "            preds * (1 - target) + (np.min(preds, axis=1) - 1)[:, np.newaxis] * target,\n",
    "            axis=1,\n",
    "        )\n",
    "\n",
    "        if self.targeted:\n",
    "            \n",
    "            loss = np.maximum(z_other - z_target + self.confidence, 0)\n",
    "        else:\n",
    "            \n",
    "            loss = np.maximum(z_target - z_other + self.confidence, 0)\n",
    "\n",
    "        return preds, l2dist, c_weight * loss + l2dist\n",
    "\n",
    "    def generate(self, x: np.ndarray, y: Optional[np.ndarray] = None, **kwargs) -> np.ndarray:\n",
    "\n",
    "        if y is not None:\n",
    "            y = check_and_transform_label_format(y, nb_classes=self.estimator.nb_classes)\n",
    "\n",
    "        \n",
    "        if self.targeted and y is None:  \n",
    "            raise ValueError(\"Target labels `y` need to be provided for a targeted attack.\")\n",
    "\n",
    "        \n",
    "        if y is None:\n",
    "            y = get_labels_np_array(self.estimator.predict(x, batch_size=self.batch_size))\n",
    "\n",
    "        if self.estimator.nb_classes == 2 and y.shape[1] == 1:  \n",
    "            raise ValueError(\n",
    "                \"This attack has not yet been tested for binary classification with a single output classifier.\"\n",
    "            )\n",
    "\n",
    "       \n",
    "        nb_batches = int(np.ceil(x.shape[0] / float(self.batch_size)))\n",
    "        x_adv_list = []\n",
    "        for batch_id in trange(nb_batches, desc=\"ZOO\", disable=not self.verbose):\n",
    "            batch_index_1, batch_index_2 = batch_id * self.batch_size, (batch_id + 1) * self.batch_size\n",
    "            x_batch = x[batch_index_1:batch_index_2]\n",
    "            y_batch = y[batch_index_1:batch_index_2]\n",
    "            res = self._generate_batch(x_batch, y_batch)\n",
    "            x_adv_list.append(res)\n",
    "        x_adv = np.vstack(x_adv_list)\n",
    "\n",
    "        \n",
    "        if self.estimator.clip_values is not None:\n",
    "            clip_min, clip_max = self.estimator.clip_values\n",
    "            np.clip(x_adv, clip_min, clip_max, out=x_adv)\n",
    "\n",
    "        \n",
    "        logger.info(\n",
    "            \"Success rate of ZOO attack: %.2f%%\",\n",
    "            100 * compute_success(self.estimator, x, y, x_adv, self.targeted, batch_size=self.batch_size),\n",
    "        )\n",
    "\n",
    "        return x_adv\n",
    "\n",
    "    def _generate_batch(self, x_batch: np.ndarray, y_batch: np.ndarray) -> np.ndarray:\n",
    "        \n",
    "        c_current = self.initial_const * np.ones(x_batch.shape[0])\n",
    "        c_lower_bound = np.zeros(x_batch.shape[0])\n",
    "        c_upper_bound = 1e10 * np.ones(x_batch.shape[0])\n",
    "\n",
    "       \n",
    "        o_best_dist = np.inf * np.ones(x_batch.shape[0])\n",
    "        o_best_attack = x_batch.copy()\n",
    "\n",
    "       \n",
    "        for bss in range(self.binary_search_steps):\n",
    "            logger.debug(\n",
    "                \"Binary search step %i out of %i (c_mean==%f)\",\n",
    "                bss,\n",
    "                self.binary_search_steps,\n",
    "                np.mean(c_current),\n",
    "            )\n",
    "\n",
    "            \n",
    "            best_dist, best_label, best_attack = self._generate_bss(x_batch, y_batch, c_current)\n",
    "\n",
    "            \n",
    "            o_best_attack[best_dist < o_best_dist] = best_attack[best_dist < o_best_dist]\n",
    "            o_best_dist[best_dist < o_best_dist] = best_dist[best_dist < o_best_dist]\n",
    "\n",
    "           \n",
    "            c_current, c_lower_bound, c_upper_bound = self._update_const(\n",
    "                y_batch, best_label, c_current, c_lower_bound, c_upper_bound\n",
    "            )\n",
    "\n",
    "        return o_best_attack\n",
    "\n",
    "    def _update_const(\n",
    "        self,\n",
    "        y_batch: np.ndarray,\n",
    "        best_label: np.ndarray,\n",
    "        c_batch: np.ndarray,\n",
    "        c_lower_bound: np.ndarray,\n",
    "        c_upper_bound: np.ndarray,\n",
    "    ) -> Tuple[np.ndarray, np.ndarray, np.ndarray]:\n",
    "        \n",
    "\n",
    "        comparison = [\n",
    "            self._compare(best_label[i], np.argmax(y_batch[i])) and best_label[i] != -np.inf\n",
    "            for i in range(len(c_batch))\n",
    "        ]\n",
    "        for i, comp in enumerate(comparison):\n",
    "            if comp:\n",
    "                \n",
    "                c_upper_bound[i] = min(c_upper_bound[i], c_batch[i])\n",
    "                if c_upper_bound[i] < 1e9:\n",
    "                    c_batch[i] = (c_lower_bound[i] + c_upper_bound[i]) / 2\n",
    "            else:\n",
    "                \n",
    "                c_lower_bound[i] = max(c_lower_bound[i], c_batch[i])\n",
    "                c_batch[i] = (c_lower_bound[i] + c_upper_bound[i]) / 2 if c_upper_bound[i] < 1e9 else c_batch[i] * 10\n",
    "\n",
    "        return c_batch, c_lower_bound, c_upper_bound\n",
    "\n",
    "    def _compare(self, object1: Any, object2: Any) -> bool:\n",
    "        \n",
    "        return object1 == object2 if self.targeted else object1 != object2\n",
    "\n",
    "    def _generate_bss(\n",
    "        self, x_batch: np.ndarray, y_batch: np.ndarray, c_batch: np.ndarray\n",
    "    ) -> Tuple[np.ndarray, np.ndarray, np.ndarray]:\n",
    "        \n",
    "\n",
    "        x_orig = x_batch.astype(ART_NUMPY_DTYPE)\n",
    "        fine_tuning = np.full(x_batch.shape[0], False, dtype=bool)\n",
    "        prev_loss = 1e6 * np.ones(x_batch.shape[0])\n",
    "        prev_l2dist = np.zeros(x_batch.shape[0])\n",
    "\n",
    "       \n",
    "        if self.use_resize:\n",
    "            x_orig = self._resize_image(x_orig, self._init_size, self._init_size, True)\n",
    "            assert (x_orig != 0).any()\n",
    "            x_adv = x_orig.copy()\n",
    "        else:\n",
    "            x_orig = x_batch\n",
    "            self._reset_adam(np.prod(self.estimator.input_shape).item())\n",
    "            if x_batch.shape == self._current_noise.shape:\n",
    "                self._current_noise.fill(0)\n",
    "            else:\n",
    "                self._current_noise = np.zeros(x_batch.shape, dtype=ART_NUMPY_DTYPE)\n",
    "            x_adv = x_orig.copy()\n",
    "\n",
    "        \n",
    "        best_dist = np.inf * np.ones(x_adv.shape[0])\n",
    "        best_label = -np.inf * np.ones(x_adv.shape[0])\n",
    "        best_attack = np.array([x_adv[i] for i in range(x_adv.shape[0])])\n",
    "\n",
    "        for iter_ in range(self.max_iter):\n",
    "            logger.debug(\"Iteration step %i out of %i\", iter_, self.max_iter)\n",
    "\n",
    "            \n",
    "            if self.use_resize:\n",
    "                if iter_ == 2000:\n",
    "                    x_adv = self._resize_image(x_adv, 64, 64)\n",
    "                    x_orig = zoom(\n",
    "                        x_orig,\n",
    "                        [\n",
    "                            1,\n",
    "                            x_adv.shape[1] / x_orig.shape[1],\n",
    "                            x_adv.shape[2] / x_orig.shape[2],\n",
    "                            x_adv.shape[3] / x_orig.shape[3],\n",
    "                        ],\n",
    "                    )\n",
    "                elif iter_ == 10000:\n",
    "                    x_adv = self._resize_image(x_adv, 128, 128)\n",
    "                    x_orig = zoom(\n",
    "                        x_orig,\n",
    "                        [\n",
    "                            1,\n",
    "                            x_adv.shape[1] / x_orig.shape[1],\n",
    "                            x_adv.shape[2] / x_orig.shape[2],\n",
    "                            x_adv.shape[3] / x_orig.shape[3],\n",
    "                        ],\n",
    "                    )\n",
    "\n",
    "            \n",
    "            x_adv = self._optimizer(x_adv, y_batch, c_batch)\n",
    "            preds, l2dist, loss = self._loss(x_orig, x_adv, y_batch, c_batch)\n",
    "\n",
    "            \n",
    "            mask_fine_tune = (~fine_tuning) & (loss == l2dist) & (prev_loss != prev_l2dist)\n",
    "            fine_tuning[mask_fine_tune] = True\n",
    "            self._reset_adam(self.adam_mean.size, np.repeat(mask_fine_tune, x_adv[0].size)) \n",
    "            prev_l2dist = l2dist\n",
    "\n",
    "            \n",
    "            if self.abort_early and iter_ % self._early_stop_iters == 0:\n",
    "                if (loss > 0.9999 * prev_loss).all():\n",
    "                    break\n",
    "                prev_loss = loss\n",
    "\n",
    "            \n",
    "            labels_batch = np.argmax(y_batch, axis=1)\n",
    "            for i, (dist, pred) in enumerate(zip(l2dist, np.argmax(preds, axis=1))):\n",
    "                if dist < best_dist[i] and self._compare(pred, labels_batch[i]):\n",
    "                    best_dist[i] = dist\n",
    "                    best_attack[i] = x_adv[i]\n",
    "                    best_label[i] = pred\n",
    "\n",
    "        best_attack = np.array(best_attack)\n",
    "        if self.use_resize:\n",
    "            if not self.estimator.channels_first:\n",
    "                best_attack = zoom(\n",
    "                    best_attack,\n",
    "                    [\n",
    "                        1,\n",
    "                        int(x_batch.shape[1]) / best_attack.shape[1],\n",
    "                        int(x_batch.shape[2]) / best_attack.shape[2],\n",
    "                        1,\n",
    "                    ],\n",
    "                )\n",
    "            else:\n",
    "                best_attack = zoom(\n",
    "                    best_attack,\n",
    "                    [\n",
    "                        1,\n",
    "                        1,\n",
    "                        int(x_batch.shape[2]) / best_attack.shape[2],\n",
    "                        int(x_batch.shape[2]) / best_attack.shape[3],\n",
    "                    ],\n",
    "                )\n",
    "\n",
    "        return best_dist, best_label, best_attack\n",
    "\n",
    "    def _optimizer(self, x: np.ndarray, targets: np.ndarray, c_batch: np.ndarray) -> np.ndarray:\n",
    "       \n",
    "        coord_batch = np.repeat(self._current_noise, 2 * self.nb_parallel, axis=0)\n",
    "        coord_batch = coord_batch.reshape(2 * self.nb_parallel * self._current_noise.shape[0], -1)\n",
    "\n",
    "       \n",
    "        if self.use_importance and np.unique(self._sample_prob).size != 1:\n",
    "            indices = (\n",
    "                np.random.choice(\n",
    "                    coord_batch.shape[-1] * x.shape[0],\n",
    "                    self.nb_parallel * self._current_noise.shape[0],\n",
    "                    replace=False,\n",
    "                    p=self._sample_prob.flatten(),\n",
    "                )\n",
    "                % coord_batch.shape[-1]\n",
    "            )\n",
    "        else:\n",
    "            try:\n",
    "                indices = (\n",
    "                    np.random.choice(\n",
    "                        coord_batch.shape[-1] * x.shape[0],\n",
    "                        self.nb_parallel * self._current_noise.shape[0],\n",
    "                        replace=False,\n",
    "                    )\n",
    "                    % coord_batch.shape[-1]\n",
    "                )\n",
    "            except ValueError as error:  \n",
    "                if \"Cannot take a larger sample than population when 'replace=False'\" in str(error):\n",
    "                    raise ValueError(\n",
    "                        \"Too many samples are requested for the random indices. Try to reduce the number of parallel\"\n",
    "                        \"coordinate updates `nb_parallel`.\"\n",
    "                    ) from error\n",
    "\n",
    "                raise error\n",
    "\n",
    "        \n",
    "        for i in range(self.nb_parallel * self._current_noise.shape[0]):\n",
    "            coord_batch[2 * i, indices[i]] += self.variable_h\n",
    "            coord_batch[2 * i + 1, indices[i]] -= self.variable_h\n",
    "\n",
    "        \n",
    "        expanded_x = np.repeat(x, 2 * self.nb_parallel, axis=0).reshape((-1,) + x.shape[1:])\n",
    "        expanded_targets = np.repeat(targets, 2 * self.nb_parallel, axis=0).reshape((-1,) + targets.shape[1:])\n",
    "        expanded_c = np.repeat(c_batch, 2 * self.nb_parallel)\n",
    "        _, _, loss = self._loss(\n",
    "            expanded_x,\n",
    "            expanded_x + coord_batch.reshape(expanded_x.shape),\n",
    "            expanded_targets,\n",
    "            expanded_c,\n",
    "        )\n",
    "        if self.adam_mean is not None and self.adam_var is not None and self.adam_epochs is not None:\n",
    "            self._current_noise = self._optimizer_adam_coordinate(\n",
    "                loss,\n",
    "                indices,\n",
    "                self.adam_mean,\n",
    "                self.adam_var,\n",
    "                self._current_noise,\n",
    "                self.learning_rate,\n",
    "                self.adam_epochs,\n",
    "                True,\n",
    "            )\n",
    "        else:\n",
    "            raise ValueError(\"Unexpected `None` in `adam_mean`, `adam_var` or `adam_epochs` detected.\")\n",
    "\n",
    "        if self.use_importance and self._current_noise.shape[2] > self._init_size:\n",
    "            self._sample_prob = self._get_prob(self._current_noise).flatten()\n",
    "\n",
    "        return x + self._current_noise\n",
    "\n",
    "    def _optimizer_adam_coordinate(\n",
    "        self,\n",
    "        losses: np.ndarray,\n",
    "        index: np.ndarray,\n",
    "        mean: np.ndarray,\n",
    "        var: np.ndarray,\n",
    "        current_noise: np.ndarray,\n",
    "        learning_rate: float,\n",
    "        adam_epochs: np.ndarray,\n",
    "        proj: bool,\n",
    "    ) -> np.ndarray:\n",
    "        \n",
    "        beta1, beta2 = 0.9, 0.999\n",
    "\n",
    "        grads = np.array([(losses[i] - losses[i + 1]) / (2 * self.variable_h) for i in range(0, len(losses), 2)])\n",
    "\n",
    "       \n",
    "        mean[index] = beta1 * mean[index] + (1 - beta1) * grads\n",
    "        var[index] = beta2 * var[index] + (1 - beta2) * grads ** 2\n",
    "\n",
    "        corr = (np.sqrt(1 - np.power(beta2, adam_epochs[index]))) / (1 - np.power(beta1, adam_epochs[index]))\n",
    "        orig_shape = current_noise.shape\n",
    "        current_noise = current_noise.reshape(-1)\n",
    "        current_noise[index] -= learning_rate * corr * mean[index] / (np.sqrt(var[index]) + 1e-8)\n",
    "        adam_epochs[index] += 1\n",
    "\n",
    "        if proj and hasattr(self.estimator, \"clip_values\") and self.estimator.clip_values is not None:\n",
    "            clip_min, clip_max = self.estimator.clip_values\n",
    "            current_noise[index] = np.clip(current_noise[index], clip_min, clip_max)\n",
    "\n",
    "        return current_noise.reshape(orig_shape)\n",
    "\n",
    "    def _reset_adam(self, nb_vars: int, indices: Optional[np.ndarray] = None) -> None:\n",
    "        \n",
    "        if self.adam_mean is not None and self.adam_mean.size == nb_vars:\n",
    "            if indices is None:\n",
    "                self.adam_mean.fill(0)\n",
    "                self.adam_var.fill(0) \n",
    "                self.adam_epochs.fill(1) \n",
    "            else:\n",
    "                self.adam_mean[indices] = 0\n",
    "                self.adam_var[indices] = 0  \n",
    "                self.adam_epochs[indices] = 1 \n",
    "        else:\n",
    "          \n",
    "            self.adam_mean = np.zeros(nb_vars, dtype=ART_NUMPY_DTYPE)\n",
    "            self.adam_var = np.zeros(nb_vars, dtype=ART_NUMPY_DTYPE)\n",
    "            self.adam_epochs = np.ones(nb_vars, dtype=int)\n",
    "\n",
    "    def _resize_image(self, x: np.ndarray, size_x: int, size_y: int, reset: bool = False) -> np.ndarray:\n",
    "        if not self.estimator.channels_first:\n",
    "            dims = (x.shape[0], size_x, size_y, x.shape[-1])\n",
    "        else:\n",
    "            dims = (x.shape[0], x.shape[1], size_x, size_y)\n",
    "        nb_vars = np.prod(dims).item()\n",
    "\n",
    "        if reset:\n",
    "           \n",
    "            if dims == x.shape:\n",
    "                resized_x = x\n",
    "                if x.shape == self._current_noise.shape:\n",
    "                    self._current_noise.fill(0)\n",
    "                else:\n",
    "                    self._current_noise = np.zeros(x.shape, dtype=ART_NUMPY_DTYPE)\n",
    "            else:\n",
    "                resized_x = zoom(\n",
    "                    x,\n",
    "                    (\n",
    "                        1,\n",
    "                        dims[1] / x.shape[1],\n",
    "                        dims[2] / x.shape[2],\n",
    "                        dims[3] / x.shape[3],\n",
    "                    ),\n",
    "                )\n",
    "                self._current_noise = np.zeros(dims, dtype=ART_NUMPY_DTYPE)\n",
    "            self._sample_prob = np.ones(nb_vars, dtype=ART_NUMPY_DTYPE) / nb_vars\n",
    "        else:\n",
    "           \n",
    "            resized_x = zoom(x, (1, dims[1] / x.shape[1], dims[2] / x.shape[2], dims[3] / x.shape[3]))\n",
    "            self._sample_prob = self._get_prob(self._current_noise, double=True).flatten()\n",
    "            self._current_noise = np.zeros(dims, dtype=ART_NUMPY_DTYPE)\n",
    "\n",
    "        \n",
    "        self._reset_adam(nb_vars)\n",
    "\n",
    "        return resized_x\n",
    "\n",
    "    def _get_prob(self, prev_noise: np.ndarray, double: bool = False) -> np.ndarray:\n",
    "        dims = list(prev_noise.shape)\n",
    "        channel_index = 1 if self.estimator.channels_first else 3\n",
    "\n",
    "       \n",
    "        if double:\n",
    "            dims = [2 * size if i not in [0, channel_index] else size for i, size in enumerate(dims)]\n",
    "\n",
    "        prob = np.empty(shape=dims, dtype=np.float32)\n",
    "        image = np.abs(prev_noise)\n",
    "\n",
    "        for channel in range(prev_noise.shape[channel_index]):\n",
    "            if not self.estimator.channels_first:\n",
    "                image_pool = self._max_pooling(image[:, :, :, channel], dims[1] // 8)\n",
    "                if double:\n",
    "                    prob[:, :, :, channel] = np.abs(zoom(image_pool, [1, 2, 2]))\n",
    "                else:\n",
    "                    prob[:, :, :, channel] = image_pool\n",
    "            elif self.estimator.channels_first:\n",
    "                image_pool = self._max_pooling(image[:, channel, :, :], dims[2] // 8)\n",
    "                if double:\n",
    "                    prob[:, channel, :, :] = np.abs(zoom(image_pool, [1, 2, 2]))\n",
    "                else:\n",
    "                    prob[:, channel, :, :] = image_pool\n",
    "\n",
    "        prob /= np.sum(prob)\n",
    "\n",
    "        return prob\n",
    "\n",
    "    @staticmethod\n",
    "    def _max_pooling(image: np.ndarray, kernel_size: int) -> np.ndarray:\n",
    "        img_pool = np.copy(image)\n",
    "        for i in range(0, image.shape[1], kernel_size):\n",
    "            for j in range(0, image.shape[2], kernel_size):\n",
    "                img_pool[:, i : i + kernel_size, j : j + kernel_size] = np.max(\n",
    "                    image[:, i : i + kernel_size, j : j + kernel_size],\n",
    "                    axis=(1, 2),\n",
    "                    keepdims=True,\n",
    "                )\n",
    "\n",
    "        return img_pool\n",
    "\n",
    "    def _check_params(self) -> None:\n",
    "        if not isinstance(self.binary_search_steps, int) or self.binary_search_steps < 0:\n",
    "            raise ValueError(\"The number of binary search steps must be a non-negative integer.\")\n",
    "\n",
    "        if not isinstance(self.max_iter, int) or self.max_iter < 0:\n",
    "            raise ValueError(\"The number of iterations must be a non-negative integer.\")\n",
    "\n",
    "        if not isinstance(self.nb_parallel, int) or self.nb_parallel < 1:\n",
    "            raise ValueError(\"The number of parallel coordinates must be an integer greater than zero.\")\n",
    "\n",
    "        if not isinstance(self.batch_size, int) or self.batch_size < 1:\n",
    "            raise ValueError(\"The batch size must be an integer greater than zero.\")\n",
    "\n",
    "        if not isinstance(self.verbose, bool):\n",
    "            raise ValueError(\"The argument `verbose` has to be of type bool.\")"
   ]
  },
  {
   "cell_type": "code",
   "execution_count": 3,
   "metadata": {},
   "outputs": [],
   "source": [
    "def get_adversarial_examples(x_train, y_train):\n",
    "    \n",
    "   \n",
    "    model = AdaBoostClassifier()\n",
    "    model.fit(X=x_train, y=y_train)\n",
    "\n",
    "    \n",
    "    art_classifier = SklearnClassifier(model=model)\n",
    "\n",
    "    \n",
    "    zoo = ZooAttack(classifier=art_classifier, confidence=0.0, targeted=False, learning_rate=1e-1, max_iter=20,\n",
    "                    binary_search_steps=10, initial_const=1e-3, abort_early=True, use_resize=False, \n",
    "                    use_importance=False, nb_parallel=1, batch_size=1, variable_h=0.2)\n",
    "\n",
    "    \n",
    "    x_train_adv = zoo.generate(x_train)\n",
    "\n",
    "    return x_train_adv, model"
   ]
  },
  {
   "cell_type": "code",
   "execution_count": 4,
   "metadata": {},
   "outputs": [],
   "source": [
    "(x_train, y_train), (x_test, y_test), min_, max_ = load_mnist()\n",
    "\n",
    "n_samples_train = x_train.shape[0]\n",
    "n_features_train = x_train.shape[1] * x_train.shape[2] * x_train.shape[3]\n",
    "n_samples_test = x_test.shape[0]\n",
    "n_features_test = x_test.shape[1] * x_test.shape[2] * x_test.shape[3]\n",
    "\n",
    "x_train = x_train.reshape(n_samples_train, n_features_train)\n",
    "x_test = x_test.reshape(n_samples_test, n_features_test)\n",
    "\n",
    "y_train = np.argmax(y_train, axis=1)\n",
    "y_test = np.argmax(y_test, axis=1)\n",
    "\n",
    "n_samples_max = 200\n",
    "x_train = x_train[0:n_samples_max]\n",
    "y_train = y_train[0:n_samples_max]\n",
    "x_test = x_test[0:n_samples_max]\n",
    "y_test = y_test[0:n_samples_max]"
   ]
  },
  {
   "cell_type": "code",
   "execution_count": 5,
   "metadata": {},
   "outputs": [],
   "source": [
    "model = AdaBoostClassifier(base_estimator=None, n_estimators=50, learning_rate=0.1, algorithm='SAMME.R', \n",
    "                           random_state=None)"
   ]
  },
  {
   "cell_type": "code",
   "execution_count": 6,
   "metadata": {},
   "outputs": [
    {
     "data": {
      "text/plain": [
       "AdaBoostClassifier(learning_rate=0.1)"
      ]
     },
     "execution_count": 6,
     "metadata": {},
     "output_type": "execute_result"
    }
   ],
   "source": [
    "model.fit(X=x_train, y=y_train)"
   ]
  },
  {
   "cell_type": "code",
   "execution_count": 7,
   "metadata": {},
   "outputs": [],
   "source": [
    "art_classifier = SklearnClassifier(model=model)"
   ]
  },
  {
   "cell_type": "code",
   "execution_count": 8,
   "metadata": {},
   "outputs": [],
   "source": [
    "zoo = ZooAttack(classifier=art_classifier, confidence=0.0, targeted=False, learning_rate=1e-1, max_iter=30,\n",
    "                binary_search_steps=20, initial_const=1e-3, abort_early=True, use_resize=False, \n",
    "                use_importance=False, nb_parallel=10, batch_size=1, variable_h=0.25)"
   ]
  },
  {
   "cell_type": "code",
   "execution_count": 9,
   "metadata": {},
   "outputs": [
    {
     "name": "stderr",
     "output_type": "stream",
     "text": [
      "ZOO: 100%|██████████| 200/200 [06:06<00:00,  1.83s/it]\n"
     ]
    }
   ],
   "source": [
    "x_test_adv = zoo.generate(x_test)"
   ]
  },
  {
   "cell_type": "code",
   "execution_count": 10,
   "metadata": {},
   "outputs": [
    {
     "name": "stdout",
     "output_type": "stream",
     "text": [
      "Adversarial Test Score: 0.2750\n"
     ]
    }
   ],
   "source": [
    "score = model.score(x_test_adv, y_test)\n",
    "print(\"Adversarial Test Score: %.4f\" % score)"
   ]
  },
  {
   "cell_type": "code",
   "execution_count": 11,
   "metadata": {},
   "outputs": [
    {
     "data": {
      "image/png": "[encoded data removed]",
      "text/plain": [
       "<Figure size 288x288 with 1 Axes>"
      ]
     },
     "metadata": {
      "needs_background": "light"
     },
     "output_type": "display_data"
    }
   ],
   "source": [
    "plt.matshow(x_test[0, :].reshape((28, 28)))\n",
    "plt.clim(0, 1)"
   ]
  },
  {
   "cell_type": "code",
   "execution_count": 12,
   "metadata": {},
   "outputs": [
    {
     "name": "stdout",
     "output_type": "stream",
     "text": [
      "Benign Test Predicted Label: 7\n"
     ]
    }
   ],
   "source": [
    "prediction = model.predict(x_test[0:1, :])[0]\n",
    "print(\"Benign Test Predicted Label: %i\" % prediction)"
   ]
  },
  {
   "cell_type": "code",
   "execution_count": 13,
   "metadata": {},
   "outputs": [
    {
     "data": {
      "image/png": "[encoded data removed]",
      "text/plain": [
       "<Figure size 288x288 with 1 Axes>"
      ]
     },
     "metadata": {
      "needs_background": "light"
     },
     "output_type": "display_data"
    }
   ],
   "source": [
    "plt.matshow(x_test_adv[0, :].reshape((28, 28)))\n",
    "plt.clim(0, 1)"
   ]
  },
  {
   "cell_type": "code",
   "execution_count": 14,
   "metadata": {},
   "outputs": [
    {
     "name": "stdout",
     "output_type": "stream",
     "text": [
      "Adversarial Test Predicted Label: 3\n"
     ]
    }
   ],
   "source": [
    "prediction = model.predict(x_test_adv[0:1, :])[0]\n",
    "print(\"Adversarial Test Predicted Label: %i\" % prediction)"
   ]
  },
  {
   "cell_type": "code",
   "execution_count": 15,
   "metadata": {},
   "outputs": [],
   "source": [
    "from art.estimators.classification import CatBoostARTClassifier"
   ]
  },
  {
   "cell_type": "code",
   "execution_count": 16,
   "metadata": {},
   "outputs": [],
   "source": [
    "from catboost import CatBoostClassifier"
   ]
  },
  {
   "cell_type": "code",
   "execution_count": 17,
   "metadata": {},
   "outputs": [],
   "source": [
    "def get_adversarial_examples(x_train, y_train):\n",
    "    \n",
    "    \n",
    "    model = CatBoostClassifier(custom_loss=['Accuracy'], random_seed=42, logging_level='Silent')\n",
    "    model.fit(x_train, y_train, cat_features=None, eval_set=(x_train, y_train))\n",
    "\n",
    "    \n",
    "    art_classifier = CatBoostARTClassifier(model=model, nb_features=x_train.shape[1])\n",
    "\n",
    "    \n",
    "    zoo = ZooAttack(classifier=art_classifier, confidence=0.0, targeted=False, learning_rate=1e-1, max_iter=20,\n",
    "                    binary_search_steps=10, initial_const=1e-3, abort_early=True, use_resize=False, \n",
    "                    use_importance=False, nb_parallel=1, batch_size=1, variable_h=0.2)\n",
    "\n",
    "   \n",
    "    x_train_adv = zoo.generate(x_train)\n",
    "\n",
    "    return x_train_adv, model"
   ]
  },
  {
   "cell_type": "code",
   "execution_count": 18,
   "metadata": {},
   "outputs": [
    {
     "data": {
      "text/plain": [
       "<catboost.core.CatBoostClassifier at 0x7fd27f7023c8>"
      ]
     },
     "execution_count": 18,
     "metadata": {},
     "output_type": "execute_result"
    }
   ],
   "source": [
    "model = CatBoostClassifier(custom_loss=['Accuracy'], random_seed=42, logging_level='Silent', depth=8, iterations=20)\n",
    "model.fit(x_train, y_train, cat_features=None, eval_set=(x_train, y_train))"
   ]
  },
  {
   "cell_type": "code",
   "execution_count": 19,
   "metadata": {},
   "outputs": [
    {
     "name": "stdout",
     "output_type": "stream",
     "text": [
      "Benign Training Score: 0.9950\n"
     ]
    }
   ],
   "source": [
    "y_pred = model.predict_proba(x_train)\n",
    "score = np.sum(y_train == np.argmax(y_pred, axis=1)) / y_train.shape[0]\n",
    "print(\"Benign Training Score: %.4f\" % score)"
   ]
  },
  {
   "cell_type": "code",
   "execution_count": 20,
   "metadata": {},
   "outputs": [],
   "source": [
    "art_classifier = CatBoostARTClassifier(model=model, nb_features=x_train.shape[1])"
   ]
  },
  {
   "cell_type": "code",
   "execution_count": 21,
   "metadata": {},
   "outputs": [],
   "source": [
    "zoo = ZooAttack(classifier=art_classifier, confidence=0.0, targeted=False, learning_rate=1e-1, max_iter=100,\n",
    "                binary_search_steps=20, initial_const=1e-3, abort_early=True, use_resize=False, \n",
    "                use_importance=False, nb_parallel=10, batch_size=1, variable_h=0.25)"
   ]
  },
  {
   "cell_type": "code",
   "execution_count": 22,
   "metadata": {},
   "outputs": [
    {
     "data": {
      "image/png": "[encoded data removed]",
      "text/plain": [
       "<Figure size 288x288 with 1 Axes>"
      ]
     },
     "metadata": {
      "needs_background": "light"
     },
     "output_type": "display_data"
    }
   ],
   "source": [
    "plt.matshow(x_test[0, :].reshape((28, 28)))\n",
    "plt.clim(0, 1)"
   ]
  },
  {
   "cell_type": "code",
   "execution_count": 23,
   "metadata": {},
   "outputs": [
    {
     "name": "stdout",
     "output_type": "stream",
     "text": [
      "Benign Test Predicted Label: 7\n"
     ]
    }
   ],
   "source": [
    "prediction = np.argmax(model.predict_proba(x_test[0:1, :]), axis=1)\n",
    "print(\"Benign Test Predicted Label: %i\" % prediction)"
   ]
  },
  {
   "cell_type": "code",
   "execution_count": 24,
   "metadata": {},
   "outputs": [
    {
     "name": "stderr",
     "output_type": "stream",
     "text": [
      "ZOO: 100%|██████████| 1/1 [00:06<00:00,  6.05s/it]\n"
     ]
    }
   ],
   "source": [
    "x_test_adv = zoo.generate(x_test[0:1, :])"
   ]
  },
  {
   "cell_type": "code",
   "execution_count": 25,
   "metadata": {},
   "outputs": [
    {
     "name": "stdout",
     "output_type": "stream",
     "text": [
      "Adversarial Test Score: 0.0800\n"
     ]
    }
   ],
   "source": [
    "score = model.score(x_test_adv, y_test)\n",
    "print(\"Adversarial Test Score: %.4f\" % score)"
   ]
  },
  {
   "cell_type": "code",
   "execution_count": 26,
   "metadata": {},
   "outputs": [
    {
     "data": {
      "image/png": "[encoded data removed]",
      "text/plain": [
       "<Figure size 288x288 with 1 Axes>"
      ]
     },
     "metadata": {
      "needs_background": "light"
     },
     "output_type": "display_data"
    }
   ],
   "source": [
    "plt.matshow(x_test_adv.reshape((28, 28)))\n",
    "plt.clim(0, 1)"
   ]
  },
  {
   "cell_type": "code",
   "execution_count": 27,
   "metadata": {},
   "outputs": [
    {
     "name": "stdout",
     "output_type": "stream",
     "text": [
      "Adversarial Test Predicted Label: 3\n"
     ]
    }
   ],
   "source": [
    "prediction = np.argmax(model.predict_proba(x_test_adv), axis=1)\n",
    "print(\"Adversarial Test Predicted Label: %i\" % prediction)"
   ]
  },
  {
   "cell_type": "code",
   "execution_count": 28,
   "metadata": {},
   "outputs": [],
   "source": [
    "from sklearn.ensemble import BaggingClassifier"
   ]
  },
  {
   "cell_type": "code",
   "execution_count": 29,
   "metadata": {},
   "outputs": [],
   "source": [
    "def get_adversarial_examples(x_train, y_train):\n",
    "    \n",
    "    \n",
    "    model = BaggingClassifier()\n",
    "    model.fit(X=x_train, y=y_train)\n",
    "\n",
    "    \n",
    "    art_classifier = SklearnClassifier(model=model)\n",
    "\n",
    "   \n",
    "    zoo = ZooAttack(classifier=art_classifier, confidence=0.0, targeted=False, learning_rate=1e-1, max_iter=20,\n",
    "                    binary_search_steps=10, initial_const=1e-3, abort_early=True, use_resize=False, \n",
    "                    use_importance=False, nb_parallel=1, batch_size=1, variable_h=0.2)\n",
    "    \n",
    "   \n",
    "    x_train_adv = zoo.generate(x_train)\n",
    "\n",
    "    return x_train_adv, model"
   ]
  },
  {
   "cell_type": "code",
   "execution_count": 30,
   "metadata": {},
   "outputs": [],
   "source": [
    "model = BaggingClassifier(base_estimator=None, n_estimators=10, max_samples=1.0, max_features=1.0, \n",
    "                          bootstrap=True, bootstrap_features=False, oob_score=False, warm_start=False, \n",
    "                          n_jobs=None, random_state=None, verbose=0)"
   ]
  },
  {
   "cell_type": "code",
   "execution_count": 31,
   "metadata": {},
   "outputs": [
    {
     "data": {
      "text/plain": [
       "BaggingClassifier()"
      ]
     },
     "execution_count": 31,
     "metadata": {},
     "output_type": "execute_result"
    }
   ],
   "source": [
    "model.fit(X=x_train, y=y_train)"
   ]
  },
  {
   "cell_type": "code",
   "execution_count": 32,
   "metadata": {},
   "outputs": [
    {
     "name": "stdout",
     "output_type": "stream",
     "text": [
      "Benign Training Score: 1.0000\n"
     ]
    }
   ],
   "source": [
    "score = model.score(x_train, y_train)\n",
    "print(\"Benign Training Score: %.4f\" % score)"
   ]
  },
  {
   "cell_type": "code",
   "execution_count": 33,
   "metadata": {},
   "outputs": [
    {
     "data": {
      "image/png": "[encoded data removed]",
      "text/plain": [
       "<Figure size 288x288 with 1 Axes>"
      ]
     },
     "metadata": {
      "needs_background": "light"
     },
     "output_type": "display_data"
    }
   ],
   "source": [
    "plt.matshow(x_train[0, :].reshape((28, 28)))\n",
    "plt.clim(0, 1)"
   ]
  },
  {
   "cell_type": "code",
   "execution_count": 34,
   "metadata": {},
   "outputs": [
    {
     "name": "stdout",
     "output_type": "stream",
     "text": [
      "Benign Training Predicted Label: 5\n"
     ]
    }
   ],
   "source": [
    "prediction = model.predict(x_train[0:1, :])[0]\n",
    "print(\"Benign Training Predicted Label: %i\" % prediction)"
   ]
  },
  {
   "cell_type": "code",
   "execution_count": 35,
   "metadata": {},
   "outputs": [],
   "source": [
    "art_classifier = SklearnClassifier(model=model)"
   ]
  },
  {
   "cell_type": "code",
   "execution_count": 36,
   "metadata": {},
   "outputs": [],
   "source": [
    "zoo = ZooAttack(classifier=art_classifier, confidence=0.0, targeted=False, learning_rate=1e-1, max_iter=100,\n",
    "                binary_search_steps=20, initial_const=1e-3, abort_early=True, use_resize=False, \n",
    "                use_importance=False, nb_parallel=10, batch_size=1, variable_h=0.25)"
   ]
  },
  {
   "cell_type": "code",
   "execution_count": 37,
   "metadata": {},
   "outputs": [
    {
     "data": {
      "image/png": "[encoded data removed]",
      "text/plain": [
       "<Figure size 288x288 with 1 Axes>"
      ]
     },
     "metadata": {
      "needs_background": "light"
     },
     "output_type": "display_data"
    }
   ],
   "source": [
    "plt.matshow(x_test[0, :].reshape((28, 28)))\n",
    "plt.clim(0, 1)"
   ]
  },
  {
   "cell_type": "code",
   "execution_count": 38,
   "metadata": {},
   "outputs": [
    {
     "name": "stdout",
     "output_type": "stream",
     "text": [
      "Benign Test Predicted Label: 7\n"
     ]
    }
   ],
   "source": [
    "prediction = model.predict(x_test[0:1, :])[0]\n",
    "print(\"Benign Test Predicted Label: %i\" % prediction)"
   ]
  },
  {
   "cell_type": "code",
   "execution_count": 39,
   "metadata": {},
   "outputs": [
    {
     "name": "stderr",
     "output_type": "stream",
     "text": [
      "ZOO: 100%|██████████| 1/1 [00:03<00:00,  3.21s/it]\n"
     ]
    }
   ],
   "source": [
    "x_test_adv = zoo.generate(x_test[0:1, :])"
   ]
  },
  {
   "cell_type": "code",
   "execution_count": 41,
   "metadata": {},
   "outputs": [
    {
     "data": {
      "image/png": "[encoded data removed]",
      "text/plain": [
       "<Figure size 288x288 with 1 Axes>"
      ]
     },
     "metadata": {
      "needs_background": "light"
     },
     "output_type": "display_data"
    }
   ],
   "source": [
    "plt.matshow(x_test_adv.reshape((28, 28)))\n",
    "plt.clim(0, 1)"
   ]
  },
  {
   "cell_type": "code",
   "execution_count": 42,
   "metadata": {},
   "outputs": [
    {
     "name": "stdout",
     "output_type": "stream",
     "text": [
      "Adversarial Test Predicted Label: 0\n"
     ]
    }
   ],
   "source": [
    "prediction = model.predict(x_test_adv)[0]\n",
    "print(\"Adversarial Test Predicted Label: %i\" % prediction)"
   ]
  },
  {
   "cell_type": "code",
   "execution_count": 43,
   "metadata": {},
   "outputs": [],
   "source": [
    "from sklearn.tree import DecisionTreeClassifier"
   ]
  },
  {
   "cell_type": "code",
   "execution_count": 44,
   "metadata": {},
   "outputs": [],
   "source": [
    "model = DecisionTreeClassifier(criterion='gini', splitter='best', max_depth=None, min_samples_split=2, \n",
    "                               min_samples_leaf=1, min_weight_fraction_leaf=0.0, max_features=None, \n",
    "                               random_state=None, max_leaf_nodes=50, min_impurity_decrease=0.0, \n",
    "                               min_impurity_split=None, class_weight=None) "
   ]
  },
  {
   "cell_type": "code",
   "execution_count": 45,
   "metadata": {},
   "outputs": [
    {
     "data": {
      "text/plain": [
       "DecisionTreeClassifier(max_leaf_nodes=50)"
      ]
     },
     "execution_count": 45,
     "metadata": {},
     "output_type": "execute_result"
    }
   ],
   "source": [
    "model.fit(X=x_train, y=y_train)"
   ]
  },
  {
   "cell_type": "code",
   "execution_count": 46,
   "metadata": {},
   "outputs": [
    {
     "data": {
      "image/png": "[encoded data removed]",
      "text/plain": [
       "<Figure size 288x288 with 1 Axes>"
      ]
     },
     "metadata": {
      "needs_background": "light"
     },
     "output_type": "display_data"
    }
   ],
   "source": [
    "plt.matshow(x_test[0:1, :].reshape((28, 28)))\n",
    "plt.clim(0, 1)"
   ]
  },
  {
   "cell_type": "code",
   "execution_count": 47,
   "metadata": {},
   "outputs": [
    {
     "name": "stdout",
     "output_type": "stream",
     "text": [
      "Benign Test Predicted Label: 7\n"
     ]
    }
   ],
   "source": [
    "prediction = model.predict(x_test[0:1, :])[0]\n",
    "print(\"Benign Test Predicted Label: %i\" % prediction)"
   ]
  },
  {
   "cell_type": "code",
   "execution_count": 48,
   "metadata": {},
   "outputs": [],
   "source": [
    "art_classifier = SklearnClassifier(model=model)"
   ]
  },
  {
   "cell_type": "code",
   "execution_count": 49,
   "metadata": {},
   "outputs": [],
   "source": [
    "zoo = ZooAttack(classifier=art_classifier, confidence=0.0, targeted=False, learning_rate=1e-1, max_iter=100,\n",
    "                binary_search_steps=20, initial_const=1e-3, abort_early=True, use_resize=False, \n",
    "                use_importance=False, nb_parallel=10, batch_size=1, variable_h=0.25)"
   ]
  },
  {
   "cell_type": "code",
   "execution_count": 50,
   "metadata": {},
   "outputs": [
    {
     "name": "stderr",
     "output_type": "stream",
     "text": [
      "ZOO: 100%|██████████| 1/1 [00:00<00:00,  1.04it/s]\n"
     ]
    }
   ],
   "source": [
    "x_test_adv = zoo.generate(x_test[0:1, :])"
   ]
  },
  {
   "cell_type": "code",
   "execution_count": 52,
   "metadata": {},
   "outputs": [
    {
     "name": "stdout",
     "output_type": "stream",
     "text": [
      "Adversarial Test Score: 0.4650\n"
     ]
    }
   ],
   "source": [
    "score = model.score(x_test, y_test)\n",
    "print(\"Adversarial Test Score: %.4f\" % score)"
   ]
  },
  {
   "cell_type": "code",
   "execution_count": 56,
   "metadata": {},
   "outputs": [
    {
     "data": {
      "image/png": "[encoded data removed]",
      "text/plain": [
       "<Figure size 288x288 with 1 Axes>"
      ]
     },
     "metadata": {
      "needs_background": "light"
     },
     "output_type": "display_data"
    }
   ],
   "source": [
    "plt.matshow(x_test_adv.reshape((28, 28)))\n",
    "plt.clim(0, 1)"
   ]
  },
  {
   "cell_type": "code",
   "execution_count": 57,
   "metadata": {},
   "outputs": [
    {
     "name": "stdout",
     "output_type": "stream",
     "text": [
      "Adversarial Test Predicted Label: 5\n"
     ]
    }
   ],
   "source": [
    "prediction = model.predict(x_test_adv)[0]\n",
    "print(\"Adversarial Test Predicted Label: %i\" % prediction)"
   ]
  },
  {
   "cell_type": "code",
   "execution_count": 58,
   "metadata": {},
   "outputs": [],
   "source": [
    "from sklearn.linear_model import LogisticRegression"
   ]
  },
  {
   "cell_type": "code",
   "execution_count": 59,
   "metadata": {},
   "outputs": [],
   "source": [
    "model = LogisticRegression(penalty='l2', dual=False, tol=0.0001, C=1.0, fit_intercept=True, intercept_scaling=1, \n",
    "                           class_weight='balanced', random_state=None, solver='lbfgs', max_iter=100, \n",
    "                           multi_class='ovr', verbose=0, warm_start=False, n_jobs=None)"
   ]
  },
  {
   "cell_type": "code",
   "execution_count": 60,
   "metadata": {},
   "outputs": [
    {
     "data": {
      "text/plain": [
       "LogisticRegression(class_weight='balanced', multi_class='ovr')"
      ]
     },
     "execution_count": 60,
     "metadata": {},
     "output_type": "execute_result"
    }
   ],
   "source": [
    "model.fit(X=x_train, y=y_train)"
   ]
  },
  {
   "cell_type": "code",
   "execution_count": 61,
   "metadata": {},
   "outputs": [
    {
     "name": "stdout",
     "output_type": "stream",
     "text": [
      "Benign Test Score: 0.7350\n"
     ]
    }
   ],
   "source": [
    "score = model.score(x_test, y_test)\n",
    "print(\"Benign Test Score: %.4f\" % score)"
   ]
  },
  {
   "cell_type": "code",
   "execution_count": 62,
   "metadata": {},
   "outputs": [
    {
     "data": {
      "image/png": "[encoded data removed]",
      "text/plain": [
       "<Figure size 288x288 with 1 Axes>"
      ]
     },
     "metadata": {
      "needs_background": "light"
     },
     "output_type": "display_data"
    }
   ],
   "source": [
    "plt.matshow(x_test[0, :].reshape((28, 28)))\n",
    "plt.clim(0, 1)"
   ]
  },
  {
   "cell_type": "code",
   "execution_count": 63,
   "metadata": {},
   "outputs": [
    {
     "name": "stdout",
     "output_type": "stream",
     "text": [
      "Benign Test Predicted Label: 7\n"
     ]
    }
   ],
   "source": [
    "prediction = model.predict(x_test[0:1, :])[0]\n",
    "print(\"Benign Test Predicted Label: %i\" % prediction)"
   ]
  },
  {
   "cell_type": "code",
   "execution_count": 64,
   "metadata": {},
   "outputs": [],
   "source": [
    "art_classifier = SklearnClassifier(model=model)"
   ]
  },
  {
   "cell_type": "code",
   "execution_count": 65,
   "metadata": {},
   "outputs": [],
   "source": [
    "from art.attacks.evasion import ProjectedGradientDescent"
   ]
  },
  {
   "cell_type": "code",
   "execution_count": 66,
   "metadata": {},
   "outputs": [],
   "source": [
    "pgd = ProjectedGradientDescent(estimator=art_classifier, norm=np.inf, eps=.3, eps_step=0.1, max_iter=20, \n",
    "                               targeted=False, num_random_init=0, batch_size=128)"
   ]
  },
  {
   "cell_type": "code",
   "execution_count": 67,
   "metadata": {},
   "outputs": [
    {
     "name": "stderr",
     "output_type": "stream",
     "text": [
      "PGD - Random Initializations:   0%|          | 0/1 [00:00<?, ?it/s]\n",
      "PGD - Iterations:   0%|          | 0/20 [00:00<?, ?it/s]\u001b[A\n",
      "PGD - Random Initializations: 100%|██████████| 1/1 [00:00<00:00, 61.59it/s]\n"
     ]
    }
   ],
   "source": [
    "x_test_adv = pgd.generate(x_test[0:1, :])"
   ]
  },
  {
   "cell_type": "code",
   "execution_count": 69,
   "metadata": {},
   "outputs": [
    {
     "data": {
      "image/png": "[encoded data removed]",
      "text/plain": [
       "<Figure size 288x288 with 1 Axes>"
      ]
     },
     "metadata": {
      "needs_background": "light"
     },
     "output_type": "display_data"
    }
   ],
   "source": [
    "plt.matshow(x_test_adv.reshape((28, 28)))\n",
    "plt.clim(0, 1)"
   ]
  },
  {
   "cell_type": "code",
   "execution_count": 70,
   "metadata": {},
   "outputs": [
    {
     "name": "stdout",
     "output_type": "stream",
     "text": [
      "Adversarial Test Predicted Label: 2\n"
     ]
    }
   ],
   "source": [
    "prediction = model.predict(x_test_adv)[0]\n",
    "print(\"Adversarial Test Predicted Label: %i\" % prediction)"
   ]
  },
  {
   "cell_type": "code",
   "execution_count": 71,
   "metadata": {},
   "outputs": [],
   "source": [
    "from sklearn.ensemble import RandomForestClassifier"
   ]
  },
  {
   "cell_type": "code",
   "execution_count": 72,
   "metadata": {},
   "outputs": [],
   "source": [
    "model = RandomForestClassifier(n_estimators=10, criterion='gini', max_depth=None, min_samples_split=2, \n",
    "                               min_samples_leaf=1, min_weight_fraction_leaf=0.0, max_features='auto', \n",
    "                               max_leaf_nodes=None, min_impurity_decrease=0.0, min_impurity_split=None, \n",
    "                               bootstrap=True, oob_score=False, n_jobs=None, random_state=None, verbose=0, \n",
    "                               warm_start=False, class_weight=None)"
   ]
  },
  {
   "cell_type": "code",
   "execution_count": 73,
   "metadata": {},
   "outputs": [
    {
     "data": {
      "text/plain": [
       "RandomForestClassifier(n_estimators=10)"
      ]
     },
     "execution_count": 73,
     "metadata": {},
     "output_type": "execute_result"
    }
   ],
   "source": [
    "model.fit(X=x_train, y=y_train)"
   ]
  },
  {
   "cell_type": "code",
   "execution_count": 74,
   "metadata": {},
   "outputs": [
    {
     "name": "stdout",
     "output_type": "stream",
     "text": [
      "Benign Test Score: 0.6100\n"
     ]
    }
   ],
   "source": [
    "score = model.score(x_test, y_test)\n",
    "print(\"Benign Test Score: %.4f\" % score)"
   ]
  },
  {
   "cell_type": "code",
   "execution_count": 75,
   "metadata": {},
   "outputs": [
    {
     "data": {
      "image/png": "[encoded data removed]",
      "text/plain": [
       "<Figure size 288x288 with 1 Axes>"
      ]
     },
     "metadata": {
      "needs_background": "light"
     },
     "output_type": "display_data"
    }
   ],
   "source": [
    "plt.matshow(x_test[0, :].reshape((28, 28)))\n",
    "plt.clim(0, 1)"
   ]
  },
  {
   "cell_type": "code",
   "execution_count": 76,
   "metadata": {},
   "outputs": [
    {
     "name": "stdout",
     "output_type": "stream",
     "text": [
      "Benign Test Predicted Label: 7\n"
     ]
    }
   ],
   "source": [
    "prediction = model.predict(x_test[0:1, :])[0]\n",
    "print(\"Benign Test Predicted Label: %i\" % prediction)"
   ]
  },
  {
   "cell_type": "code",
   "execution_count": 77,
   "metadata": {},
   "outputs": [],
   "source": [
    "art_classifier = SklearnClassifier(model=model)\n",
    "zoo = ZooAttack(classifier=art_classifier, confidence=0.0, targeted=False, learning_rate=1e-1, max_iter=100,\n",
    "                binary_search_steps=20, initial_const=1e-3, abort_early=True, use_resize=False, \n",
    "                use_importance=False, nb_parallel=10, batch_size=1, variable_h=0.25)"
   ]
  },
  {
   "cell_type": "code",
   "execution_count": 78,
   "metadata": {},
   "outputs": [
    {
     "name": "stderr",
     "output_type": "stream",
     "text": [
      "ZOO: 100%|██████████| 200/200 [05:39<00:00,  1.70s/it]\n"
     ]
    }
   ],
   "source": [
    "x_test_adv = zoo.generate(x_test)"
   ]
  },
  {
   "cell_type": "code",
   "execution_count": 79,
   "metadata": {},
   "outputs": [
    {
     "name": "stdout",
     "output_type": "stream",
     "text": [
      "Adversarial Test Score: 0.2800\n"
     ]
    }
   ],
   "source": [
    "score = model.score(x_test_adv, y_test)\n",
    "print(\"Adversarial Test Score: %.4f\" % score)"
   ]
  },
  {
   "cell_type": "code",
   "execution_count": 80,
   "metadata": {},
   "outputs": [
    {
     "data": {
      "image/png": "[encoded data removed]",
      "text/plain": [
       "<Figure size 288x288 with 1 Axes>"
      ]
     },
     "metadata": {
      "needs_background": "light"
     },
     "output_type": "display_data"
    }
   ],
   "source": [
    "plt.matshow(x_test_adv[0, :].reshape((28, 28)))\n",
    "plt.clim(0, 1)"
   ]
  },
  {
   "cell_type": "code",
   "execution_count": 81,
   "metadata": {},
   "outputs": [
    {
     "name": "stdout",
     "output_type": "stream",
     "text": [
      "Adversarial Test Predicted Label: 4\n"
     ]
    }
   ],
   "source": [
    "prediction = model.predict(x_test_adv[0:1, :])[0]\n",
    "print(\"Adversarial Test Predicted Label: %i\" % prediction)"
   ]
  }
 ],
 "metadata": {
  "kernelspec": {
   "display_name": "exp2",
   "language": "python",
   "name": "exp2"
  },
  "language_info": {
   "codemirror_mode": {
    "name": "ipython",
    "version": 3
   },
   "file_extension": ".py",
   "mimetype": "text/x-python",
   "name": "python",
   "nbconvert_exporter": "python",
   "pygments_lexer": "ipython3",
   "version": "3.6.13"
  }
 },
 "nbformat": 4,
 "nbformat_minor": 2
}
