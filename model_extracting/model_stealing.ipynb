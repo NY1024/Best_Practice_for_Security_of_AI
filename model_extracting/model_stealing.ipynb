{
  "nbformat": 4,
  "nbformat_minor": 0,
  "metadata": {
    "colab": {
      "name": "Untitled39.ipynb",
      "provenance": []
    },
    "kernelspec": {
      "name": "python3",
      "display_name": "Python 3"
    },
    "language_info": {
      "name": "python"
    }
  },
  "cells": [
    {
      "cell_type": "code",
      "metadata": {
        "colab": {
          "base_uri": "https://localhost:8080/"
        },
        "id": "PCWb2I9FX3Tw",
        "outputId": "82ee4997-9f5b-4961-dbf6-21b2e222f85a"
      },
      "source": [
        "import tensorflow\n",
        "print(tensorflow.__version__)"
      ],
      "execution_count": 2,
      "outputs": [
        {
          "output_type": "stream",
          "text": [
            "1.15.2\n"
          ],
          "name": "stdout"
        }
      ]
    },
    {
      "cell_type": "code",
      "metadata": {
        "colab": {
          "base_uri": "https://localhost:8080/"
        },
        "id": "blJ_rWttX6FW",
        "outputId": "49e86b9e-330c-4321-d6bc-e19a27ddb315"
      },
      "source": [
        "%tensorflow_version 1.x"
      ],
      "execution_count": 1,
      "outputs": [
        {
          "output_type": "stream",
          "text": [
            "TensorFlow 1.x selected.\n"
          ],
          "name": "stdout"
        }
      ]
    },
    {
      "cell_type": "code",
      "metadata": {
        "colab": {
          "base_uri": "https://localhost:8080/"
        },
        "id": "flq9CJ75X_hA",
        "outputId": "969c1f1a-c8c3-4d84-be6f-bc6f127fa6a0"
      },
      "source": [
        "!pip install adversarial-robustness-toolbox"
      ],
      "execution_count": 3,
      "outputs": [
        {
          "output_type": "stream",
          "text": [
            "Collecting adversarial-robustness-toolbox\n",
            "\u001b[?25l  Downloading https://files.pythonhosted.org/packages/cc/eb/6c3bd5d5237d2c1ede42bdc8a0fa31eb3066440dc0623789e05b4597bfe3/adversarial_robustness_toolbox-1.7.0-py3-none-any.whl (1.1MB)\n",
            "\r\u001b[K     |▎                               | 10kB 17.5MB/s eta 0:00:01\r\u001b[K     |▋                               | 20kB 23.1MB/s eta 0:00:01\r\u001b[K     |█                               | 30kB 26.6MB/s eta 0:00:01\r\u001b[K     |█▎                              | 40kB 19.8MB/s eta 0:00:01\r\u001b[K     |█▋                              | 51kB 13.3MB/s eta 0:00:01\r\u001b[K     |█▉                              | 61kB 12.1MB/s eta 0:00:01\r\u001b[K     |██▏                             | 71kB 13.6MB/s eta 0:00:01\r\u001b[K     |██▌                             | 81kB 14.0MB/s eta 0:00:01\r\u001b[K     |██▉                             | 92kB 14.5MB/s eta 0:00:01\r\u001b[K     |███▏                            | 102kB 15.8MB/s eta 0:00:01\r\u001b[K     |███▍                            | 112kB 15.8MB/s eta 0:00:01\r\u001b[K     |███▊                            | 122kB 15.8MB/s eta 0:00:01\r\u001b[K     |████                            | 133kB 15.8MB/s eta 0:00:01\r\u001b[K     |████▍                           | 143kB 15.8MB/s eta 0:00:01\r\u001b[K     |████▊                           | 153kB 15.8MB/s eta 0:00:01\r\u001b[K     |█████                           | 163kB 15.8MB/s eta 0:00:01\r\u001b[K     |█████▎                          | 174kB 15.8MB/s eta 0:00:01\r\u001b[K     |█████▋                          | 184kB 15.8MB/s eta 0:00:01\r\u001b[K     |██████                          | 194kB 15.8MB/s eta 0:00:01\r\u001b[K     |██████▎                         | 204kB 15.8MB/s eta 0:00:01\r\u001b[K     |██████▌                         | 215kB 15.8MB/s eta 0:00:01\r\u001b[K     |██████▉                         | 225kB 15.8MB/s eta 0:00:01\r\u001b[K     |███████▏                        | 235kB 15.8MB/s eta 0:00:01\r\u001b[K     |███████▌                        | 245kB 15.8MB/s eta 0:00:01\r\u001b[K     |███████▉                        | 256kB 15.8MB/s eta 0:00:01\r\u001b[K     |████████                        | 266kB 15.8MB/s eta 0:00:01\r\u001b[K     |████████▍                       | 276kB 15.8MB/s eta 0:00:01\r\u001b[K     |████████▊                       | 286kB 15.8MB/s eta 0:00:01\r\u001b[K     |█████████                       | 296kB 15.8MB/s eta 0:00:01\r\u001b[K     |█████████▍                      | 307kB 15.8MB/s eta 0:00:01\r\u001b[K     |█████████▊                      | 317kB 15.8MB/s eta 0:00:01\r\u001b[K     |██████████                      | 327kB 15.8MB/s eta 0:00:01\r\u001b[K     |██████████▎                     | 337kB 15.8MB/s eta 0:00:01\r\u001b[K     |██████████▋                     | 348kB 15.8MB/s eta 0:00:01\r\u001b[K     |███████████                     | 358kB 15.8MB/s eta 0:00:01\r\u001b[K     |███████████▎                    | 368kB 15.8MB/s eta 0:00:01\r\u001b[K     |███████████▌                    | 378kB 15.8MB/s eta 0:00:01\r\u001b[K     |███████████▉                    | 389kB 15.8MB/s eta 0:00:01\r\u001b[K     |████████████▏                   | 399kB 15.8MB/s eta 0:00:01\r\u001b[K     |████████████▌                   | 409kB 15.8MB/s eta 0:00:01\r\u001b[K     |████████████▉                   | 419kB 15.8MB/s eta 0:00:01\r\u001b[K     |█████████████                   | 430kB 15.8MB/s eta 0:00:01\r\u001b[K     |█████████████▍                  | 440kB 15.8MB/s eta 0:00:01\r\u001b[K     |█████████████▊                  | 450kB 15.8MB/s eta 0:00:01\r\u001b[K     |██████████████                  | 460kB 15.8MB/s eta 0:00:01\r\u001b[K     |██████████████▍                 | 471kB 15.8MB/s eta 0:00:01\r\u001b[K     |██████████████▋                 | 481kB 15.8MB/s eta 0:00:01\r\u001b[K     |███████████████                 | 491kB 15.8MB/s eta 0:00:01\r\u001b[K     |███████████████▎                | 501kB 15.8MB/s eta 0:00:01\r\u001b[K     |███████████████▋                | 512kB 15.8MB/s eta 0:00:01\r\u001b[K     |████████████████                | 522kB 15.8MB/s eta 0:00:01\r\u001b[K     |████████████████▏               | 532kB 15.8MB/s eta 0:00:01\r\u001b[K     |████████████████▌               | 542kB 15.8MB/s eta 0:00:01\r\u001b[K     |████████████████▉               | 552kB 15.8MB/s eta 0:00:01\r\u001b[K     |█████████████████▏              | 563kB 15.8MB/s eta 0:00:01\r\u001b[K     |█████████████████▌              | 573kB 15.8MB/s eta 0:00:01\r\u001b[K     |█████████████████▉              | 583kB 15.8MB/s eta 0:00:01\r\u001b[K     |██████████████████              | 593kB 15.8MB/s eta 0:00:01\r\u001b[K     |██████████████████▍             | 604kB 15.8MB/s eta 0:00:01\r\u001b[K     |██████████████████▊             | 614kB 15.8MB/s eta 0:00:01\r\u001b[K     |███████████████████             | 624kB 15.8MB/s eta 0:00:01\r\u001b[K     |███████████████████▍            | 634kB 15.8MB/s eta 0:00:01\r\u001b[K     |███████████████████▋            | 645kB 15.8MB/s eta 0:00:01\r\u001b[K     |████████████████████            | 655kB 15.8MB/s eta 0:00:01\r\u001b[K     |████████████████████▎           | 665kB 15.8MB/s eta 0:00:01\r\u001b[K     |████████████████████▋           | 675kB 15.8MB/s eta 0:00:01\r\u001b[K     |█████████████████████           | 686kB 15.8MB/s eta 0:00:01\r\u001b[K     |█████████████████████▏          | 696kB 15.8MB/s eta 0:00:01\r\u001b[K     |█████████████████████▌          | 706kB 15.8MB/s eta 0:00:01\r\u001b[K     |█████████████████████▉          | 716kB 15.8MB/s eta 0:00:01\r\u001b[K     |██████████████████████▏         | 727kB 15.8MB/s eta 0:00:01\r\u001b[K     |██████████████████████▌         | 737kB 15.8MB/s eta 0:00:01\r\u001b[K     |██████████████████████▊         | 747kB 15.8MB/s eta 0:00:01\r\u001b[K     |███████████████████████         | 757kB 15.8MB/s eta 0:00:01\r\u001b[K     |███████████████████████▍        | 768kB 15.8MB/s eta 0:00:01\r\u001b[K     |███████████████████████▊        | 778kB 15.8MB/s eta 0:00:01\r\u001b[K     |████████████████████████        | 788kB 15.8MB/s eta 0:00:01\r\u001b[K     |████████████████████████▎       | 798kB 15.8MB/s eta 0:00:01\r\u001b[K     |████████████████████████▋       | 808kB 15.8MB/s eta 0:00:01\r\u001b[K     |█████████████████████████       | 819kB 15.8MB/s eta 0:00:01\r\u001b[K     |█████████████████████████▎      | 829kB 15.8MB/s eta 0:00:01\r\u001b[K     |█████████████████████████▋      | 839kB 15.8MB/s eta 0:00:01\r\u001b[K     |██████████████████████████      | 849kB 15.8MB/s eta 0:00:01\r\u001b[K     |██████████████████████████▏     | 860kB 15.8MB/s eta 0:00:01\r\u001b[K     |██████████████████████████▌     | 870kB 15.8MB/s eta 0:00:01\r\u001b[K     |██████████████████████████▉     | 880kB 15.8MB/s eta 0:00:01\r\u001b[K     |███████████████████████████▏    | 890kB 15.8MB/s eta 0:00:01\r\u001b[K     |███████████████████████████▌    | 901kB 15.8MB/s eta 0:00:01\r\u001b[K     |███████████████████████████▊    | 911kB 15.8MB/s eta 0:00:01\r\u001b[K     |████████████████████████████    | 921kB 15.8MB/s eta 0:00:01\r\u001b[K     |████████████████████████████▍   | 931kB 15.8MB/s eta 0:00:01\r\u001b[K     |████████████████████████████▊   | 942kB 15.8MB/s eta 0:00:01\r\u001b[K     |█████████████████████████████   | 952kB 15.8MB/s eta 0:00:01\r\u001b[K     |█████████████████████████████▎  | 962kB 15.8MB/s eta 0:00:01\r\u001b[K     |█████████████████████████████▋  | 972kB 15.8MB/s eta 0:00:01\r\u001b[K     |██████████████████████████████  | 983kB 15.8MB/s eta 0:00:01\r\u001b[K     |██████████████████████████████▎ | 993kB 15.8MB/s eta 0:00:01\r\u001b[K     |██████████████████████████████▋ | 1.0MB 15.8MB/s eta 0:00:01\r\u001b[K     |██████████████████████████████▉ | 1.0MB 15.8MB/s eta 0:00:01\r\u001b[K     |███████████████████████████████▏| 1.0MB 15.8MB/s eta 0:00:01\r\u001b[K     |███████████████████████████████▌| 1.0MB 15.8MB/s eta 0:00:01\r\u001b[K     |███████████████████████████████▉| 1.0MB 15.8MB/s eta 0:00:01\r\u001b[K     |████████████████████████████████| 1.1MB 15.8MB/s \n",
            "\u001b[?25hRequirement already satisfied: scikit-learn<0.24.3,>=0.22.2 in /usr/local/lib/python3.7/dist-packages (from adversarial-robustness-toolbox) (0.22.2.post1)\n",
            "Requirement already satisfied: setuptools in /usr/local/lib/python3.7/dist-packages (from adversarial-robustness-toolbox) (57.0.0)\n",
            "Requirement already satisfied: scipy>=1.4.1 in /usr/local/lib/python3.7/dist-packages (from adversarial-robustness-toolbox) (1.4.1)\n",
            "Requirement already satisfied: tqdm in /usr/local/lib/python3.7/dist-packages (from adversarial-robustness-toolbox) (4.41.1)\n",
            "Collecting numba~=0.53.1\n",
            "\u001b[?25l  Downloading https://files.pythonhosted.org/packages/bb/73/d9c127eddbe3c105a33379d425b88f9dca249a6eddf39ce886494d49c3f9/numba-0.53.1-cp37-cp37m-manylinux2014_x86_64.whl (3.4MB)\n",
            "\u001b[K     |████████████████████████████████| 3.4MB 51.0MB/s \n",
            "\u001b[?25hRequirement already satisfied: six in /usr/local/lib/python3.7/dist-packages (from adversarial-robustness-toolbox) (1.15.0)\n",
            "Requirement already satisfied: numpy>=1.18.0 in /usr/local/lib/python3.7/dist-packages (from adversarial-robustness-toolbox) (1.19.5)\n",
            "Requirement already satisfied: joblib>=0.11 in /usr/local/lib/python3.7/dist-packages (from scikit-learn<0.24.3,>=0.22.2->adversarial-robustness-toolbox) (1.0.1)\n",
            "Collecting llvmlite<0.37,>=0.36.0rc1\n",
            "\u001b[?25l  Downloading https://files.pythonhosted.org/packages/54/25/2b4015e2b0c3be2efa6870cf2cf2bd969dd0e5f937476fc13c102209df32/llvmlite-0.36.0-cp37-cp37m-manylinux2010_x86_64.whl (25.3MB)\n",
            "\u001b[K     |████████████████████████████████| 25.3MB 123kB/s \n",
            "\u001b[31mERROR: kapre 0.3.5 has requirement tensorflow>=2.0.0, but you'll have tensorflow 1.15.2 which is incompatible.\u001b[0m\n",
            "\u001b[?25hInstalling collected packages: llvmlite, numba, adversarial-robustness-toolbox\n",
            "  Found existing installation: llvmlite 0.34.0\n",
            "    Uninstalling llvmlite-0.34.0:\n",
            "      Successfully uninstalled llvmlite-0.34.0\n",
            "  Found existing installation: numba 0.51.2\n",
            "    Uninstalling numba-0.51.2:\n",
            "      Successfully uninstalled numba-0.51.2\n",
            "Successfully installed adversarial-robustness-toolbox-1.7.0 llvmlite-0.36.0 numba-0.53.1\n"
          ],
          "name": "stdout"
        }
      ]
    },
    {
      "cell_type": "code",
      "metadata": {
        "id": "tHKqnUGKYFRJ"
      },
      "source": [
        "import art"
      ],
      "execution_count": 4,
      "outputs": []
    },
    {
      "cell_type": "code",
      "metadata": {
        "colab": {
          "base_uri": "https://localhost:8080/"
        },
        "id": "N7QdNhvFYR2H",
        "outputId": "4363cfb8-3307-4f21-f0c9-c5eff2c98be1"
      },
      "source": [
        "import numpy as np\n",
        "import matplotlib.pyplot as plt\n",
        "%matplotlib inline\n",
        "\n",
        "\n",
        "import tensorflow as tf\n",
        "import keras\n",
        "from keras.models import Sequential\n",
        "from keras.layers import Dense, Flatten, Conv2D, MaxPooling2D, Flatten, InputLayer, Reshape\n",
        "\n",
        "from art.classifiers import KerasClassifier\n",
        "\n",
        "if tf.executing_eagerly():\n",
        "    tf.python.framework.ops.disable_eager_execution()"
      ],
      "execution_count": 5,
      "outputs": [
        {
          "output_type": "stream",
          "text": [
            "Using TensorFlow backend.\n",
            "/usr/local/lib/python3.7/dist-packages/ipykernel_launcher.py:11: DeprecationWarning: The module art.classifiers will be removed in ART 1.8.0 and replaced with art.estimators.classification\n",
            "  # This is added back by InteractiveShellApp.init_path()\n"
          ],
          "name": "stderr"
        }
      ]
    },
    {
      "cell_type": "code",
      "metadata": {
        "id": "a6qjwmnHYUDm"
      },
      "source": [
        "import art\n",
        "from art.utils import load_mnist\n",
        "\n",
        "# Load the dataset, and split the test data into test and steal datasets.\n",
        "(x_train, y_train), (x_test0, y_test0), _, _ = load_mnist()\n",
        "len_steal = 5000\n",
        "indices = np.random.permutation(len(x_test0))\n",
        "x_steal = x_test0[indices[:len_steal]]\n",
        "y_steal = y_test0[indices[:len_steal]]\n",
        "x_test = x_test0[indices[len_steal:]]\n",
        "y_test = y_test0[indices[len_steal:]]\n",
        "\n",
        "im_shape = x_train[0].shape\n",
        "def get_model(num_classes=10, c1=32, c2=64, d1=128):\n",
        "    model = Sequential()\n",
        "    model.add(Conv2D(c1, kernel_size=(3, 3), activation='relu', input_shape=im_shape))\n",
        "    model.add(Conv2D(c2, (3, 3), activation='relu'))\n",
        "    model.add(MaxPooling2D(pool_size=(2, 2)))\n",
        "    model.add(Flatten())\n",
        "    model.add(Dense(d1, activation='relu'))\n",
        "    model.add(Dense(num_classes, activation='softmax'))\n",
        "    model.compile(loss=keras.losses.categorical_crossentropy, optimizer=\"sgd\",\n",
        "                          metrics=['accuracy'])\n",
        "    return model"
      ],
      "execution_count": 6,
      "outputs": []
    },
    {
      "cell_type": "code",
      "metadata": {
        "colab": {
          "base_uri": "https://localhost:8080/"
        },
        "id": "8WHkssG8YYbR",
        "outputId": "cc2ac3b6-9da0-4ee2-bf3d-6343614aeda9"
      },
      "source": [
        "# Train the original model.\n",
        "num_epochs = 5\n",
        "model = get_model(num_classes=10, c1=32, c2=64, d1=128)\n",
        "print(\"Original model training:\")\n",
        "model.fit(x_train, y_train, batch_size=100, epochs=num_epochs)\n",
        "print(\"Original model evaluation:\")\n",
        "print(model.evaluate(x_test, y_test))\n",
        "classifier_original = KerasClassifier(model, clip_values=(0, 1), use_logits=False)"
      ],
      "execution_count": 7,
      "outputs": [
        {
          "output_type": "stream",
          "text": [
            "WARNING:tensorflow:From /tensorflow-1.15.2/python3.7/tensorflow_core/python/ops/resource_variable_ops.py:1630: calling BaseResourceVariable.__init__ (from tensorflow.python.ops.resource_variable_ops) with constraint is deprecated and will be removed in a future version.\n",
            "Instructions for updating:\n",
            "If using Keras pass *_constraint arguments to layers.\n",
            "WARNING:tensorflow:From /tensorflow-1.15.2/python3.7/keras/backend/tensorflow_backend.py:4070: The name tf.nn.max_pool is deprecated. Please use tf.nn.max_pool2d instead.\n",
            "\n"
          ],
          "name": "stdout"
        },
        {
          "output_type": "stream",
          "text": [
            "/tensorflow-1.15.2/python3.7/tensorflow_core/python/framework/tensor_util.py:521: DeprecationWarning: tostring() is deprecated. Use tobytes() instead.\n",
            "  tensor_proto.tensor_content = nparray.tostring()\n",
            "/tensorflow-1.15.2/python3.7/keras/engine/training_utils.py:811: DeprecationWarning: Using or importing the ABCs from 'collections' instead of from 'collections.abc' is deprecated since Python 3.3,and in 3.9 it will stop working\n",
            "  if isinstance(loss, collections.Mapping):\n",
            "/tensorflow-1.15.2/python3.7/keras/engine/training_utils.py:823: DeprecationWarning: Using or importing the ABCs from 'collections' instead of from 'collections.abc' is deprecated since Python 3.3,and in 3.9 it will stop working\n",
            "  elif isinstance(loss, collections.Sequence):\n",
            "/tensorflow-1.15.2/python3.7/tensorflow_core/python/framework/tensor_util.py:521: DeprecationWarning: tostring() is deprecated. Use tobytes() instead.\n",
            "  tensor_proto.tensor_content = nparray.tostring()\n"
          ],
          "name": "stderr"
        },
        {
          "output_type": "stream",
          "text": [
            "Original model training:\n",
            "WARNING:tensorflow:From /tensorflow-1.15.2/python3.7/keras/backend/tensorflow_backend.py:422: The name tf.global_variables is deprecated. Please use tf.compat.v1.global_variables instead.\n",
            "\n",
            "Epoch 1/5\n",
            "60000/60000 [==============================] - 104s 2ms/step - loss: 0.6920 - accuracy: 0.8150\n",
            "Epoch 2/5\n",
            "60000/60000 [==============================] - 103s 2ms/step - loss: 0.2369 - accuracy: 0.9293\n",
            "Epoch 3/5\n",
            "60000/60000 [==============================] - 103s 2ms/step - loss: 0.1790 - accuracy: 0.9466\n",
            "Epoch 4/5\n",
            "60000/60000 [==============================] - 103s 2ms/step - loss: 0.1450 - accuracy: 0.9563\n",
            "Epoch 5/5\n",
            "60000/60000 [==============================] - 103s 2ms/step - loss: 0.1247 - accuracy: 0.9626\n",
            "Original model evaluation:\n",
            "5000/5000 [==============================] - 2s 496us/step\n",
            "[0.1294230823457241, 0.9598000049591064]\n"
          ],
          "name": "stdout"
        }
      ]
    },
    {
      "cell_type": "code",
      "metadata": {
        "colab": {
          "base_uri": "https://localhost:8080/"
        },
        "id": "LbEAR8goaQ4R",
        "outputId": "6a5022d4-0461-4ab4-b4ab-6ae7f538cfd0"
      },
      "source": [
        "# Stealing from the unprotected classifier.\n",
        "from art.attacks import ExtractionAttack\n",
        "from art.attacks.extraction import CopycatCNN, KnockoffNets\n",
        "\n",
        "attack_catalogue = {\"Probabilistic CopycatCNN\": CopycatCNN(classifier=classifier_original,\n",
        "                                              batch_size_fit=64,\n",
        "                                              batch_size_query=64,\n",
        "                                              nb_epochs=num_epochs,\n",
        "                                              nb_stolen=len_steal,\n",
        "                                              use_probability=True),\n",
        "                    \"Argmax CopycatCNN\": CopycatCNN(classifier=classifier_original,\n",
        "                                              batch_size_fit=64,\n",
        "                                              batch_size_query=64,\n",
        "                                              nb_epochs=num_epochs,\n",
        "                                              nb_stolen=len_steal,\n",
        "                                              use_probability=False),\n",
        "                    \"Probabilistic KnockoffNets\": KnockoffNets(classifier=classifier_original,\n",
        "                                              batch_size_fit=64,\n",
        "                                              batch_size_query=64,\n",
        "                                              nb_epochs=num_epochs,\n",
        "                                              nb_stolen=len_steal,\n",
        "                                              use_probability=True),\n",
        "                    \"Argmax KnockoffNets\": KnockoffNets(classifier=classifier_original,\n",
        "                                              batch_size_fit=64,\n",
        "                                              batch_size_query=64,\n",
        "                                              nb_epochs=num_epochs,\n",
        "                                              nb_stolen=len_steal,\n",
        "                                              use_probability=False),\n",
        "                   }\n",
        "\n",
        "results = []\n",
        "for len_steal in [250, 500, 1000, 2000, 4000, 5000]:\n",
        "    indices = np.random.permutation(len(x_test0))\n",
        "    x_steal = x_test0[indices[:len_steal]]\n",
        "    y_steal = y_test0[indices[:len_steal]]\n",
        "    x_test = x_test0[indices[len_steal:]]\n",
        "    y_test = y_test0[indices[len_steal:]]\n",
        "\n",
        "    for name, attack in attack_catalogue.items():\n",
        "        model_stolen = get_model(num_classes=10, c1=32, c2=64, d1=128)\n",
        "        classifier_stolen = KerasClassifier(model_stolen, clip_values=(0, 1), use_logits=False)\n",
        "        classifier_stolen = attack.extract(x_steal, y_steal, thieved_classifier=classifier_stolen)\n",
        "        acc = classifier_stolen._model.evaluate(x_test, y_test)[1]\n",
        "        print(name, \":\", acc)\n",
        "        results.append((name, len_steal, acc))"
      ],
      "execution_count": 8,
      "outputs": [
        {
          "output_type": "stream",
          "text": [
            "/tensorflow-1.15.2/python3.7/tensorflow_core/python/framework/tensor_util.py:521: DeprecationWarning: tostring() is deprecated. Use tobytes() instead.\n",
            "  tensor_proto.tensor_content = nparray.tostring()\n",
            "/tensorflow-1.15.2/python3.7/tensorflow_core/python/framework/tensor_util.py:521: DeprecationWarning: tostring() is deprecated. Use tobytes() instead.\n",
            "  tensor_proto.tensor_content = nparray.tostring()\n"
          ],
          "name": "stderr"
        },
        {
          "output_type": "stream",
          "text": [
            "Epoch 1/5\n",
            "3/3 [==============================] - 0s 131ms/step - loss: 2.2901 - accuracy: 0.1510\n",
            "Epoch 2/5\n",
            "3/3 [==============================] - 0s 109ms/step - loss: 2.2753 - accuracy: 0.2500\n",
            "Epoch 3/5\n",
            "3/3 [==============================] - 0s 112ms/step - loss: 2.2567 - accuracy: 0.3385\n",
            "Epoch 4/5\n",
            "3/3 [==============================] - 0s 116ms/step - loss: 2.2456 - accuracy: 0.3281\n",
            "Epoch 5/5\n",
            "3/3 [==============================] - 0s 111ms/step - loss: 2.2179 - accuracy: 0.4271\n",
            "9750/9750 [==============================] - 5s 491us/step\n",
            "Probabilistic CopycatCNN : 0.3713846206665039\n"
          ],
          "name": "stdout"
        },
        {
          "output_type": "stream",
          "text": [
            "/tensorflow-1.15.2/python3.7/tensorflow_core/python/framework/tensor_util.py:521: DeprecationWarning: tostring() is deprecated. Use tobytes() instead.\n",
            "  tensor_proto.tensor_content = nparray.tostring()\n"
          ],
          "name": "stderr"
        },
        {
          "output_type": "stream",
          "text": [
            "Epoch 1/5\n",
            "3/3 [==============================] - 0s 132ms/step - loss: 2.3103 - accuracy: 0.1458\n",
            "Epoch 2/5\n",
            "3/3 [==============================] - 0s 114ms/step - loss: 2.3052 - accuracy: 0.1354\n",
            "Epoch 3/5\n",
            "3/3 [==============================] - 0s 109ms/step - loss: 2.2712 - accuracy: 0.2240\n",
            "Epoch 4/5\n",
            "3/3 [==============================] - 0s 115ms/step - loss: 2.2496 - accuracy: 0.2604\n",
            "Epoch 5/5\n",
            "3/3 [==============================] - 0s 109ms/step - loss: 2.2341 - accuracy: 0.2760\n",
            "9750/9750 [==============================] - 5s 488us/step\n",
            "Argmax CopycatCNN : 0.26923078298568726\n"
          ],
          "name": "stdout"
        },
        {
          "output_type": "stream",
          "text": [
            "/tensorflow-1.15.2/python3.7/tensorflow_core/python/framework/tensor_util.py:521: DeprecationWarning: tostring() is deprecated. Use tobytes() instead.\n",
            "  tensor_proto.tensor_content = nparray.tostring()\n"
          ],
          "name": "stderr"
        },
        {
          "output_type": "stream",
          "text": [
            "9750/9750 [==============================] - 5s 491us/step\n",
            "Probabilistic KnockoffNets : 0.3036923110485077\n"
          ],
          "name": "stdout"
        },
        {
          "output_type": "stream",
          "text": [
            "/tensorflow-1.15.2/python3.7/tensorflow_core/python/framework/tensor_util.py:521: DeprecationWarning: tostring() is deprecated. Use tobytes() instead.\n",
            "  tensor_proto.tensor_content = nparray.tostring()\n"
          ],
          "name": "stderr"
        },
        {
          "output_type": "stream",
          "text": [
            "9750/9750 [==============================] - 5s 494us/step\n",
            "Argmax KnockoffNets : 0.2924102544784546\n"
          ],
          "name": "stdout"
        },
        {
          "output_type": "stream",
          "text": [
            "/tensorflow-1.15.2/python3.7/tensorflow_core/python/framework/tensor_util.py:521: DeprecationWarning: tostring() is deprecated. Use tobytes() instead.\n",
            "  tensor_proto.tensor_content = nparray.tostring()\n"
          ],
          "name": "stderr"
        },
        {
          "output_type": "stream",
          "text": [
            "Epoch 1/5\n",
            "7/7 [==============================] - 1s 133ms/step - loss: 2.2993 - accuracy: 0.1406\n",
            "Epoch 2/5\n",
            "7/7 [==============================] - 1s 116ms/step - loss: 2.2716 - accuracy: 0.3058\n",
            "Epoch 3/5\n",
            "7/7 [==============================] - 1s 115ms/step - loss: 2.2467 - accuracy: 0.3594\n",
            "Epoch 4/5\n",
            "7/7 [==============================] - 1s 114ms/step - loss: 2.2132 - accuracy: 0.3973\n",
            "Epoch 5/5\n",
            "7/7 [==============================] - 1s 114ms/step - loss: 2.1863 - accuracy: 0.4576\n",
            "9500/9500 [==============================] - 5s 497us/step\n",
            "Probabilistic CopycatCNN : 0.3573684096336365\n"
          ],
          "name": "stdout"
        },
        {
          "output_type": "stream",
          "text": [
            "/tensorflow-1.15.2/python3.7/tensorflow_core/python/framework/tensor_util.py:521: DeprecationWarning: tostring() is deprecated. Use tobytes() instead.\n",
            "  tensor_proto.tensor_content = nparray.tostring()\n"
          ],
          "name": "stderr"
        },
        {
          "output_type": "stream",
          "text": [
            "Epoch 1/5\n",
            "7/7 [==============================] - 1s 129ms/step - loss: 2.2946 - accuracy: 0.0759\n",
            "Epoch 2/5\n",
            "7/7 [==============================] - 1s 115ms/step - loss: 2.2885 - accuracy: 0.1161\n",
            "Epoch 3/5\n",
            "7/7 [==============================] - 1s 118ms/step - loss: 2.2743 - accuracy: 0.1964\n",
            "Epoch 4/5\n",
            "7/7 [==============================] - 1s 118ms/step - loss: 2.2629 - accuracy: 0.2612\n",
            "Epoch 5/5\n",
            "7/7 [==============================] - 1s 115ms/step - loss: 2.2513 - accuracy: 0.2790\n",
            "9500/9500 [==============================] - 5s 496us/step\n",
            "Argmax CopycatCNN : 0.30505263805389404\n"
          ],
          "name": "stdout"
        },
        {
          "output_type": "stream",
          "text": [
            "/tensorflow-1.15.2/python3.7/tensorflow_core/python/framework/tensor_util.py:521: DeprecationWarning: tostring() is deprecated. Use tobytes() instead.\n",
            "  tensor_proto.tensor_content = nparray.tostring()\n"
          ],
          "name": "stderr"
        },
        {
          "output_type": "stream",
          "text": [
            "9500/9500 [==============================] - 5s 509us/step\n",
            "Probabilistic KnockoffNets : 0.3692631721496582\n"
          ],
          "name": "stdout"
        },
        {
          "output_type": "stream",
          "text": [
            "/tensorflow-1.15.2/python3.7/tensorflow_core/python/framework/tensor_util.py:521: DeprecationWarning: tostring() is deprecated. Use tobytes() instead.\n",
            "  tensor_proto.tensor_content = nparray.tostring()\n"
          ],
          "name": "stderr"
        },
        {
          "output_type": "stream",
          "text": [
            "9500/9500 [==============================] - 5s 507us/step\n",
            "Argmax KnockoffNets : 0.3014736771583557\n"
          ],
          "name": "stdout"
        },
        {
          "output_type": "stream",
          "text": [
            "/tensorflow-1.15.2/python3.7/tensorflow_core/python/framework/tensor_util.py:521: DeprecationWarning: tostring() is deprecated. Use tobytes() instead.\n",
            "  tensor_proto.tensor_content = nparray.tostring()\n"
          ],
          "name": "stderr"
        },
        {
          "output_type": "stream",
          "text": [
            "Epoch 1/5\n",
            "15/15 [==============================] - 2s 125ms/step - loss: 2.2840 - accuracy: 0.1969\n",
            "Epoch 2/5\n",
            "15/15 [==============================] - 2s 116ms/step - loss: 2.2461 - accuracy: 0.3406\n",
            "Epoch 3/5\n",
            "15/15 [==============================] - 2s 113ms/step - loss: 2.2032 - accuracy: 0.4469\n",
            "Epoch 4/5\n",
            "15/15 [==============================] - 2s 114ms/step - loss: 2.1255 - accuracy: 0.5667\n",
            "Epoch 5/5\n",
            "15/15 [==============================] - 2s 115ms/step - loss: 1.9722 - accuracy: 0.6250\n",
            "9000/9000 [==============================] - 5s 519us/step\n",
            "Probabilistic CopycatCNN : 0.5964444279670715\n"
          ],
          "name": "stdout"
        },
        {
          "output_type": "stream",
          "text": [
            "/tensorflow-1.15.2/python3.7/tensorflow_core/python/framework/tensor_util.py:521: DeprecationWarning: tostring() is deprecated. Use tobytes() instead.\n",
            "  tensor_proto.tensor_content = nparray.tostring()\n"
          ],
          "name": "stderr"
        },
        {
          "output_type": "stream",
          "text": [
            "Epoch 1/5\n",
            "15/15 [==============================] - 2s 125ms/step - loss: 2.2818 - accuracy: 0.1344\n",
            "Epoch 2/5\n",
            "15/15 [==============================] - 2s 116ms/step - loss: 2.2212 - accuracy: 0.2708\n",
            "Epoch 3/5\n",
            "15/15 [==============================] - 2s 115ms/step - loss: 2.1381 - accuracy: 0.3646\n",
            "Epoch 4/5\n",
            "15/15 [==============================] - 2s 115ms/step - loss: 1.9966 - accuracy: 0.5250\n",
            "Epoch 5/5\n",
            "15/15 [==============================] - 2s 117ms/step - loss: 1.7398 - accuracy: 0.6521\n",
            "9000/9000 [==============================] - 5s 516us/step\n",
            "Argmax CopycatCNN : 0.7044444680213928\n"
          ],
          "name": "stdout"
        },
        {
          "output_type": "stream",
          "text": [
            "/tensorflow-1.15.2/python3.7/tensorflow_core/python/framework/tensor_util.py:521: DeprecationWarning: tostring() is deprecated. Use tobytes() instead.\n",
            "  tensor_proto.tensor_content = nparray.tostring()\n"
          ],
          "name": "stderr"
        },
        {
          "output_type": "stream",
          "text": [
            "9000/9000 [==============================] - 5s 512us/step\n",
            "Probabilistic KnockoffNets : 0.7868888974189758\n"
          ],
          "name": "stdout"
        },
        {
          "output_type": "stream",
          "text": [
            "/tensorflow-1.15.2/python3.7/tensorflow_core/python/framework/tensor_util.py:521: DeprecationWarning: tostring() is deprecated. Use tobytes() instead.\n",
            "  tensor_proto.tensor_content = nparray.tostring()\n"
          ],
          "name": "stderr"
        },
        {
          "output_type": "stream",
          "text": [
            "9000/9000 [==============================] - 5s 514us/step\n",
            "Argmax KnockoffNets : 0.6166666746139526\n"
          ],
          "name": "stdout"
        },
        {
          "output_type": "stream",
          "text": [
            "/tensorflow-1.15.2/python3.7/tensorflow_core/python/framework/tensor_util.py:521: DeprecationWarning: tostring() is deprecated. Use tobytes() instead.\n",
            "  tensor_proto.tensor_content = nparray.tostring()\n"
          ],
          "name": "stderr"
        },
        {
          "output_type": "stream",
          "text": [
            "Epoch 1/5\n",
            "31/31 [==============================] - 4s 121ms/step - loss: 2.2522 - accuracy: 0.3059\n",
            "Epoch 2/5\n",
            "31/31 [==============================] - 4s 114ms/step - loss: 2.0838 - accuracy: 0.5590\n",
            "Epoch 3/5\n",
            "31/31 [==============================] - 4s 115ms/step - loss: 1.5247 - accuracy: 0.7208\n",
            "Epoch 4/5\n",
            "31/31 [==============================] - 4s 115ms/step - loss: 0.8220 - accuracy: 0.8165\n",
            "Epoch 5/5\n",
            "31/31 [==============================] - 4s 114ms/step - loss: 0.5566 - accuracy: 0.8589\n",
            "8000/8000 [==============================] - 4s 521us/step\n",
            "Probabilistic CopycatCNN : 0.8376250267028809\n"
          ],
          "name": "stdout"
        },
        {
          "output_type": "stream",
          "text": [
            "/tensorflow-1.15.2/python3.7/tensorflow_core/python/framework/tensor_util.py:521: DeprecationWarning: tostring() is deprecated. Use tobytes() instead.\n",
            "  tensor_proto.tensor_content = nparray.tostring()\n"
          ],
          "name": "stderr"
        },
        {
          "output_type": "stream",
          "text": [
            "Epoch 1/5\n",
            "31/31 [==============================] - 4s 119ms/step - loss: 2.2477 - accuracy: 0.1860\n",
            "Epoch 2/5\n",
            "31/31 [==============================] - 4s 115ms/step - loss: 2.0965 - accuracy: 0.5227\n",
            "Epoch 3/5\n",
            "31/31 [==============================] - 4s 115ms/step - loss: 1.6505 - accuracy: 0.6608\n",
            "Epoch 4/5\n",
            "31/31 [==============================] - 4s 117ms/step - loss: 0.9424 - accuracy: 0.7767\n",
            "Epoch 5/5\n",
            "31/31 [==============================] - 4s 116ms/step - loss: 0.5519 - accuracy: 0.8548\n",
            "8000/8000 [==============================] - 4s 528us/step\n",
            "Argmax CopycatCNN : 0.7897499799728394\n"
          ],
          "name": "stdout"
        },
        {
          "output_type": "stream",
          "text": [
            "/tensorflow-1.15.2/python3.7/tensorflow_core/python/framework/tensor_util.py:521: DeprecationWarning: tostring() is deprecated. Use tobytes() instead.\n",
            "  tensor_proto.tensor_content = nparray.tostring()\n"
          ],
          "name": "stderr"
        },
        {
          "output_type": "stream",
          "text": [
            "8000/8000 [==============================] - 4s 528us/step\n",
            "Probabilistic KnockoffNets : 0.8318750262260437\n"
          ],
          "name": "stdout"
        },
        {
          "output_type": "stream",
          "text": [
            "/tensorflow-1.15.2/python3.7/tensorflow_core/python/framework/tensor_util.py:521: DeprecationWarning: tostring() is deprecated. Use tobytes() instead.\n",
            "  tensor_proto.tensor_content = nparray.tostring()\n"
          ],
          "name": "stderr"
        },
        {
          "output_type": "stream",
          "text": [
            "8000/8000 [==============================] - 4s 535us/step\n",
            "Argmax KnockoffNets : 0.8631250262260437\n"
          ],
          "name": "stdout"
        },
        {
          "output_type": "stream",
          "text": [
            "/tensorflow-1.15.2/python3.7/tensorflow_core/python/framework/tensor_util.py:521: DeprecationWarning: tostring() is deprecated. Use tobytes() instead.\n",
            "  tensor_proto.tensor_content = nparray.tostring()\n"
          ],
          "name": "stderr"
        },
        {
          "output_type": "stream",
          "text": [
            "Epoch 1/5\n",
            "62/62 [==============================] - 7s 118ms/step - loss: 2.1605 - accuracy: 0.3954\n",
            "Epoch 2/5\n",
            "62/62 [==============================] - 7s 115ms/step - loss: 1.1403 - accuracy: 0.7639\n",
            "Epoch 3/5\n",
            "62/62 [==============================] - 7s 114ms/step - loss: 0.4816 - accuracy: 0.8785\n",
            "Epoch 4/5\n",
            "62/62 [==============================] - 7s 112ms/step - loss: 0.3994 - accuracy: 0.8866\n",
            "Epoch 5/5\n",
            "62/62 [==============================] - 7s 113ms/step - loss: 0.3383 - accuracy: 0.9133\n",
            "6000/6000 [==============================] - 3s 524us/step\n",
            "Probabilistic CopycatCNN : 0.8921666741371155\n"
          ],
          "name": "stdout"
        },
        {
          "output_type": "stream",
          "text": [
            "/tensorflow-1.15.2/python3.7/tensorflow_core/python/framework/tensor_util.py:521: DeprecationWarning: tostring() is deprecated. Use tobytes() instead.\n",
            "  tensor_proto.tensor_content = nparray.tostring()\n"
          ],
          "name": "stderr"
        },
        {
          "output_type": "stream",
          "text": [
            "Epoch 1/5\n",
            "62/62 [==============================] - 7s 116ms/step - loss: 2.2489 - accuracy: 0.3125\n",
            "Epoch 2/5\n",
            "62/62 [==============================] - 7s 115ms/step - loss: 1.7586 - accuracy: 0.6918\n",
            "Epoch 3/5\n",
            "62/62 [==============================] - 7s 114ms/step - loss: 0.6238 - accuracy: 0.8443\n",
            "Epoch 4/5\n",
            "62/62 [==============================] - 7s 114ms/step - loss: 0.3699 - accuracy: 0.8853\n",
            "Epoch 5/5\n",
            "62/62 [==============================] - 7s 114ms/step - loss: 0.3048 - accuracy: 0.9073\n",
            "6000/6000 [==============================] - 3s 545us/step\n",
            "Argmax CopycatCNN : 0.8924999833106995\n"
          ],
          "name": "stdout"
        },
        {
          "output_type": "stream",
          "text": [
            "/tensorflow-1.15.2/python3.7/tensorflow_core/python/framework/tensor_util.py:521: DeprecationWarning: tostring() is deprecated. Use tobytes() instead.\n",
            "  tensor_proto.tensor_content = nparray.tostring()\n"
          ],
          "name": "stderr"
        },
        {
          "output_type": "stream",
          "text": [
            "6000/6000 [==============================] - 3s 547us/step\n",
            "Probabilistic KnockoffNets : 0.8981666564941406\n"
          ],
          "name": "stdout"
        },
        {
          "output_type": "stream",
          "text": [
            "/tensorflow-1.15.2/python3.7/tensorflow_core/python/framework/tensor_util.py:521: DeprecationWarning: tostring() is deprecated. Use tobytes() instead.\n",
            "  tensor_proto.tensor_content = nparray.tostring()\n"
          ],
          "name": "stderr"
        },
        {
          "output_type": "stream",
          "text": [
            "6000/6000 [==============================] - 3s 551us/step\n",
            "Argmax KnockoffNets : 0.8794999718666077\n"
          ],
          "name": "stdout"
        },
        {
          "output_type": "stream",
          "text": [
            "/tensorflow-1.15.2/python3.7/tensorflow_core/python/framework/tensor_util.py:521: DeprecationWarning: tostring() is deprecated. Use tobytes() instead.\n",
            "  tensor_proto.tensor_content = nparray.tostring()\n"
          ],
          "name": "stderr"
        },
        {
          "output_type": "stream",
          "text": [
            "Epoch 1/5\n",
            "78/78 [==============================] - 9s 116ms/step - loss: 2.0237 - accuracy: 0.5270\n",
            "Epoch 2/5\n",
            "78/78 [==============================] - 9s 114ms/step - loss: 0.7101 - accuracy: 0.8339\n",
            "Epoch 3/5\n",
            "78/78 [==============================] - 9s 113ms/step - loss: 0.4002 - accuracy: 0.8910\n",
            "Epoch 4/5\n",
            "78/78 [==============================] - 9s 113ms/step - loss: 0.3392 - accuracy: 0.9149\n",
            "Epoch 5/5\n",
            "78/78 [==============================] - 9s 113ms/step - loss: 0.3204 - accuracy: 0.9175\n",
            "5000/5000 [==============================] - 3s 545us/step\n",
            "Probabilistic CopycatCNN : 0.9002000093460083\n"
          ],
          "name": "stdout"
        },
        {
          "output_type": "stream",
          "text": [
            "/tensorflow-1.15.2/python3.7/tensorflow_core/python/framework/tensor_util.py:521: DeprecationWarning: tostring() is deprecated. Use tobytes() instead.\n",
            "  tensor_proto.tensor_content = nparray.tostring()\n"
          ],
          "name": "stderr"
        },
        {
          "output_type": "stream",
          "text": [
            "Epoch 1/5\n",
            "78/78 [==============================] - 9s 118ms/step - loss: 2.1271 - accuracy: 0.3758\n",
            "Epoch 2/5\n",
            "78/78 [==============================] - 9s 115ms/step - loss: 0.9381 - accuracy: 0.7774\n",
            "Epoch 3/5\n",
            "78/78 [==============================] - 9s 115ms/step - loss: 0.3694 - accuracy: 0.8936\n",
            "Epoch 4/5\n",
            "78/78 [==============================] - 9s 115ms/step - loss: 0.2737 - accuracy: 0.9137\n",
            "Epoch 5/5\n",
            "78/78 [==============================] - 9s 116ms/step - loss: 0.2535 - accuracy: 0.9161\n",
            "5000/5000 [==============================] - 3s 563us/step\n",
            "Argmax CopycatCNN : 0.90420001745224\n"
          ],
          "name": "stdout"
        },
        {
          "output_type": "stream",
          "text": [
            "/tensorflow-1.15.2/python3.7/tensorflow_core/python/framework/tensor_util.py:521: DeprecationWarning: tostring() is deprecated. Use tobytes() instead.\n",
            "  tensor_proto.tensor_content = nparray.tostring()\n"
          ],
          "name": "stderr"
        },
        {
          "output_type": "stream",
          "text": [
            "5000/5000 [==============================] - 3s 562us/step\n",
            "Probabilistic KnockoffNets : 0.9052000045776367\n"
          ],
          "name": "stdout"
        },
        {
          "output_type": "stream",
          "text": [
            "/tensorflow-1.15.2/python3.7/tensorflow_core/python/framework/tensor_util.py:521: DeprecationWarning: tostring() is deprecated. Use tobytes() instead.\n",
            "  tensor_proto.tensor_content = nparray.tostring()\n"
          ],
          "name": "stderr"
        },
        {
          "output_type": "stream",
          "text": [
            "5000/5000 [==============================] - 3s 552us/step\n",
            "Argmax KnockoffNets : 0.894599974155426\n"
          ],
          "name": "stdout"
        }
      ]
    },
    {
      "cell_type": "code",
      "metadata": {
        "colab": {
          "base_uri": "https://localhost:8080/",
          "height": 388
        },
        "id": "xD358QXZaRrE",
        "outputId": "f08c51e3-8b95-42b5-fd3a-fac213742ecd"
      },
      "source": [
        "import pandas as pd\n",
        "df = pd.DataFrame(results, columns=('Method Name', 'Stealing Dataset Size', 'Accuracy'))\n",
        "fig, ax = plt.subplots(figsize=(8,6))\n",
        "ax.set_xlabel(\"Stealing Dataset Size\")\n",
        "ax.set_ylabel(\"Stolen Model Accuracy\")\n",
        "for name, group in df.groupby(\"Method Name\"):\n",
        "    group.plot(1, 2, ax=ax, label=name)\n",
        "plt.show()"
      ],
      "execution_count": 9,
      "outputs": [
        {
          "output_type": "display_data",
          "data": {
            "image/png": "[encoded data removed]",
            "text/plain": [
              "<Figure size 576x432 with 1 Axes>"
            ]
          },
          "metadata": {
            "tags": [],
            "needs_background": "light"
          }
        }
      ]
    },
    {
      "cell_type": "code",
      "metadata": {
        "id": "2YxD9l3mdJTP"
      },
      "source": [
        "from art.defences.postprocessor import ReverseSigmoid\n",
        "postprocessor = ReverseSigmoid(beta=1.0, gamma=0.2)\n",
        "classifier_protected = KerasClassifier(model, clip_values=(0, 1), use_logits=False, postprocessing_defences=postprocessor)\n",
        "\n",
        "# Below is used by `FunctionallyEquivalentExtraction`.\n",
        "model_flat = Sequential([InputLayer([784]), Reshape([28, 28, 1]), model])\n",
        "model_flat.compile('sgd', 'categorical_crossentropy', ['accuracy'])\n",
        "classifier_flat_protected = KerasClassifier(model_flat, clip_values=(0, 1), use_logits=False, postprocessing_defences=postprocessor)"
      ],
      "execution_count": 10,
      "outputs": []
    },
    {
      "cell_type": "code",
      "metadata": {
        "colab": {
          "base_uri": "https://localhost:8080/"
        },
        "id": "5u-rPDNvdLIy",
        "outputId": "43491dc2-81f6-488e-b3f4-104daa427277"
      },
      "source": [
        "attack_catalogue = {\n",
        "                    \"Probabilistic CopycatCNN (vs. Protected)\": CopycatCNN(classifier=classifier_protected,\n",
        "                                              batch_size_fit=64,\n",
        "                                              batch_size_query=64,\n",
        "                                              nb_epochs=num_epochs,\n",
        "                                              nb_stolen=len_steal,\n",
        "                                              use_probability=True),\n",
        "                    \"Argmax CopycatCNN (vs. Protected)\": CopycatCNN(classifier=classifier_protected,\n",
        "                                              batch_size_fit=64,\n",
        "                                              batch_size_query=64,\n",
        "                                              nb_epochs=num_epochs,\n",
        "                                              nb_stolen=len_steal,\n",
        "                                              use_probability=False),\n",
        "                    \"Probabilistic KnockoffNets (vs. Protected)\": KnockoffNets(classifier=classifier_protected,\n",
        "                                              batch_size_fit=64,\n",
        "                                              batch_size_query=64,\n",
        "                                              nb_epochs=num_epochs,\n",
        "                                              nb_stolen=len_steal,\n",
        "                                              use_probability=True),\n",
        "                    \"Argmax KnockoffNets (vs. Protected)\": KnockoffNets(classifier=classifier_protected,\n",
        "                                              batch_size_fit=64,\n",
        "                                              batch_size_query=64,\n",
        "                                              nb_epochs=num_epochs,\n",
        "                                              nb_stolen=len_steal,\n",
        "                                              use_probability=False),\n",
        "#                     \"FunctionallyEquivalentExtraction\": FunctionallyEquivalentExtraction(classifier=classifier_flat_protected,\n",
        "#                                               num_neurons=128),  # This one takes too long time for this dataset/model.\n",
        "                    }\n",
        "\n",
        "results_protected = []\n",
        "for len_steal in [250, 500, 1000, 2000, 4000, 5000]:\n",
        "    indices = np.random.permutation(len(x_test0))\n",
        "    x_steal = x_test0[indices[:len_steal]]\n",
        "    y_steal = y_test0[indices[:len_steal]]\n",
        "    x_test = x_test0[indices[len_steal:]]\n",
        "    y_test = y_test0[indices[len_steal:]]\n",
        "\n",
        "    for name, attack in attack_catalogue.items():\n",
        "        model_stolen = get_model(num_classes=10, c1=32, c2=64, d1=128)\n",
        "        classifier_stolen = KerasClassifier(model_stolen, clip_values=(0, 1), use_logits=False)\n",
        "        if name==\"FunctionallyEquivalentExtraction\":\n",
        "            classifier_stolen = attack.extract(np.reshape(x_steal, [len(x_steal), -1]), y_steal, thieved_classifier=classifier_stolen)\n",
        "        else:\n",
        "            classifier_stolen = attack.extract(x_steal, y_steal, thieved_classifier=classifier_stolen)\n",
        "        \n",
        "        acc = classifier_stolen._model.evaluate(x_test, y_test)[1]\n",
        "        print(name, \":\", acc)\n",
        "        results_protected.append((name, len_steal, acc))"
      ],
      "execution_count": 11,
      "outputs": [
        {
          "output_type": "stream",
          "text": [
            "/tensorflow-1.15.2/python3.7/tensorflow_core/python/framework/tensor_util.py:521: DeprecationWarning: tostring() is deprecated. Use tobytes() instead.\n",
            "  tensor_proto.tensor_content = nparray.tostring()\n",
            "/tensorflow-1.15.2/python3.7/tensorflow_core/python/framework/tensor_util.py:521: DeprecationWarning: tostring() is deprecated. Use tobytes() instead.\n",
            "  tensor_proto.tensor_content = nparray.tostring()\n"
          ],
          "name": "stderr"
        },
        {
          "output_type": "stream",
          "text": [
            "Epoch 1/5\n",
            "3/3 [==============================] - 1s 198ms/step - loss: 2.3031 - accuracy: 0.2031\n",
            "Epoch 2/5\n",
            "3/3 [==============================] - 0s 112ms/step - loss: 2.3038 - accuracy: 0.2552\n",
            "Epoch 3/5\n",
            "3/3 [==============================] - 0s 112ms/step - loss: 2.3039 - accuracy: 0.1562\n",
            "Epoch 4/5\n",
            "3/3 [==============================] - 0s 113ms/step - loss: 2.3033 - accuracy: 0.2083\n",
            "Epoch 5/5\n",
            "3/3 [==============================] - 0s 113ms/step - loss: 2.3032 - accuracy: 0.2083\n",
            "9750/9750 [==============================] - 5s 536us/step\n",
            "Probabilistic CopycatCNN (vs. Protected) : 0.18974359333515167\n"
          ],
          "name": "stdout"
        },
        {
          "output_type": "stream",
          "text": [
            "/tensorflow-1.15.2/python3.7/tensorflow_core/python/framework/tensor_util.py:521: DeprecationWarning: tostring() is deprecated. Use tobytes() instead.\n",
            "  tensor_proto.tensor_content = nparray.tostring()\n"
          ],
          "name": "stderr"
        },
        {
          "output_type": "stream",
          "text": [
            "Epoch 1/5\n",
            "3/3 [==============================] - 1s 190ms/step - loss: 2.2854 - accuracy: 0.1458\n",
            "Epoch 2/5\n",
            "3/3 [==============================] - 0s 119ms/step - loss: 2.2602 - accuracy: 0.1667\n",
            "Epoch 3/5\n",
            "3/3 [==============================] - 0s 113ms/step - loss: 2.2361 - accuracy: 0.1719\n",
            "Epoch 4/5\n",
            "3/3 [==============================] - 0s 113ms/step - loss: 2.2245 - accuracy: 0.2240\n",
            "Epoch 5/5\n",
            "3/3 [==============================] - 0s 110ms/step - loss: 2.1957 - accuracy: 0.2917\n",
            "9750/9750 [==============================] - 5s 531us/step\n",
            "Argmax CopycatCNN (vs. Protected) : 0.2155897468328476\n"
          ],
          "name": "stdout"
        },
        {
          "output_type": "stream",
          "text": [
            "/tensorflow-1.15.2/python3.7/tensorflow_core/python/framework/tensor_util.py:521: DeprecationWarning: tostring() is deprecated. Use tobytes() instead.\n",
            "  tensor_proto.tensor_content = nparray.tostring()\n"
          ],
          "name": "stderr"
        },
        {
          "output_type": "stream",
          "text": [
            "9750/9750 [==============================] - 5s 554us/step\n",
            "Probabilistic KnockoffNets (vs. Protected) : 0.10164102911949158\n"
          ],
          "name": "stdout"
        },
        {
          "output_type": "stream",
          "text": [
            "/tensorflow-1.15.2/python3.7/tensorflow_core/python/framework/tensor_util.py:521: DeprecationWarning: tostring() is deprecated. Use tobytes() instead.\n",
            "  tensor_proto.tensor_content = nparray.tostring()\n"
          ],
          "name": "stderr"
        },
        {
          "output_type": "stream",
          "text": [
            "9750/9750 [==============================] - 5s 556us/step\n",
            "Argmax KnockoffNets (vs. Protected) : 0.2434871792793274\n"
          ],
          "name": "stdout"
        },
        {
          "output_type": "stream",
          "text": [
            "/tensorflow-1.15.2/python3.7/tensorflow_core/python/framework/tensor_util.py:521: DeprecationWarning: tostring() is deprecated. Use tobytes() instead.\n",
            "  tensor_proto.tensor_content = nparray.tostring()\n"
          ],
          "name": "stderr"
        },
        {
          "output_type": "stream",
          "text": [
            "Epoch 1/5\n",
            "7/7 [==============================] - 1s 156ms/step - loss: 2.3051 - accuracy: 0.1652\n",
            "Epoch 2/5\n",
            "7/7 [==============================] - 1s 113ms/step - loss: 2.3040 - accuracy: 0.1808\n",
            "Epoch 3/5\n",
            "7/7 [==============================] - 1s 114ms/step - loss: 2.3042 - accuracy: 0.1518\n",
            "Epoch 4/5\n",
            "7/7 [==============================] - 1s 116ms/step - loss: 2.3036 - accuracy: 0.1674\n",
            "Epoch 5/5\n",
            "7/7 [==============================] - 1s 115ms/step - loss: 2.3034 - accuracy: 0.1496\n",
            "9500/9500 [==============================] - 5s 546us/step\n",
            "Probabilistic CopycatCNN (vs. Protected) : 0.1749473661184311\n"
          ],
          "name": "stdout"
        },
        {
          "output_type": "stream",
          "text": [
            "/tensorflow-1.15.2/python3.7/tensorflow_core/python/framework/tensor_util.py:521: DeprecationWarning: tostring() is deprecated. Use tobytes() instead.\n",
            "  tensor_proto.tensor_content = nparray.tostring()\n"
          ],
          "name": "stderr"
        },
        {
          "output_type": "stream",
          "text": [
            "Epoch 1/5\n",
            "7/7 [==============================] - 1s 161ms/step - loss: 2.2881 - accuracy: 0.1629\n",
            "Epoch 2/5\n",
            "7/7 [==============================] - 1s 117ms/step - loss: 2.2750 - accuracy: 0.1741\n",
            "Epoch 3/5\n",
            "7/7 [==============================] - 1s 114ms/step - loss: 2.2601 - accuracy: 0.2411\n",
            "Epoch 4/5\n",
            "7/7 [==============================] - 1s 115ms/step - loss: 2.2351 - accuracy: 0.2857\n",
            "Epoch 5/5\n",
            "7/7 [==============================] - 1s 115ms/step - loss: 2.2032 - accuracy: 0.3772\n",
            "9500/9500 [==============================] - 5s 559us/step\n",
            "Argmax CopycatCNN (vs. Protected) : 0.41252630949020386\n"
          ],
          "name": "stdout"
        },
        {
          "output_type": "stream",
          "text": [
            "/tensorflow-1.15.2/python3.7/tensorflow_core/python/framework/tensor_util.py:521: DeprecationWarning: tostring() is deprecated. Use tobytes() instead.\n",
            "  tensor_proto.tensor_content = nparray.tostring()\n"
          ],
          "name": "stderr"
        },
        {
          "output_type": "stream",
          "text": [
            "9500/9500 [==============================] - 5s 554us/step\n",
            "Probabilistic KnockoffNets (vs. Protected) : 0.13526315987110138\n"
          ],
          "name": "stdout"
        },
        {
          "output_type": "stream",
          "text": [
            "/tensorflow-1.15.2/python3.7/tensorflow_core/python/framework/tensor_util.py:521: DeprecationWarning: tostring() is deprecated. Use tobytes() instead.\n",
            "  tensor_proto.tensor_content = nparray.tostring()\n"
          ],
          "name": "stderr"
        },
        {
          "output_type": "stream",
          "text": [
            "9500/9500 [==============================] - 5s 563us/step\n",
            "Argmax KnockoffNets (vs. Protected) : 0.27399998903274536\n"
          ],
          "name": "stdout"
        },
        {
          "output_type": "stream",
          "text": [
            "/usr/local/lib/python3.7/dist-packages/art/defences/postprocessor/reverse_sigmoid.py:75: RuntimeWarning: divide by zero encountered in log\n",
            "  perturbation_r = self.beta * (sigmoid(-self.gamma * np.log((1.0 - preds_clipped) / preds_clipped)) - 0.5)\n",
            "/tensorflow-1.15.2/python3.7/tensorflow_core/python/framework/tensor_util.py:521: DeprecationWarning: tostring() is deprecated. Use tobytes() instead.\n",
            "  tensor_proto.tensor_content = nparray.tostring()\n"
          ],
          "name": "stderr"
        },
        {
          "output_type": "stream",
          "text": [
            "Epoch 1/5\n",
            "15/15 [==============================] - 2s 137ms/step - loss: 2.3034 - accuracy: 0.1167\n",
            "Epoch 2/5\n",
            "15/15 [==============================] - 2s 115ms/step - loss: 2.3028 - accuracy: 0.1292\n",
            "Epoch 3/5\n",
            "15/15 [==============================] - 2s 115ms/step - loss: 2.3024 - accuracy: 0.1208\n",
            "Epoch 4/5\n",
            "15/15 [==============================] - 2s 114ms/step - loss: 2.3024 - accuracy: 0.1250\n",
            "Epoch 5/5\n",
            "15/15 [==============================] - 2s 115ms/step - loss: 2.3020 - accuracy: 0.1281\n",
            "9000/9000 [==============================] - 5s 556us/step\n",
            "Probabilistic CopycatCNN (vs. Protected) : 0.13699999451637268\n"
          ],
          "name": "stdout"
        },
        {
          "output_type": "stream",
          "text": [
            "/usr/local/lib/python3.7/dist-packages/art/defences/postprocessor/reverse_sigmoid.py:75: RuntimeWarning: divide by zero encountered in log\n",
            "  perturbation_r = self.beta * (sigmoid(-self.gamma * np.log((1.0 - preds_clipped) / preds_clipped)) - 0.5)\n",
            "/tensorflow-1.15.2/python3.7/tensorflow_core/python/framework/tensor_util.py:521: DeprecationWarning: tostring() is deprecated. Use tobytes() instead.\n",
            "  tensor_proto.tensor_content = nparray.tostring()\n"
          ],
          "name": "stderr"
        },
        {
          "output_type": "stream",
          "text": [
            "Epoch 1/5\n",
            "15/15 [==============================] - 2s 135ms/step - loss: 2.2812 - accuracy: 0.1677\n",
            "Epoch 2/5\n",
            "15/15 [==============================] - 2s 114ms/step - loss: 2.2450 - accuracy: 0.2990\n",
            "Epoch 3/5\n",
            "15/15 [==============================] - 2s 115ms/step - loss: 2.1912 - accuracy: 0.4000\n",
            "Epoch 4/5\n",
            "15/15 [==============================] - 2s 115ms/step - loss: 2.1039 - accuracy: 0.4781\n",
            "Epoch 5/5\n",
            "15/15 [==============================] - 2s 115ms/step - loss: 1.9494 - accuracy: 0.5552\n",
            "9000/9000 [==============================] - 5s 568us/step\n",
            "Argmax CopycatCNN (vs. Protected) : 0.5131111145019531\n"
          ],
          "name": "stdout"
        },
        {
          "output_type": "stream",
          "text": [
            "/usr/local/lib/python3.7/dist-packages/art/defences/postprocessor/reverse_sigmoid.py:75: RuntimeWarning: divide by zero encountered in log\n",
            "  perturbation_r = self.beta * (sigmoid(-self.gamma * np.log((1.0 - preds_clipped) / preds_clipped)) - 0.5)\n",
            "/tensorflow-1.15.2/python3.7/tensorflow_core/python/framework/tensor_util.py:521: DeprecationWarning: tostring() is deprecated. Use tobytes() instead.\n",
            "  tensor_proto.tensor_content = nparray.tostring()\n"
          ],
          "name": "stderr"
        },
        {
          "output_type": "stream",
          "text": [
            "9000/9000 [==============================] - 5s 560us/step\n",
            "Probabilistic KnockoffNets (vs. Protected) : 0.14488889276981354\n"
          ],
          "name": "stdout"
        },
        {
          "output_type": "stream",
          "text": [
            "/usr/local/lib/python3.7/dist-packages/art/defences/postprocessor/reverse_sigmoid.py:75: RuntimeWarning: divide by zero encountered in log\n",
            "  perturbation_r = self.beta * (sigmoid(-self.gamma * np.log((1.0 - preds_clipped) / preds_clipped)) - 0.5)\n",
            "/tensorflow-1.15.2/python3.7/tensorflow_core/python/framework/tensor_util.py:521: DeprecationWarning: tostring() is deprecated. Use tobytes() instead.\n",
            "  tensor_proto.tensor_content = nparray.tostring()\n"
          ],
          "name": "stderr"
        },
        {
          "output_type": "stream",
          "text": [
            "9000/9000 [==============================] - 5s 579us/step\n",
            "Argmax KnockoffNets (vs. Protected) : 0.6983333230018616\n"
          ],
          "name": "stdout"
        },
        {
          "output_type": "stream",
          "text": [
            "/usr/local/lib/python3.7/dist-packages/art/defences/postprocessor/reverse_sigmoid.py:75: RuntimeWarning: divide by zero encountered in log\n",
            "  perturbation_r = self.beta * (sigmoid(-self.gamma * np.log((1.0 - preds_clipped) / preds_clipped)) - 0.5)\n",
            "/tensorflow-1.15.2/python3.7/tensorflow_core/python/framework/tensor_util.py:521: DeprecationWarning: tostring() is deprecated. Use tobytes() instead.\n",
            "  tensor_proto.tensor_content = nparray.tostring()\n"
          ],
          "name": "stderr"
        },
        {
          "output_type": "stream",
          "text": [
            "Epoch 1/5\n",
            "31/31 [==============================] - 4s 127ms/step - loss: 2.3033 - accuracy: 0.1472\n",
            "Epoch 2/5\n",
            "31/31 [==============================] - 4s 115ms/step - loss: 2.3028 - accuracy: 0.1532\n",
            "Epoch 3/5\n",
            "31/31 [==============================] - 4s 115ms/step - loss: 2.3023 - accuracy: 0.1855\n",
            "Epoch 4/5\n",
            "31/31 [==============================] - 4s 115ms/step - loss: 2.3018 - accuracy: 0.2213\n",
            "Epoch 5/5\n",
            "31/31 [==============================] - 4s 116ms/step - loss: 2.3018 - accuracy: 0.2082\n",
            "8000/8000 [==============================] - 5s 569us/step\n",
            "Probabilistic CopycatCNN (vs. Protected) : 0.234375\n"
          ],
          "name": "stdout"
        },
        {
          "output_type": "stream",
          "text": [
            "/usr/local/lib/python3.7/dist-packages/art/defences/postprocessor/reverse_sigmoid.py:75: RuntimeWarning: divide by zero encountered in log\n",
            "  perturbation_r = self.beta * (sigmoid(-self.gamma * np.log((1.0 - preds_clipped) / preds_clipped)) - 0.5)\n",
            "/tensorflow-1.15.2/python3.7/tensorflow_core/python/framework/tensor_util.py:521: DeprecationWarning: tostring() is deprecated. Use tobytes() instead.\n",
            "  tensor_proto.tensor_content = nparray.tostring()\n"
          ],
          "name": "stderr"
        },
        {
          "output_type": "stream",
          "text": [
            "Epoch 1/5\n",
            "31/31 [==============================] - 4s 125ms/step - loss: 2.2721 - accuracy: 0.1658\n",
            "Epoch 2/5\n",
            "31/31 [==============================] - 4s 114ms/step - loss: 2.1720 - accuracy: 0.4062\n",
            "Epoch 3/5\n",
            "31/31 [==============================] - 4s 114ms/step - loss: 1.8695 - accuracy: 0.6003\n",
            "Epoch 4/5\n",
            "31/31 [==============================] - 4s 114ms/step - loss: 1.1392 - accuracy: 0.7727\n",
            "Epoch 5/5\n",
            "31/31 [==============================] - 4s 114ms/step - loss: 0.6716 - accuracy: 0.8322\n",
            "8000/8000 [==============================] - 5s 578us/step\n",
            "Argmax CopycatCNN (vs. Protected) : 0.856374979019165\n"
          ],
          "name": "stdout"
        },
        {
          "output_type": "stream",
          "text": [
            "/usr/local/lib/python3.7/dist-packages/art/defences/postprocessor/reverse_sigmoid.py:75: RuntimeWarning: divide by zero encountered in log\n",
            "  perturbation_r = self.beta * (sigmoid(-self.gamma * np.log((1.0 - preds_clipped) / preds_clipped)) - 0.5)\n",
            "/tensorflow-1.15.2/python3.7/tensorflow_core/python/framework/tensor_util.py:521: DeprecationWarning: tostring() is deprecated. Use tobytes() instead.\n",
            "  tensor_proto.tensor_content = nparray.tostring()\n"
          ],
          "name": "stderr"
        },
        {
          "output_type": "stream",
          "text": [
            "8000/8000 [==============================] - 5s 594us/step\n",
            "Probabilistic KnockoffNets (vs. Protected) : 0.2122499942779541\n"
          ],
          "name": "stdout"
        },
        {
          "output_type": "stream",
          "text": [
            "/usr/local/lib/python3.7/dist-packages/art/defences/postprocessor/reverse_sigmoid.py:75: RuntimeWarning: divide by zero encountered in log\n",
            "  perturbation_r = self.beta * (sigmoid(-self.gamma * np.log((1.0 - preds_clipped) / preds_clipped)) - 0.5)\n",
            "/tensorflow-1.15.2/python3.7/tensorflow_core/python/framework/tensor_util.py:521: DeprecationWarning: tostring() is deprecated. Use tobytes() instead.\n",
            "  tensor_proto.tensor_content = nparray.tostring()\n"
          ],
          "name": "stderr"
        },
        {
          "output_type": "stream",
          "text": [
            "8000/8000 [==============================] - 5s 584us/step\n",
            "Argmax KnockoffNets (vs. Protected) : 0.8546249866485596\n"
          ],
          "name": "stdout"
        },
        {
          "output_type": "stream",
          "text": [
            "/usr/local/lib/python3.7/dist-packages/art/defences/postprocessor/reverse_sigmoid.py:75: RuntimeWarning: divide by zero encountered in log\n",
            "  perturbation_r = self.beta * (sigmoid(-self.gamma * np.log((1.0 - preds_clipped) / preds_clipped)) - 0.5)\n",
            "/tensorflow-1.15.2/python3.7/tensorflow_core/python/framework/tensor_util.py:521: DeprecationWarning: tostring() is deprecated. Use tobytes() instead.\n",
            "  tensor_proto.tensor_content = nparray.tostring()\n"
          ],
          "name": "stderr"
        },
        {
          "output_type": "stream",
          "text": [
            "Epoch 1/5\n",
            "62/62 [==============================] - 8s 122ms/step - loss: 2.3031 - accuracy: 0.0572\n",
            "Epoch 2/5\n",
            "62/62 [==============================] - 7s 115ms/step - loss: 2.3022 - accuracy: 0.1099\n",
            "Epoch 3/5\n",
            "62/62 [==============================] - 7s 115ms/step - loss: 2.3016 - accuracy: 0.1565\n",
            "Epoch 4/5\n",
            "62/62 [==============================] - 7s 114ms/step - loss: 2.3010 - accuracy: 0.2301\n",
            "Epoch 5/5\n",
            "62/62 [==============================] - 7s 114ms/step - loss: 2.3007 - accuracy: 0.2734\n",
            "6000/6000 [==============================] - 4s 596us/step\n",
            "Probabilistic CopycatCNN (vs. Protected) : 0.29750001430511475\n"
          ],
          "name": "stdout"
        },
        {
          "output_type": "stream",
          "text": [
            "/usr/local/lib/python3.7/dist-packages/art/defences/postprocessor/reverse_sigmoid.py:75: RuntimeWarning: divide by zero encountered in log\n",
            "  perturbation_r = self.beta * (sigmoid(-self.gamma * np.log((1.0 - preds_clipped) / preds_clipped)) - 0.5)\n",
            "/tensorflow-1.15.2/python3.7/tensorflow_core/python/framework/tensor_util.py:521: DeprecationWarning: tostring() is deprecated. Use tobytes() instead.\n",
            "  tensor_proto.tensor_content = nparray.tostring()\n"
          ],
          "name": "stderr"
        },
        {
          "output_type": "stream",
          "text": [
            "Epoch 1/5\n",
            "62/62 [==============================] - 8s 122ms/step - loss: 2.2309 - accuracy: 0.2765\n",
            "Epoch 2/5\n",
            "62/62 [==============================] - 7s 115ms/step - loss: 1.6646 - accuracy: 0.6830\n",
            "Epoch 3/5\n",
            "62/62 [==============================] - 7s 114ms/step - loss: 0.6093 - accuracy: 0.8385\n",
            "Epoch 4/5\n",
            "62/62 [==============================] - 7s 113ms/step - loss: 0.3852 - accuracy: 0.8944\n",
            "Epoch 5/5\n",
            "62/62 [==============================] - 7s 113ms/step - loss: 0.3326 - accuracy: 0.9050\n",
            "6000/6000 [==============================] - 4s 587us/step\n",
            "Argmax CopycatCNN (vs. Protected) : 0.8763333559036255\n"
          ],
          "name": "stdout"
        },
        {
          "output_type": "stream",
          "text": [
            "/usr/local/lib/python3.7/dist-packages/art/defences/postprocessor/reverse_sigmoid.py:75: RuntimeWarning: divide by zero encountered in log\n",
            "  perturbation_r = self.beta * (sigmoid(-self.gamma * np.log((1.0 - preds_clipped) / preds_clipped)) - 0.5)\n",
            "/tensorflow-1.15.2/python3.7/tensorflow_core/python/framework/tensor_util.py:521: DeprecationWarning: tostring() is deprecated. Use tobytes() instead.\n",
            "  tensor_proto.tensor_content = nparray.tostring()\n"
          ],
          "name": "stderr"
        },
        {
          "output_type": "stream",
          "text": [
            "6000/6000 [==============================] - 4s 593us/step\n",
            "Probabilistic KnockoffNets (vs. Protected) : 0.26600000262260437\n"
          ],
          "name": "stdout"
        },
        {
          "output_type": "stream",
          "text": [
            "/usr/local/lib/python3.7/dist-packages/art/defences/postprocessor/reverse_sigmoid.py:75: RuntimeWarning: divide by zero encountered in log\n",
            "  perturbation_r = self.beta * (sigmoid(-self.gamma * np.log((1.0 - preds_clipped) / preds_clipped)) - 0.5)\n",
            "/tensorflow-1.15.2/python3.7/tensorflow_core/python/framework/tensor_util.py:521: DeprecationWarning: tostring() is deprecated. Use tobytes() instead.\n",
            "  tensor_proto.tensor_content = nparray.tostring()\n"
          ],
          "name": "stderr"
        },
        {
          "output_type": "stream",
          "text": [
            "6000/6000 [==============================] - 4s 606us/step\n",
            "Argmax KnockoffNets (vs. Protected) : 0.8901666402816772\n"
          ],
          "name": "stdout"
        },
        {
          "output_type": "stream",
          "text": [
            "/usr/local/lib/python3.7/dist-packages/art/defences/postprocessor/reverse_sigmoid.py:75: RuntimeWarning: divide by zero encountered in log\n",
            "  perturbation_r = self.beta * (sigmoid(-self.gamma * np.log((1.0 - preds_clipped) / preds_clipped)) - 0.5)\n",
            "/tensorflow-1.15.2/python3.7/tensorflow_core/python/framework/tensor_util.py:521: DeprecationWarning: tostring() is deprecated. Use tobytes() instead.\n",
            "  tensor_proto.tensor_content = nparray.tostring()\n"
          ],
          "name": "stderr"
        },
        {
          "output_type": "stream",
          "text": [
            "Epoch 1/5\n",
            "78/78 [==============================] - 9s 119ms/step - loss: 2.3029 - accuracy: 0.1352\n",
            "Epoch 2/5\n",
            "78/78 [==============================] - 9s 113ms/step - loss: 2.3021 - accuracy: 0.1484\n",
            "Epoch 3/5\n",
            "78/78 [==============================] - 9s 113ms/step - loss: 2.3016 - accuracy: 0.2109\n",
            "Epoch 4/5\n",
            "78/78 [==============================] - 9s 113ms/step - loss: 2.3012 - accuracy: 0.2819\n",
            "Epoch 5/5\n",
            "78/78 [==============================] - 9s 112ms/step - loss: 2.3009 - accuracy: 0.3355\n",
            "5000/5000 [==============================] - 3s 624us/step\n",
            "Probabilistic CopycatCNN (vs. Protected) : 0.33660000562667847\n"
          ],
          "name": "stdout"
        },
        {
          "output_type": "stream",
          "text": [
            "/usr/local/lib/python3.7/dist-packages/art/defences/postprocessor/reverse_sigmoid.py:75: RuntimeWarning: divide by zero encountered in log\n",
            "  perturbation_r = self.beta * (sigmoid(-self.gamma * np.log((1.0 - preds_clipped) / preds_clipped)) - 0.5)\n",
            "/tensorflow-1.15.2/python3.7/tensorflow_core/python/framework/tensor_util.py:521: DeprecationWarning: tostring() is deprecated. Use tobytes() instead.\n",
            "  tensor_proto.tensor_content = nparray.tostring()\n"
          ],
          "name": "stderr"
        },
        {
          "output_type": "stream",
          "text": [
            "Epoch 1/5\n",
            "78/78 [==============================] - 9s 119ms/step - loss: 2.1580 - accuracy: 0.4195\n",
            "Epoch 2/5\n",
            "78/78 [==============================] - 9s 113ms/step - loss: 1.0407 - accuracy: 0.7666\n",
            "Epoch 3/5\n",
            "78/78 [==============================] - 9s 113ms/step - loss: 0.4330 - accuracy: 0.8756\n",
            "Epoch 4/5\n",
            "78/78 [==============================] - 9s 113ms/step - loss: 0.3230 - accuracy: 0.9087\n",
            "Epoch 5/5\n",
            "78/78 [==============================] - 9s 113ms/step - loss: 0.2742 - accuracy: 0.9187\n",
            "5000/5000 [==============================] - 3s 628us/step\n",
            "Argmax CopycatCNN (vs. Protected) : 0.9010000228881836\n"
          ],
          "name": "stdout"
        },
        {
          "output_type": "stream",
          "text": [
            "/usr/local/lib/python3.7/dist-packages/art/defences/postprocessor/reverse_sigmoid.py:75: RuntimeWarning: divide by zero encountered in log\n",
            "  perturbation_r = self.beta * (sigmoid(-self.gamma * np.log((1.0 - preds_clipped) / preds_clipped)) - 0.5)\n",
            "/tensorflow-1.15.2/python3.7/tensorflow_core/python/framework/tensor_util.py:521: DeprecationWarning: tostring() is deprecated. Use tobytes() instead.\n",
            "  tensor_proto.tensor_content = nparray.tostring()\n"
          ],
          "name": "stderr"
        },
        {
          "output_type": "stream",
          "text": [
            "5000/5000 [==============================] - 3s 603us/step\n",
            "Probabilistic KnockoffNets (vs. Protected) : 0.3418000042438507\n"
          ],
          "name": "stdout"
        },
        {
          "output_type": "stream",
          "text": [
            "/usr/local/lib/python3.7/dist-packages/art/defences/postprocessor/reverse_sigmoid.py:75: RuntimeWarning: divide by zero encountered in log\n",
            "  perturbation_r = self.beta * (sigmoid(-self.gamma * np.log((1.0 - preds_clipped) / preds_clipped)) - 0.5)\n",
            "/tensorflow-1.15.2/python3.7/tensorflow_core/python/framework/tensor_util.py:521: DeprecationWarning: tostring() is deprecated. Use tobytes() instead.\n",
            "  tensor_proto.tensor_content = nparray.tostring()\n"
          ],
          "name": "stderr"
        },
        {
          "output_type": "stream",
          "text": [
            "5000/5000 [==============================] - 3s 639us/step\n",
            "Argmax KnockoffNets (vs. Protected) : 0.8931999802589417\n"
          ],
          "name": "stdout"
        }
      ]
    },
    {
      "cell_type": "code",
      "metadata": {
        "colab": {
          "base_uri": "https://localhost:8080/",
          "height": 388
        },
        "id": "824ID1yFduqL",
        "outputId": "ba63622f-f31e-40e6-c039-4be037ebdd75"
      },
      "source": [
        "import pandas as pd\n",
        "df_protected = pd.DataFrame(results_protected, columns=('Method Name', 'Stealing Dataset Size', 'Accuracy'))\n",
        "fig, ax = plt.subplots(figsize=(8,6))\n",
        "ax.set_xlabel(\"Stealing Dataset Size\")\n",
        "ax.set_ylabel(\"Stolen Model Accuracy\")\n",
        "for name, group in df_protected.groupby(\"Method Name\"):\n",
        "    group.plot(1, 2, ax=ax, label=name)\n",
        "plt.show()"
      ],
      "execution_count": 12,
      "outputs": [
        {
          "output_type": "display_data",
          "data": {
            "image/png": "[encoded data removed]",
            "text/plain": [
              "<Figure size 576x432 with 1 Axes>"
            ]
          },
          "metadata": {
            "tags": [],
            "needs_background": "light"
          }
        }
      ]
    },
    {
      "cell_type": "code",
      "metadata": {
        "id": "9edIHdGUeW-Q"
      },
      "source": [
        "df_combined = pd.concat([df, df_protected])\n",
        "groupby = df_combined.groupby(\"Method Name\")"
      ],
      "execution_count": 13,
      "outputs": []
    },
    {
      "cell_type": "code",
      "metadata": {
        "colab": {
          "base_uri": "https://localhost:8080/",
          "height": 759
        },
        "id": "mNUffSq4ebaB",
        "outputId": "4fd2fc9e-c346-410b-8a27-768f849103f7"
      },
      "source": [
        "names = [\"CopycatCNN\", \"KnockoffNets\"]\n",
        "for name in names:\n",
        "    fig, ax = plt.subplots(figsize=(8,6))\n",
        "    groupby.get_group(\"Probabilistic \" + name).plot(1,2,ax=ax, label=\"Probabilistic \" + name)\n",
        "    groupby.get_group(\"Probabilistic \" + name + \" (vs. Protected)\").plot(1,2,ax=ax, label=\"Probabilistic \" + name + \" (vs. Protected)\")\n",
        "    ax.set_xlabel(\"Stealing Dataset Size\")\n",
        "    ax.set_ylabel(\"Stolen Model Accuracy\")\n",
        "    fig.show()\n"
      ],
      "execution_count": 14,
      "outputs": [
        {
          "output_type": "display_data",
          "data": {
            "image/png": "[encoded data removed]",
            "text/plain": [
              "<Figure size 576x432 with 1 Axes>"
            ]
          },
          "metadata": {
            "tags": [],
            "needs_background": "light"
          }
        },
        {
          "output_type": "display_data",
          "data": {
            "image/png": "[encoded data removed]",
            "text/plain": [
              "<Figure size 576x432 with 1 Axes>"
            ]
          },
          "metadata": {
            "tags": [],
            "needs_background": "light"
          }
        }
      ]
    }
  ]
}